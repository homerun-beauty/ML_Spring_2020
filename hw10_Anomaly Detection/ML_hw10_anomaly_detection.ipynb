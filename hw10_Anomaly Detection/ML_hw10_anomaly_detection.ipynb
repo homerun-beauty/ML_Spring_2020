{
  "nbformat": 4,
  "nbformat_minor": 0,
  "metadata": {
    "colab": {
      "name": "ML_hw10_anomaly_detection.ipynb",
      "provenance": [],
      "collapsed_sections": []
    },
    "kernelspec": {
      "name": "python3",
      "display_name": "Python 3"
    },
    "accelerator": "GPU"
  },
  "cells": [
    {
      "cell_type": "markdown",
      "metadata": {
        "id": "YiVfKn-6tXz8",
        "colab_type": "text"
      },
      "source": [
        "# **Homework 10 - Anomaly Detection**\n"
      ]
    },
    {
      "cell_type": "markdown",
      "metadata": {
        "id": "DsKq4XQiiBAv",
        "colab_type": "text"
      },
      "source": [
        "## **goal**\n",
        "\n",
        "----- strong baseline -----\n",
        "0.64367      \n",
        "----- simple baseline -----\n",
        "0.54022   \n",
        "\n",
        "**助教的 code:**       \n",
        "KNN => 0.61855      \n",
        "PCA => 0.58829     \n",
        "AE  => fcn: 0.58737 / cnn: 0.55259/ vae: 0.58219"
      ]
    },
    {
      "cell_type": "markdown",
      "metadata": {
        "id": "6qLcLuhETSDH",
        "colab_type": "text"
      },
      "source": [
        "# Load and preprocess data"
      ]
    },
    {
      "cell_type": "code",
      "metadata": {
        "id": "qcdjA8kvlBUh",
        "colab_type": "code",
        "colab": {}
      },
      "source": [
        "folder_path = './'"
      ],
      "execution_count": null,
      "outputs": []
    },
    {
      "cell_type": "code",
      "metadata": {
        "id": "cBo2oxu_WmZY",
        "colab_type": "code",
        "colab": {}
      },
      "source": [
        "# TA\n",
        "# !gdown --id '1_zT3JOpvXFGr7mkxs3XJDeGxTn_8pItq' --output train.npy \n",
        "# !gdown --id '11Y_6JDjlhIY-M5-jW1rLRshDMqeKi9Kr' --output test.npy \n",
        "\n",
        "# mine\n",
        "!gdown --id '11N-BEVu5jIyRaDcF_NpuWWHRVDuKdQvB' --output train.npy \n",
        "!gdown --id '1dJQa-yVuSXvVjjcfOfUOAXBuRZQjm230' --output test.npy\n",
        "\n",
        "import numpy as np\n",
        "\n",
        "# allow_pickle: 可選，布爾值，允許使用 Python pickles 保存對像數組，Python 中的 pickle 用於在保存到磁盤文件或從磁盤文件讀取之前，對對象進行序列化和反序列化。\n",
        "train = np.load('train.npy', allow_pickle=True) \n",
        "test = np.load('test.npy', allow_pickle=True)\n",
        "\n",
        "!ls\n",
        "# train 40000 筆\n",
        "# test 10000 筆"
      ],
      "execution_count": null,
      "outputs": []
    },
    {
      "cell_type": "markdown",
      "metadata": {
        "id": "LrpPP6x3XHo_",
        "colab_type": "text"
      },
      "source": [
        "# Task"
      ]
    },
    {
      "cell_type": "markdown",
      "metadata": {
        "id": "JbTcv510uhi6",
        "colab_type": "text"
      },
      "source": [
        "這份作業要執行的 task 是 semi-supervised anomaly detection，也就是說 training set 是乾淨的，testing 的時候才會混進 outlier data (anomaly)。\n",
        "我們以某個簡單的 image dataset（image 加上他們的 label（分類））作為示範，training data 為原先 training set 中的某幾類，而 testing data 則是原先 testing set 的所有 data，要偵測的 anomaly 為 training data 中未出現的類別。label 的部分，1 為 outlier data，而 0 為 inlier data（相對於 outlier）。正確率以 AUC 計算。\n",
        "\n",
        "方法以下列舉 3 種： KNN, PCA, Autoencoder。"
      ]
    },
    {
      "cell_type": "code",
      "metadata": {
        "id": "Z8W5yR5HlXRv",
        "colab_type": "code",
        "colab": {}
      },
      "source": [
        "import random\n",
        "import torch\n",
        "import numpy as np\n",
        "\n",
        "# 固定隨機種子\n",
        "def same_seeds(seed):\n",
        "    torch.manual_seed(seed)\n",
        "    if torch.cuda.is_available():\n",
        "        torch.cuda.manual_seed(seed)\n",
        "        torch.cuda.manual_seed_all(seed)  # if you are using multi-GPU.\n",
        "    np.random.seed(seed)  # Numpy module.\n",
        "    random.seed(seed)  # Python random module.\n",
        "    torch.backends.cudnn.benchmark = False\n",
        "    torch.backends.cudnn.deterministic = True\n",
        "\n",
        "same_seeds(0)"
      ],
      "execution_count": null,
      "outputs": []
    },
    {
      "cell_type": "markdown",
      "metadata": {
        "id": "zR9zC0_Df-CR",
        "colab_type": "text"
      },
      "source": [
        "# Autoencoder"
      ]
    },
    {
      "cell_type": "markdown",
      "metadata": {
        "id": "1EbfwRREhA7c",
        "colab_type": "text"
      },
      "source": [
        "# Models & loss"
      ]
    },
    {
      "cell_type": "markdown",
      "metadata": {
        "id": "xUUIwFm02qEL",
        "colab_type": "text"
      },
      "source": [
        "課程影片參見：https://www.youtube.com/watch?v=6W8FqUGYyDo&list=PLJV_el3uVTsOK_ZK5L0Iv_EQoL1JefRL4&index=8"
      ]
    },
    {
      "cell_type": "markdown",
      "metadata": {
        "id": "QEa6PDgYNgaC",
        "colab_type": "text"
      },
      "source": [
        "Fully Convolution Network Introduction: https://zhuanlan.zhihu.com/p/31428783"
      ]
    },
    {
      "cell_type": "markdown",
      "metadata": {
        "id": "lESPM7C9svYa",
        "colab_type": "text"
      },
      "source": [
        "fcn_autoencoder and vae are from https://github.com/L1aoXingyu/pytorch-beginner"
      ]
    },
    {
      "cell_type": "markdown",
      "metadata": {
        "id": "GwG2XzgWs_JR",
        "colab_type": "text"
      },
      "source": [
        "conv_autoencoder is from https://github.com/jellycsc/PyTorch-CIFAR-10-autoencoder/"
      ]
    },
    {
      "cell_type": "markdown",
      "metadata": {
        "id": "ZpExFuC2VoX6",
        "colab_type": "text"
      },
      "source": [
        "同學們可以嘗試各種不同的 VAE 架構"
      ]
    },
    {
      "cell_type": "markdown",
      "metadata": {
        "id": "MXcY0qLS5r-z",
        "colab_type": "text"
      },
      "source": [
        "Cross Entropy introduction:     \n",
        "https://medium.com/@chungyizhen/cross-entropy%E7%9A%84%E7%9B%B4%E8%A7%80%E7%90%86%E8%A7%A3-82e525e3780c      \n",
        "KLD introduction:     \n",
        "https://www.itread01.com/content/1548996871.html"
      ]
    },
    {
      "cell_type": "markdown",
      "metadata": {
        "id": "feR8r_yO9yNW",
        "colab_type": "text"
      },
      "source": [
        "Con Transposed 範例：       \n",
        "    \n",
        "<img src=\"https://imgur.com/qjh8hrK.png\" width=\"500px\">"
      ]
    },
    {
      "cell_type": "markdown",
      "metadata": {
        "id": "quWgEvVI5ob9",
        "colab_type": "text"
      },
      "source": [
        "TA"
      ]
    },
    {
      "cell_type": "code",
      "metadata": {
        "id": "Wi8ds1fugCkR",
        "colab_type": "code",
        "colab": {}
      },
      "source": [
        "# TA\n",
        "# 參考用的\n",
        "import torch\n",
        "from torch import nn\n",
        "import torch.nn.functional as F\n",
        "\n",
        "\n",
        "class fcn_autoencoder(nn.Module):\n",
        "    def __init__(self):\n",
        "        # 其中的super類的作用是繼承的時候，調用含super的各個的基類__init__函數，如果不使用super，就不會調用這些類的__init__函數，\n",
        "        # 除非顯式聲明。而且使用super可以避免基類被重複調用。\n",
        "        super(fcn_autoencoder, self).__init__()\n",
        "        self.encoder = nn.Sequential(\n",
        "            # Linear的創建需要兩個參數，inputSize (輸入節點數) 和 outputSize (輸出節點數)\n",
        "            nn.Linear(32 * 32 * 3, 128),\n",
        "            nn.ReLU(True),\n",
        "            nn.Linear(128, 64),\n",
        "            nn.ReLU(True), \n",
        "            nn.Linear(64, 12), \n",
        "            nn.ReLU(True), \n",
        "            nn.Linear(12, 3))\n",
        "        self.decoder = nn.Sequential(\n",
        "            nn.Linear(3, 12),\n",
        "            nn.ReLU(True),\n",
        "            nn.Linear(12, 64),\n",
        "            nn.ReLU(True),\n",
        "            nn.Linear(64, 128),\n",
        "            nn.ReLU(True), nn.Linear(128, 32 * 32 * 3\n",
        "            ), nn.Tanh())\n",
        "\n",
        "    def forward(self, x):\n",
        "        # 在 forward 函數裡定義輸入和輸出值的關係\n",
        "        x = self.encoder(x)\n",
        "        x = self.decoder(x)\n",
        "        return x\n",
        "\n",
        "class conv_autoencoder(nn.Module):\n",
        "    def __init__(self):\n",
        "        super(conv_autoencoder, self).__init__()\n",
        "        self.encoder = nn.Sequential(\n",
        "            nn.Conv2d(3, 12, 4, stride=2, padding=1),            # [batch, 12, 16, 16] ps.padding 後從 32 => 34，再從 34/2 - 1= 16\n",
        "            nn.ReLU(),\n",
        "            nn.Conv2d(12, 24, 4, stride=2, padding=1),           # [batch, 24, 8, 8]   ps.padding 後從 16 => 18，再從 18/2 - 1= 8 \n",
        "            nn.ReLU(),\n",
        "\t\t\t      nn.Conv2d(24, 48, 4, stride=2, padding=1),           # [batch, 48, 4, 4]   ps.padding 後從 8 => 10，再從 10/2 - 1= 4\n",
        "            nn.ReLU(),\n",
        "    # \t\t\tnn.Conv2d(48, 96, 4, stride=2, padding=1),           # [batch, 96, 2, 2]   ps.padding 後從 4 => 6，再從 6/2 - 1= 2\n",
        "    #       nn.ReLU(),\n",
        "        )\n",
        "        self.decoder = nn.Sequential(\n",
        "#             nn.ConvTranspose2d(96, 48, 4, stride=2, padding=1),  # [batch, 48, 4, 4] (3+2+3)\n",
        "#             nn.ReLU(),\n",
        "\t\t\t      nn.ConvTranspose2d(48, 24, 4, stride=2, padding=1),  # [batch, 24, 8, 8]\n",
        "            nn.ReLU(),\n",
        "\t\t\t      nn.ConvTranspose2d(24, 12, 4, stride=2, padding=1),  # [batch, 12, 16, 16]\n",
        "            nn.ReLU(),\n",
        "            nn.ConvTranspose2d(12, 3, 4, stride=2, padding=1),   # [batch, 3, 32, 32]\n",
        "            nn.Tanh(),\n",
        "        )\n",
        "\n",
        "    def forward(self, x):\n",
        "        x = self.encoder(x)\n",
        "        x = self.decoder(x)\n",
        "        return x\n",
        "\n",
        "\n",
        "class VAE(nn.Module):\n",
        "    def __init__(self):\n",
        "        super(VAE, self).__init__()\n",
        "\n",
        "        self.fc1 = nn.Linear(32*32*3, 400)\n",
        "        self.fc21 = nn.Linear(400, 20) #mean\n",
        "        self.fc22 = nn.Linear(400, 20) #var\n",
        "        self.fc3 = nn.Linear(20, 400)\n",
        "        self.fc4 = nn.Linear(400, 32*32*3)\n",
        "\n",
        "    def encode(self, x):\n",
        "        # 其中nn.ReLU作為一個層結構，必須添加到nn.Module容器中才能使用，而F.ReLU則作為一個函數調用，看上去作為一個函數調用更方便更簡潔。\n",
        "        # 具體使用哪種方式，取決於編程風格。\n",
        "        h1 = F.relu(self.fc1(x))\n",
        "        return self.fc21(h1), self.fc22(h1)\n",
        "\n",
        "    def reparametrize(self, mu, logvar):\n",
        "        std = logvar.mul(0.5).exp_() # 我們先將所有的數字乘0.5, 再求指數，可以發現當使用exp_()的時候值被修改了，而使用exp()時沒有被修改。\n",
        "        if torch.cuda.is_available():\n",
        "            eps = torch.cuda.FloatTensor(std.size()).normal_()\n",
        "        else:\n",
        "            eps = torch.FloatTensor(std.size()).normal_()\n",
        "        eps = Variable(eps)\n",
        "        return eps.mul(std).add_(mu)\n",
        "\n",
        "    def decode(self, z):\n",
        "        h3 = F.relu(self.fc3(z))\n",
        "        return F.sigmoid(self.fc4(h3))\n",
        "\n",
        "    def forward(self, x):\n",
        "        mu, logvar = self.encode(x) # 編碼\n",
        "        z = self.reparametrize(mu, logvar) # 重新參數化成正態分布\n",
        "        return self.decode(z), mu, logvar # 解碼，同時輸出均值方差\n",
        "\n",
        "\n",
        "def loss_vae(recon_x, x, mu, logvar, criterion):\n",
        "    \"\"\"\n",
        "    recon_x: generating images\n",
        "    x: origin images\n",
        "    mu: latent mean\n",
        "    logvar: latent log variance\n",
        "    \"\"\"\n",
        "    mse = criterion(recon_x, x)  # mse loss\n",
        "    # loss = 0.5 * sum(1 + log(sigma^2) - mu^2 - sigma^2)\n",
        "    # 最早 KL divergence 就是從信息論裡引入的，不過既然題主問的是 ML 中的應用，就不多做具體介紹。\n",
        "    # 只是簡單概述給定真實概率分佈P和近似分佈Q，KL divergence所表達的就是如果我們用一套最優的壓縮機制(compression scheme)來儲存Q的分佈，\n",
        "    # 對每個從P來的sample我需要多用的bits（相比我直接用一套最優的壓縮機制來儲存P的分佈）。\n",
        "    KLD_element = mu.pow(2).add_(logvar.exp()).mul_(-1).add_(1).add_(logvar)\n",
        "    KLD = torch.sum(KLD_element).mul_(-0.5)\n",
        "    # KL divergence\n",
        "    return mse + KLD\n"
      ],
      "execution_count": null,
      "outputs": []
    },
    {
      "cell_type": "markdown",
      "metadata": {
        "id": "pHcRH3x25sSd",
        "colab_type": "text"
      },
      "source": [
        "Mine"
      ]
    },
    {
      "cell_type": "code",
      "metadata": {
        "id": "P41AJAwJ5lW6",
        "colab_type": "code",
        "colab": {}
      },
      "source": [
        "# mine\n",
        "import torch\n",
        "from torch import nn\n",
        "import torch.nn.functional as F\n",
        "\n",
        "\n",
        "class fcn_autoencoder(nn.Module): \n",
        "    def __init__(self):\n",
        "        # 其中的super類的作用是繼承的時候，調用含super的各個的基類__init__函數，如果不使用super，就不會調用這些類的__init__函數，\n",
        "        # 除非顯式聲明。而且使用super可以避免基類被重複調用。\n",
        "        super(fcn_autoencoder, self).__init__()\n",
        "        # self.encoder = nn.Sequential(\n",
        "        # # Linear的創建需要兩個參數，inputSize (輸入節點數) 和 outputSize (輸出節點數)\n",
        "        #     nn.Linear(32 * 32 * 3, 128),\n",
        "        #     nn.ReLU(True),\n",
        "        #     nn.Linear(128, 64),\n",
        "        #     nn.ReLU(True), \n",
        "        #     nn.Linear(64, 12), \n",
        "        #     nn.ReLU(True), \n",
        "        #     nn.Linear(12, 3))\n",
        "        # self.decoder = nn.Sequential(\n",
        "        #     nn.Linear(3, 12),\n",
        "        #     nn.ReLU(True),\n",
        "        #     nn.Linear(12, 64),\n",
        "        #     nn.ReLU(True),\n",
        "        #     nn.Linear(64, 128),\n",
        "        #     nn.ReLU(True), \n",
        "        #     nn.Linear(128, 32 * 32 * 3),\n",
        "        #     nn.Tanh())\n",
        "        self.encoder = nn.Sequential(\n",
        "            # Linear的創建需要兩個參數，inputSize (輸入節點數) 和 outputSize (輸出節點數)\n",
        "            nn.Linear(32 * 32 * 3, 512),\n",
        "            nn.ReLU(True),\n",
        "            nn.Linear(512, 256),\n",
        "            nn.ReLU(True),\n",
        "            nn.Linear(256, 128),\n",
        "            nn.ReLU(True),\n",
        "            nn.Linear(128, 64),\n",
        "            nn.ReLU(True), \n",
        "            nn.Linear(64, 12), \n",
        "            nn.ReLU(True), \n",
        "            nn.Linear(12, 3))\n",
        "        self.decoder = nn.Sequential(\n",
        "            nn.Linear(3, 12),\n",
        "            nn.ReLU(True),\n",
        "            nn.Linear(12, 64),\n",
        "            nn.ReLU(True),\n",
        "            nn.Linear(64, 128),\n",
        "            nn.ReLU(True), \n",
        "            nn.Linear(128, 256),\n",
        "            nn.ReLU(True),\n",
        "            nn.Linear(256, 512),\n",
        "            nn.ReLU(True),\n",
        "            nn.Linear(512, 32 * 32 * 3),\n",
        "            nn.Tanh())\n",
        "\n",
        "    def forward(self, x):\n",
        "        # 在 forward 函數裡定義輸入和輸出值的關係\n",
        "        x = self.encoder(x)\n",
        "        x = self.decoder(x) #只取 encode vector\n",
        "        return x\n",
        "\n",
        "\n",
        "\n",
        "class conv_autoencoder(nn.Module):\n",
        "    def __init__(self):\n",
        "        super(conv_autoencoder, self).__init__()\n",
        "        # self.encoder = nn.Sequential(\n",
        "        #     nn.Conv2d(3, 12, 4, stride=2, padding=1),            # [batch, 12, 16, 16] ps.padding 後從 32 => 34，再從 34/2 - 1= 16\n",
        "        #     nn.BatchNorm2d(12),\n",
        "        #     nn.ReLU(),\n",
        "        #     nn.Conv2d(12, 24, 4, stride=2, padding=1),           # [batch, 24, 8, 8]   ps.padding 後從 16 => 18，再從 18/2 - 1= 8 \n",
        "        #     nn.BatchNorm2d(24),\n",
        "        #     nn.ReLU(),\n",
        "\t\t\t  #     nn.Conv2d(24, 48, 4, stride=2, padding=1),           # [batch, 48, 4, 4]   ps.padding 後從 8 => 10，再從 10/2 - 1= 4\n",
        "        #     nn.BatchNorm2d(48),\n",
        "        #     nn.ReLU(),\n",
        "        #     nn.Conv2d(48, 96, 4, stride=2, padding=1),           # [batch, 96, 2, 2]   ps.padding 後從 4 => 6，再從 6/2 - 1= 2\n",
        "        #     nn.BatchNorm2d(96),\n",
        "        #     nn.ReLU(),\n",
        "        #     nn.Conv2d(96, 192, 4, stride=2, padding=1),           # [batch, 192, 2, 2]   ps.padding 後從 4 => 6，再從 6/2 - 1= 2\n",
        "        #     nn.BatchNorm2d(192),\n",
        "        #     nn.ReLU(),\n",
        "        #     nn.Conv2d(192, 384, 4, stride=2, padding=1),           # [batch, 96, 2, 2]   ps.padding 後從 4 => 6，再從 6/2 - 1= 2\n",
        "        #     nn.BatchNorm2d(384),\n",
        "        #     nn.ReLU(),\n",
        "        # )\n",
        "\n",
        "        # 使用 pooling\n",
        "        self.encoder = nn.Sequential(\n",
        "            nn.Conv2d(3, 64, 5, 1, 2),  # [64, 32, 32] ps.padding 後從 32 => 36，再從 36-5+1 = 32\n",
        "            nn.BatchNorm2d(64),\n",
        "            # 2D Normalization\n",
        "            # class torch.nn.BatchNorm2d(num_features, eps=1e-05, momentum=0.1, affine=True)，\n",
        "            nn.Tanh(),\n",
        "            nn.MaxPool2d(2, 2, 0),        # [64, 16, 16] 32/2 = 16\n",
        "\n",
        "            nn.Conv2d(64, 128, 3, 1, 1), # [128, 16, 16] ps.padding 後從 16 => 18，再從 18-3+1 = 16\n",
        "            nn.BatchNorm2d(128),\n",
        "            nn.Tanh(),\n",
        "            nn.MaxPool2d(2, 2, 0),        # [128, 8, 8] 16/2= 8\n",
        "            \n",
        "            nn.Conv2d(128, 256, 3, 1, 1), # [256, 8, 8] ps.padding 後從 8 => 10，再從 10-3+1 = 8\n",
        "            nn.BatchNorm2d(256),\n",
        "            nn.Tanh(),\n",
        "            nn.MaxPool2d(2, 2, 0),       # [256, 4, 4] 8/2= 4\n",
        "\n",
        "            nn.Conv2d(256, 512, 3, 1, 1), # [512, 4, 4] ps.padding 後從 4 => 6，再從 6-3+1 = 4\n",
        "            nn.BatchNorm2d(512),\n",
        "            nn.Tanh(),\n",
        "            nn.MaxPool2d(2, 2, 0)        # [512, 2, 2] 4/2= 2\n",
        "        )\n",
        "        # nn.ReLU(inplace = True)\n",
        "        # inplace=True means that it will modify the input directly, without allocating any additional output. \n",
        "        # It can sometimes slightly decrease the memory usage, but may not always be a valid operation (because the original input is destroyed). \n",
        "        # However, if you don’t see an error, it means that your use case is valid.\n",
        "        \n",
        "        # self.decoder = nn.Sequential(\n",
        "        #     nn.ConvTranspose2d(96, 48, 4, stride=2, padding=1),  # [batch, 48, 4, 4] (3+2+3)\n",
        "        #     nn.ReLU(),\n",
        "\t\t\t  #     nn.ConvTranspose2d(48, 24, 4, stride=2, padding=1),  # [batch, 24, 8, 8]\n",
        "        #     nn.ReLU(),\n",
        "\t\t\t  #     nn.ConvTranspose2d(24, 12, 4, stride=2, padding=1),  # [batch, 12, 16, 16]\n",
        "        #     nn.ReLU(),\n",
        "        #     nn.ConvTranspose2d(12, 3, 4, stride=2, padding=1),   # [batch, 3, 32, 32]\n",
        "        #     nn.Tanh(),\n",
        "        # )\n",
        "        self.decoder = nn.Sequential(\n",
        "            nn.ConvTranspose2d(512, 128, 7, stride=1),    # [256, 8, 8]     (3+2+3)\n",
        "            nn.Tanh(),\n",
        "            # nn.ConvTranspose2d(256, 128, 5, stride=1),    # [128, 12, 12]   (2+8+2)\n",
        "            # nn.ReLU(True),\n",
        "            nn.ConvTranspose2d(128, 64, 9, stride=1),     # [64, 16, 16]    (4+8+4)\n",
        "            nn.Tanh(),\n",
        "            nn.ConvTranspose2d(64, 3, 17, stride=1),      # [3, 32, 32]       (8+16+8)\n",
        "            nn.Tanh()\n",
        "        )\n",
        "\n",
        "    def forward(self, x):\n",
        "        x = self.encoder(x)\n",
        "        x = self.decoder(x) #只取 encode vector\n",
        "        return x\n",
        "\n",
        "\n",
        "class VAE(nn.Module):\n",
        "    def __init__(self):\n",
        "        super(VAE, self).__init__()\n",
        "\n",
        "        # self.fc1 = nn.Linear(32*32*3, 400)\n",
        "        # self.fc21 = nn.Linear(400, 20) #mean\n",
        "        # self.fc22 = nn.Linear(400, 20) #var\n",
        "        # self.fc3 = nn.Linear(20, 400)\n",
        "        # self.fc4 = nn.Linear(400, 32*32*3)\n",
        "        self.fc1 = nn.Linear(32*32*3, 256)\n",
        "        self.fc2 = nn.Linear(256, 400)\n",
        "        self.fc31 = nn.Linear(400, 20) #mean 改不只 20(?)\n",
        "        self.fc32 = nn.Linear(400, 20) #var\n",
        "        self.fc4 = nn.Linear(20, 256)\n",
        "        self.fc5 = nn.Linear(256, 400)\n",
        "        self.fc6 = nn.Linear(400, 32*32*3)\n",
        "\n",
        "    def encode(self, x):\n",
        "        # 其中nn.ReLU作為一個層結構，必須添加到nn.Module容器中才能使用，而F.ReLU則作為一個函數調用，看上去作為一個函數調用更方便更簡潔。\n",
        "        # 具體使用哪種方式，取決於編程風格。\n",
        "        # h1 = F.relu(self.fc1(x))\n",
        "        # return self.fc21(h1), self.fc22(h1)\n",
        "        h1 = F.relu(self.fc1(x))\n",
        "        h2 = F.relu(self.fc2(h1))\n",
        "        return self.fc31(h2), self.fc32(h2)\n",
        "\n",
        "\n",
        "    def reparametrize(self, mu, logvar):\n",
        "        std = logvar.mul(0.5).exp_() # 我們先將所有的數字乘0.5, 再求指數，可以發現當使用exp_()的時候值被修改了，而使用exp()時沒有被修改。\n",
        "        if torch.cuda.is_available():\n",
        "            eps = torch.cuda.FloatTensor(std.size()).normal_()\n",
        "        else:\n",
        "            eps = torch.FloatTensor(std.size()).normal_()\n",
        "        eps = Variable(eps)\n",
        "        return eps.mul(std).add_(mu)\n",
        "\n",
        "    def decode(self, z):\n",
        "        # h3 = F.relu(self.fc3(z))\n",
        "        # return F.sigmoid(self.fc4(h3))\n",
        "        h4 = F.relu(self.fc4(z))\n",
        "        h5 = F.relu(self.fc5(h4))\n",
        "        return F.sigmoid(self.fc6(h5))\n",
        "\n",
        "    def forward(self, x):\n",
        "        mu, logvar = self.encode(x) # 編碼\n",
        "        z = self.reparametrize(mu, logvar) # 重新參數化成正態分布\n",
        "        return self.decode(z), mu, logvar # 解碼，同時輸出均值方差\n",
        "        # return self.encode(x) # #只取 encode vector\n",
        "        \n",
        "\n",
        "\n",
        "def loss_vae(recon_x, x, mu, logvar, criterion):\n",
        "    \"\"\"\n",
        "    recon_x: generating images\n",
        "    x: origin images\n",
        "    mu: latent mean\n",
        "    logvar: latent log variance\n",
        "    \"\"\"\n",
        "    mse = criterion(recon_x, x)  # mse loss\n",
        "    # loss = 0.5 * sum(1 + log(sigma^2) - mu^2 - sigma^2)\n",
        "    # 最早KL divergence就是從信息論裡引入的，不過既然題主問的是ML中的應用，就不多做具體介紹。\n",
        "    # 只是簡單概述給定真實概率分佈P和近似分佈Q，KL divergence所表達的就是如果我們用一套最優的壓縮機制(compression scheme)來儲存Q的分佈，\n",
        "    # 對每個從P來的sample我需要多用的bits（相比我直接用一套最優的壓縮機制來儲存P的分佈）。\n",
        "    KLD_element = mu.pow(2).add_(logvar.exp()).mul_(-1).add_(1).add_(logvar)\n",
        "    KLD = torch.sum(KLD_element).mul_(-0.5)\n",
        "    # KL divergence\n",
        "    return mse + KLD\n"
      ],
      "execution_count": null,
      "outputs": []
    },
    {
      "cell_type": "code",
      "metadata": {
        "id": "REFdrJ_VTQpE",
        "colab_type": "code",
        "colab": {}
      },
      "source": [
        "# CNN_VAE\n",
        "\n",
        "class CNN_VAE(nn.Module):\n",
        "    def __init__(self):\n",
        "        super(CNN_VAE, self).__init__()\n",
        "        self.encoder = nn.Sequential(\n",
        "            nn.Conv2d(3, 12, 4, stride=2, padding=1),            # [batch, 12, 16, 16] ps.padding 後從 32 => 34，再從 34/2 - 1= 16\n",
        "            nn.ReLU(),\n",
        "            nn.Conv2d(12, 24, 4, stride=2, padding=1),           # [batch, 24, 8, 8]   ps.padding 後從 16 => 18，再從 18/2 - 1= 8 \n",
        "            nn.ReLU(),\n",
        "\t\t\t      nn.Conv2d(24, 48, 4, stride=2, padding=1),           # [batch, 48, 4, 4]   ps.padding 後從 8 => 10，再從 10/2 - 1= 4\n",
        "            nn.ReLU(),\n",
        "        )\n",
        "\n",
        "        self.fc_1 = nn.Sequential(\n",
        "            # flatten\n",
        "            nn.Linear(48*4*4, 256),\n",
        "            torch.nn.Dropout(0.7),\n",
        "            nn.ReLU(),\n",
        "            nn.Linear(256, 64),\n",
        "            torch.nn.Dropout(0.7),\n",
        "            nn.ReLU()\n",
        "        )\n",
        "\n",
        "        self.fc_21 = nn.Linear(64, 32) #mean 改不只 20(?)\n",
        "        self.fc_22 = nn.Linear(64, 32) #var\n",
        "\n",
        "        # self.fc_3 = nn.Sequential(\n",
        "        #     # re_flatten\n",
        "        #     nn.Linear(32, 64),\n",
        "        #     nn.ReLU(),\n",
        "        #     nn.Linear(64, 256),\n",
        "        #     nn.ReLU(),\n",
        "        #     nn.Linear(256, 48*4*4),\n",
        "        # )\n",
        "        \n",
        "        # self.decoder = nn.Sequential(\n",
        "\t\t\t  #     nn.ConvTranspose2d(48, 24, 4, stride=2, padding=1),  # [batch, 24, 8, 8]\n",
        "        #     nn.ReLU(),\n",
        "\t\t\t  #     nn.ConvTranspose2d(24, 12, 4, stride=2, padding=1),  # [batch, 12, 16, 16]\n",
        "        #     nn.ReLU(),\n",
        "        #     nn.ConvTranspose2d(12, 3, 4, stride=2, padding=1),   # [batch, 3, 32, 32]\n",
        "        #     nn.Tanh(),\n",
        "        # )\n",
        "\n",
        "        self.decoder = nn.Sequential(\n",
        "            nn.Linear(32, 64),\n",
        "            nn.ReLU(),\n",
        "            nn.Linear(64, 256),\n",
        "            nn.ReLU(),\n",
        "            nn.Linear(256, 32*32*3)\n",
        "        )\n",
        "\n",
        "    def reparametrize(self, mu, logvar):\n",
        "        std = logvar.mul(0.5).exp_() \n",
        "        if torch.cuda.is_available():\n",
        "            eps = torch.cuda.FloatTensor(std.size()).normal_()\n",
        "        else:\n",
        "            eps = torch.FloatTensor(std.size()).normal_()\n",
        "        eps = Variable(eps)\n",
        "        return eps.mul(std).add_(mu)\n",
        "\n",
        "    def forward(self, x):\n",
        "        encode = self.encoder(x)\n",
        "        encode = encode.view(encode.size()[0], -1)\n",
        "        fc1 = self.fc_1(encode)\n",
        "\n",
        "        mu = self.fc_21(fc1) \n",
        "        logvar = self.fc_22(fc1) \n",
        "\n",
        "        z = self.reparametrize(mu, logvar) \n",
        "        # fc3 = self.fc_3(z)\n",
        "        decode = self.decoder(z)\n",
        "        return F.sigmoid(decode), mu, logvar     \n",
        "\n",
        "def loss_vae(recon_x, x, mu, logvar, criterion):\n",
        "    \"\"\"\n",
        "    recon_x: generating images\n",
        "    x: origin images\n",
        "    mu: latent mean\n",
        "    logvar: latent log variance\n",
        "    \"\"\"\n",
        "    mse = criterion(recon_x, x)  # mse loss\n",
        "    KLD_element = mu.pow(2).add_(logvar.exp()).mul_(-1).add_(1).add_(logvar)\n",
        "    KLD = torch.sum(KLD_element).mul_(-0.5)\n",
        "    # KL divergence\n",
        "    return mse + KLD\n"
      ],
      "execution_count": null,
      "outputs": []
    },
    {
      "cell_type": "markdown",
      "metadata": {
        "id": "k9oN1WTH7XEE",
        "colab_type": "text"
      },
      "source": [
        "查看參數量"
      ]
    },
    {
      "cell_type": "code",
      "metadata": {
        "id": "XUYBW1ll7XOH",
        "colab_type": "code",
        "colab": {
          "base_uri": "https://localhost:8080/",
          "height": 641
        },
        "outputId": "cc08644b-a383-4c29-ee21-e36f7ee54425"
      },
      "source": [
        "model = fcn_autoencoder().cuda()\n",
        "\n",
        "from torchsummary import summary\n",
        "summary(model, input_size=(1, 3*32*32))"
      ],
      "execution_count": null,
      "outputs": [
        {
          "output_type": "stream",
          "text": [
            "----------------------------------------------------------------\n",
            "        Layer (type)               Output Shape         Param #\n",
            "================================================================\n",
            "            Linear-1               [-1, 1, 512]       1,573,376\n",
            "              ReLU-2               [-1, 1, 512]               0\n",
            "            Linear-3               [-1, 1, 256]         131,328\n",
            "              ReLU-4               [-1, 1, 256]               0\n",
            "            Linear-5               [-1, 1, 128]          32,896\n",
            "              ReLU-6               [-1, 1, 128]               0\n",
            "            Linear-7                [-1, 1, 64]           8,256\n",
            "              ReLU-8                [-1, 1, 64]               0\n",
            "            Linear-9                [-1, 1, 12]             780\n",
            "             ReLU-10                [-1, 1, 12]               0\n",
            "           Linear-11                 [-1, 1, 3]              39\n",
            "           Linear-12                [-1, 1, 12]              48\n",
            "             ReLU-13                [-1, 1, 12]               0\n",
            "           Linear-14                [-1, 1, 64]             832\n",
            "             ReLU-15                [-1, 1, 64]               0\n",
            "           Linear-16               [-1, 1, 128]           8,320\n",
            "             ReLU-17               [-1, 1, 128]               0\n",
            "           Linear-18               [-1, 1, 256]          33,024\n",
            "             ReLU-19               [-1, 1, 256]               0\n",
            "           Linear-20               [-1, 1, 512]         131,584\n",
            "             ReLU-21               [-1, 1, 512]               0\n",
            "           Linear-22              [-1, 1, 3072]       1,575,936\n",
            "             Tanh-23              [-1, 1, 3072]               0\n",
            "================================================================\n",
            "Total params: 3,496,419\n",
            "Trainable params: 3,496,419\n",
            "Non-trainable params: 0\n",
            "----------------------------------------------------------------\n",
            "Input size (MB): 0.01\n",
            "Forward/backward pass size (MB): 0.08\n",
            "Params size (MB): 13.34\n",
            "Estimated Total Size (MB): 13.43\n",
            "----------------------------------------------------------------\n"
          ],
          "name": "stdout"
        }
      ]
    },
    {
      "cell_type": "markdown",
      "metadata": {
        "id": "XKNUImqUhIeq",
        "colab_type": "text"
      },
      "source": [
        "# Training"
      ]
    },
    {
      "cell_type": "code",
      "metadata": {
        "id": "vVsRAkLrXUTc",
        "colab_type": "code",
        "colab": {}
      },
      "source": [
        "import torchvision.transforms as transforms\n",
        "from torch.utils.data import DataLoader, Dataset\n",
        "# training 時做 data augmentation\n",
        "# Data augmentation原理\n",
        "# 一張圖片經過旋轉、調整大小、比例尺寸，或者改變亮度色溫、翻轉等處理後，我們人眼仍能辨識出來是相同的相片，但是對機器來說那可是完全不同的新圖像了，\n",
        "# 因此， Data augmentation就是將dataset中既有的圖片予以修改變形，以創造出更多的圖片來讓機器學習，彌補資料量不足的困擾。\n",
        "train_transform = transforms.Compose([\n",
        "    transforms.ToPILImage(), #轉成 python 圖片\n",
        "    transforms.RandomHorizontalFlip(), # 隨機將圖片水平翻轉\n",
        "    transforms.RandomRotation(15), # 隨機旋轉圖片，表示在（-15，+15）之间随机旋转\n",
        "    transforms.ToTensor(), # 將圖片轉成 Tensor，並把數值 normalize 到 [0,1] (data normalization) ps. Tensor 為多維張量\n",
        "    # transforms.Normalize(mean = (0.5, 0.5, 0.5), std = (0.5, 0.5, 0.5)) # 歸一化到 [-1, 1]\n",
        "])\n",
        "# testing 時不需做 data augmentation\n",
        "test_transform = transforms.Compose([\n",
        "    transforms.ToPILImage(),                                    \n",
        "    transforms.ToTensor(),\n",
        "])\n",
        "class ImgDataset(Dataset):\n",
        "    def __init__(self, x, y=None, transform=None):\n",
        "    # def __init__(self, x, y=None, transform=True):\n",
        "        self.x = x\n",
        "        # label is required to be a LongTensor\n",
        "        self.y = y\n",
        "        if y is not None:\n",
        "            self.y = torch.LongTensor(y)\n",
        "        self.transform = transform\n",
        "    def __len__(self):\n",
        "        return len(self.x)\n",
        "    def __getitem__(self, index):\n",
        "        X = self.x[index]\n",
        "        if self.transform is not None:\n",
        "            X = self.transform(X)\n",
        "        if self.y is not None:\n",
        "            Y = self.y[index]\n",
        "            return X, Y\n",
        "        else:\n",
        "            return X"
      ],
      "execution_count": null,
      "outputs": []
    },
    {
      "cell_type": "code",
      "metadata": {
        "id": "zs_le6GWXaFW",
        "colab_type": "code",
        "colab": {}
      },
      "source": [
        "batch_size = 64\n",
        "train_set = ImgDataset(train, None, train_transform)\n",
        "test_set = ImgDataset(test, None, test_transform)\n",
        "train_loader = DataLoader(train_set, batch_size=batch_size, shuffle=True)\n",
        "test_loader = DataLoader(test_set, batch_size=batch_size, shuffle=False)"
      ],
      "execution_count": null,
      "outputs": []
    },
    {
      "cell_type": "code",
      "metadata": {
        "id": "JoW1UrrxgI_U",
        "colab_type": "code",
        "colab": {}
      },
      "source": [
        "import time\n",
        "\n",
        "from torch.autograd import Variable\n",
        "from torch.utils.data import DataLoader\n",
        "from torch.optim import Adam, AdamW\n",
        "from torch.utils.data import (DataLoader, RandomSampler, SequentialSampler,\n",
        "                              TensorDataset)\n",
        "\n",
        "task = 'ae'\n",
        "if task == 'ae':\n",
        "    training_total_time = time.time()\n",
        "\n",
        "    num_epochs = 3\n",
        "    batch_size = 64\n",
        "    learning_rate = 1e-3\n",
        "\n",
        "    #{'fcn', 'cnn', 'vae', 'cnn_vae'} \n",
        "    model_type = 'cnn' \n",
        "\n",
        "    x = train\n",
        "    if model_type == 'fcn' or model_type == 'vae':\n",
        "        x = x.reshape(len(x), -1)\n",
        "        \n",
        "    data = torch.tensor(x, dtype=torch.float)\n",
        "    # data1 = torch.tensor(x, dtype=torch.float)\n",
        "\n",
        "    train_dataset = TensorDataset(data)\n",
        "    # train_dataset = ImgDataset(data1, None, train_transform)\n",
        "    \n",
        "    # RandomSampler 參數作用：\n",
        "    # data_source: 同上\n",
        "    # num_samples: 指定採樣的數量，默認是所有。\n",
        "    # replacement: 若為True，則表示可以重複採樣，即同一個樣本可以重複採樣，這樣可能導致有的樣本採樣不到。\n",
        "    #              所以此時我們可以設置num_samples來增加採樣數量使得每個樣本都可能被採樣到。\n",
        "\n",
        "    # train_sampler = RandomSampler(train_dataset)\n",
        "    # train_dataloader = DataLoader(train_dataset, sampler=train_sampler, batch_size=batch_size)\n",
        "    train_dataloader = DataLoader(train_dataset, batch_size=batch_size, shuffle=True)\n",
        "\n",
        "\n",
        "    model_classes = {'fcn':fcn_autoencoder(), 'cnn':conv_autoencoder(), 'vae':VAE(), 'cnn_vae': CNN_VAE()} # 使用不同的 model\n",
        "    model = model_classes[model_type].cuda()\n",
        "    criterion = nn.MSELoss()\n",
        "    optimizer = torch.optim.AdamW(\n",
        "        model.parameters(), lr=learning_rate)\n",
        "    \n",
        "    best_loss = np.inf #numpy用IEEE-754格式，一般numpy.inf是float64格式，能表示最大的數是±(1−2^(−53))∗(2^1024) = ±1.79769×(10^308)\n",
        "    model.train()\n",
        "    print('epoch cost time limit =', 30*60/num_epochs)\n",
        "\n",
        "    for epoch in range(num_epochs):\n",
        "        training_start_time = time.time()\n",
        "        for data in train_dataloader:\n",
        "        # for i, data in enumerate(train_dataloader):\n",
        "            if model_type == 'cnn' or model_type == 'cnn_vae':\n",
        "                img = data[0].transpose(3, 1).cuda()\n",
        "                # img = data.cuda() #data augmentaion\n",
        "            else:\n",
        "                img = data[0].cuda()\n",
        "                # img = data.cuda() #data augmentaion\n",
        "            # ===================forward=====================\n",
        "            output = model(img)\n",
        "            if model_type == 'vae':\n",
        "                loss = loss_vae(output[0], img, output[1], output[2], criterion)\n",
        "            elif model_type == 'cnn_vae':\n",
        "                loss = loss_vae(output[0], data[0].reshape(-1, 3072).cuda(), output[1], output[2], criterion)\n",
        "            else:\n",
        "                loss = criterion(output, img)\n",
        "            # ===================backward====================\n",
        "            optimizer.zero_grad() # 將梯度初始化為零（因為一個batch的loss關於weight的導數是所有sample的loss關於weight的導數的累加和）\n",
        "            loss.backward() # 反向傳播求梯度\n",
        "            optimizer.step() # 更新所有參數\n",
        "            # ===================save====================\n",
        "            if loss.item() < best_loss:\n",
        "                best_loss = loss.item()\n",
        "                torch.save(model, 'best_model_{}.pt'.format(model_type))\n",
        "                print('save model')\n",
        "\n",
        "        if epoch%10 == 0:\n",
        "            torch.save(model, '{}_'.format(epoch) + 'model_{}.pt'.format(model_type))\n",
        "            print('save model', ', loss =', loss.item())\n",
        "        # ===================log========================\n",
        "        print('epoch [{}/{}], loss:{:.4f}'\n",
        "              .format(epoch + 1, num_epochs, loss.item()), ', training cost time =', time.time() - training_start_time, '(sec)', 'best loss =', best_loss)\n",
        "        \n",
        "    print('total training time =', time.time() - training_total_time, '(sec)', 'best loss =', best_loss)\n",
        "        \n",
        "\n",
        "\n"
      ],
      "execution_count": null,
      "outputs": []
    },
    {
      "cell_type": "markdown",
      "metadata": {
        "id": "Wk0UxFuchLzR",
        "colab_type": "text"
      },
      "source": [
        "# Evaluation"
      ]
    },
    {
      "cell_type": "markdown",
      "metadata": {
        "id": "Ku_wpuheWWNz",
        "colab_type": "text"
      },
      "source": [
        "將 testing 的圖片輸入 model 後，可以得到其重建的圖片，並對兩者取平方差。可以發現 inlier 的平方差應該與 outlier 的平方差形成差距明顯的兩群數據。"
      ]
    },
    {
      "cell_type": "code",
      "metadata": {
        "id": "r1PS_ApzhfOQ",
        "colab_type": "code",
        "colab": {
          "base_uri": "https://localhost:8080/",
          "height": 34
        },
        "outputId": "8beea33f-0b63-4938-e39f-1c083527973e"
      },
      "source": [
        "import time\n",
        "\n",
        "from torch.autograd import Variable\n",
        "from torch.utils.data import DataLoader\n",
        "from torch.optim import Adam, AdamW\n",
        "from torch.utils.data import (DataLoader, RandomSampler, SequentialSampler,\n",
        "                              TensorDataset)\n",
        "\n",
        "task = 'ae'\n",
        "model_type = 'cnn'\n",
        "batch_size = 64\n",
        "MSE_loss = []\n",
        "\n",
        "if task == 'ae':\n",
        "    if model_type == 'fcn' or model_type == 'vae':\n",
        "        y = test.reshape(len(test), -1)\n",
        "    else:\n",
        "        y = test\n",
        "        \n",
        "    data = torch.tensor(y, dtype=torch.float)\n",
        "    test_dataset = TensorDataset(data)\n",
        "    # SequentialSampler 這個看名字就很好理解，其實就是按順序對數據集採樣。\n",
        "    # 其原理是首先在初始化的時候拿到數據集data_source，之後在__iter__方法中首先得到一個和data_source一樣長度的range可迭代器。每次只會返回一個索引值。 \n",
        "    test_sampler = SequentialSampler(test_dataset) \n",
        "    test_dataloader = DataLoader(test_dataset, sampler=test_sampler, batch_size=batch_size, shuffle = False)\n",
        "\n",
        "    model_classes = {'fcn':fcn_autoencoder(), 'cnn':conv_autoencoder(), 'vae':VAE(), 'cnn_vae': CNN_VAE()} # 使用不同的 model\n",
        "    model = model_classes[model_type].cuda()\n",
        "    # model = torch.load('best_model_{}.pt'.format(model_type), map_location='cuda')\n",
        "    # model = torch.load(folder_path + 'best_model_{}_1.pt'.format(model_type), map_location='cuda') \n",
        "    model = torch.load(folder_path + 'baseline.pth', map_location='cuda') \n",
        "\n",
        "    encoded_test_images = []\n",
        "    model.eval()\n",
        "    reconstructed = list()\n",
        "    criterion = nn.MSELoss()\n",
        "    testing_start_time = time.time()\n",
        "    for i, data in enumerate(test_dataloader): \n",
        "        if model_type == 'cnn' or model_type == 'cnn_vae':\n",
        "            img = data[0].transpose(3, 1).cuda()\n",
        "        else:\n",
        "            img = data[0].cuda()\n",
        "\n",
        "        # if model_type == 'vae':\n",
        "        #     outputx = model.encode(img) #查看 encode vector dim (vae)\n",
        "        # elif model_type == 'cnn_vae':\n",
        "        #     outputx = model.encode(img) #查看 encode vector dim (vae)\n",
        "        # else:\n",
        "        #     outputx = model.encoder(img) #查看 encode vector dim (fcn, cnn)\n",
        "          \n",
        "        output = model(img)\n",
        "        loss = criterion(output, img)\n",
        "\n",
        "        if model_type == 'cnn':\n",
        "            output = output.transpose(3, 1)\n",
        "        elif model_type == 'vae' or model_type == 'cnn_vae':\n",
        "            output = output[0]\n",
        "        reconstructed.append(output.cpu().detach().numpy())\n",
        "        MSE_loss.append([loss.cpu().detach().numpy(), data[0].cpu().detach().numpy(), output.cpu().detach().numpy()])\n",
        "\n",
        "    # np.concatenate 傳入的參數必須是一個多個數組的元組或者列表\n",
        "    # 另外需要指定拼接的方向，默認是 axis = 0，也就是說對0軸的數組對象進行縱向的拼接（縱向的拼接沿著axis= 1方向）；\n",
        "    # 注：一般axis = 0，就是對該軸向的數組進行操作，操作方向是另外一個軸，即axis=1。\n",
        "    reconstructed = np.concatenate(reconstructed, axis=0)\n",
        "\n",
        "    if model_type == 'cnn_vae':\n",
        "        anomality = np.sqrt(np.sum(np.square(reconstructed - y.reshape(-1, 3072)).reshape(len(y), -1), axis=1))\n",
        "    else:\n",
        "        anomality = np.sqrt(np.sum(np.square(reconstructed - y).reshape(len(y), -1), axis=1))\n",
        "        \n",
        "    y_pred = anomality\n",
        "    print('testing cost time =', time.time() - testing_start_time, '(sec)')\n",
        "    with open('best_model_{}_1_'.format(model_type) + 'prediction_1_repro.csv', 'w') as f:\n",
        "        f.write('id,anomaly\\n')\n",
        "        for i in range(len(y_pred)):\n",
        "            f.write('{},{}\\n'.format(i+1, y_pred[i]))\n",
        "    # score = roc_auc_score(y_label, y_pred, average='micro')\n",
        "    # score = f1_score(y_label, y_pred, average='micro')\n",
        "    # print('auc score: {}'.format(score))\n",
        "\n",
        "# sort my MSE_loss\n",
        "# sorted(MSE_loss, key = lambda s: s[0])\n",
        "MSE_loss.sort(key = lambda s: s[0])"
      ],
      "execution_count": null,
      "outputs": [
        {
          "output_type": "stream",
          "text": [
            "testing cost time = 0.7353761196136475 (sec)\n"
          ],
          "name": "stdout"
        }
      ]
    },
    {
      "cell_type": "code",
      "metadata": {
        "id": "DS_kIwz63TE8",
        "colab_type": "code",
        "colab": {
          "base_uri": "https://localhost:8080/",
          "height": 70
        },
        "outputId": "ecb72f8d-6d9d-472c-fd3a-7ac4ee73d1a5"
      },
      "source": [
        "# save to drive\n",
        "torch.save(model, folder_path + 'best.pth')"
      ],
      "execution_count": null,
      "outputs": [
        {
          "output_type": "stream",
          "text": [
            "/usr/local/lib/python3.6/dist-packages/torch/serialization.py:402: UserWarning: Couldn't retrieve source code for container of type fcn_autoencoder. It won't be checked for correctness upon loading.\n",
            "  \"type \" + obj.__name__ + \". It won't be checked \"\n"
          ],
          "name": "stderr"
        }
      ]
    },
    {
      "cell_type": "code",
      "metadata": {
        "id": "TGquhqqbsvsn",
        "colab_type": "code",
        "colab": {}
      },
      "source": [
        "import matplotlib.pyplot as plt\n",
        "\n",
        "# cnn\n",
        "def no_axis_show(img, title='', cmap=None):\n",
        "  # imshow, 縮放模式為nearest。\n",
        "  fig = plt.imshow(img, interpolation='nearest', cmap=cmap, )\n",
        "  # 不要顯示axis。\n",
        "  fig.axes.get_xaxis().set_visible(False)\n",
        "  fig.axes.get_yaxis().set_visible(False)\n",
        "  plt.title(title, fontsize = 15)\n",
        "\n",
        "plt.figure(num='MSE_comparsion',figsize=(20, 20)) \n",
        "plt.subplot(4, 4, 1)\n",
        "no_axis_show(MSE_loss[0][1].squeeze(), 'MSE_1st_smallest_original', )\n",
        "plt.subplot(4, 4, 2)\n",
        "no_axis_show(MSE_loss[0][2].squeeze(), 'MSE_1st_smallest_reconstructed', )\n",
        "plt.subplot(4, 4, 3)\n",
        "no_axis_show(MSE_loss[1][1].squeeze(), 'MSE_2nd_smallest_original', )\n",
        "plt.subplot(4, 4, 4)\n",
        "no_axis_show(MSE_loss[1][2].squeeze(), 'MSE_2nd_smallest_reconstructed', )\n",
        "plt.subplot(4, 4, 5)\n",
        "no_axis_show(MSE_loss[9998][1].squeeze(), 'MSE_2nd_largest_original', )\n",
        "plt.subplot(4, 4, 6)\n",
        "no_axis_show(MSE_loss[9998][2].squeeze(), 'MSE_2nd_largest_reconstructed', )\n",
        "plt.subplot(4, 4, 7)\n",
        "no_axis_show(MSE_loss[9999][1].squeeze(), 'MSE_1st_largest_original', )\n",
        "plt.subplot(4, 4, 8)\n",
        "no_axis_show(MSE_loss[9999][2].squeeze(), 'MSE_1st_largest_reconstructed', )\n",
        "plt.show()"
      ],
      "execution_count": null,
      "outputs": []
    },
    {
      "cell_type": "code",
      "metadata": {
        "id": "P0TBedsZCUHm",
        "colab_type": "code",
        "colab": {
          "base_uri": "https://localhost:8080/",
          "height": 711
        },
        "outputId": "bf7dbde8-1cec-4e8e-b6e9-c0649535acd6"
      },
      "source": [
        "import matplotlib.pyplot as plt\n",
        "\n",
        "# fcn\n",
        "def no_axis_show(img, title='', cmap=None):\n",
        "  # imshow, 縮放模式為nearest。\n",
        "  fig = plt.imshow(img, interpolation='nearest', cmap=cmap, )\n",
        "  # 不要顯示axis。\n",
        "  fig.axes.get_xaxis().set_visible(False)\n",
        "  fig.axes.get_yaxis().set_visible(False)\n",
        "  plt.title(title, fontsize = 15)\n",
        "\n",
        "plt.figure(num='MSE_comparsion',figsize=(20, 20)) \n",
        "plt.subplot(4, 4, 1)\n",
        "no_axis_show(MSE_loss[0][1].reshape(32, 32, 3), 'MSE_1st_smallest_original', )\n",
        "plt.subplot(4, 4, 2)\n",
        "no_axis_show(MSE_loss[0][1].reshape(32, 32, 3), 'MSE_1st_smallest_reconstructed', )\n",
        "plt.subplot(4, 4, 3)\n",
        "no_axis_show(MSE_loss[1][1].reshape(32, 32, 3), 'MSE_2nd_smallest_original', )\n",
        "plt.subplot(4, 4, 4)\n",
        "no_axis_show(MSE_loss[1][2].reshape(32, 32, 3), 'MSE_2nd_smallest_reconstructed', )\n",
        "plt.subplot(4, 4, 5)\n",
        "no_axis_show(MSE_loss[9998][1].reshape(32, 32, 3), 'MSE_2nd_largest_original', )\n",
        "plt.subplot(4, 4, 6)\n",
        "no_axis_show(MSE_loss[9998][2].reshape(32, 32, 3), 'MSE_2nd_largest_reconstructed', )\n",
        "plt.subplot(4, 4, 7)\n",
        "no_axis_show(MSE_loss[9999][1].reshape(32, 32, 3), 'MSE_1st_largest_original', )\n",
        "plt.subplot(4, 4, 8)\n",
        "no_axis_show(MSE_loss[9999][2].reshape(32, 32, 3), 'MSE_1st_largest_reconstructed', )\n",
        "plt.show()"
      ],
      "execution_count": null,
      "outputs": [
        {
          "output_type": "stream",
          "text": [
            "Clipping input data to the valid range for imshow with RGB data ([0..1] for floats or [0..255] for integers).\n",
            "Clipping input data to the valid range for imshow with RGB data ([0..1] for floats or [0..255] for integers).\n",
            "Clipping input data to the valid range for imshow with RGB data ([0..1] for floats or [0..255] for integers).\n",
            "Clipping input data to the valid range for imshow with RGB data ([0..1] for floats or [0..255] for integers).\n",
            "Clipping input data to the valid range for imshow with RGB data ([0..1] for floats or [0..255] for integers).\n",
            "Clipping input data to the valid range for imshow with RGB data ([0..1] for floats or [0..255] for integers).\n",
            "Clipping input data to the valid range for imshow with RGB data ([0..1] for floats or [0..255] for integers).\n",
            "Clipping input data to the valid range for imshow with RGB data ([0..1] for floats or [0..255] for integers).\n"
          ],
          "name": "stderr"
        },
        {
          "output_type": "display_data",
          "data": {
            "image/png": "[encoded data removed]",
            "text/plain": [
              "<Figure size 1440x1440 with 8 Axes>"
            ]
          },
          "metadata": {
            "tags": [],
            "needs_background": "light"
          }
        }
      ]
    },
    {
      "cell_type": "markdown",
      "metadata": {
        "id": "n6QKlIWDMGwY",
        "colab_type": "text"
      },
      "source": [
        "# get encode vector"
      ]
    },
    {
      "cell_type": "code",
      "metadata": {
        "id": "N_0jo6z2UiVk",
        "colab_type": "code",
        "colab": {
          "base_uri": "https://localhost:8080/",
          "height": 52
        },
        "outputId": "cf8ab8a9-32e2-499a-bcb0-f2967741493b"
      },
      "source": [
        "import time\n",
        "\n",
        "from torch.autograd import Variable\n",
        "from torch.utils.data import DataLoader\n",
        "from torch.optim import Adam, AdamW\n",
        "from torch.utils.data import (DataLoader, RandomSampler, SequentialSampler,\n",
        "                              TensorDataset)\n",
        "\n",
        "batch_size = 64\n",
        "task = 'ae'\n",
        "model_type = 'fcn'\n",
        "encoded_train_images = []\n",
        "encoded_test_images = []\n",
        "\n",
        "# with torch.no_grad()則主要是用於停止autograd模塊的工作，以起到加速和節省顯存的作用，\n",
        "# 具體行為就是停止gradient計算，從而節省了GPU算力和顯存，但是並不會影響dropout和batchnorm層的行為。\n",
        "with torch.no_grad():\n",
        "\n",
        "########################### encoded_train_images ###############################\n",
        "\n",
        "    model_classes = {'fcn':fcn_autoencoder(), 'cnn':conv_autoencoder(), 'vae':VAE(), 'cnn_vae': CNN_VAE()} #使用不同的 model\n",
        "    model = model_classes[model_type].eval().cuda()\n",
        "    model = torch.load('best_model_{}.pt'.format(model_type), map_location='cuda')\n",
        "\n",
        "    model.eval()\n",
        "    x = train\n",
        "    if task == 'ae':\n",
        "        if model_type == 'fcn' or model_type == 'vae':\n",
        "            x = x.reshape(len(x), -1)\n",
        "            \n",
        "    data_train = torch.tensor(x, dtype=torch.float)\n",
        "    train_dataset = TensorDataset(data_train)\n",
        "    train_sampler = RandomSampler(train_dataset)\n",
        "    train_dataloader = DataLoader(train_dataset, sampler=train_sampler, batch_size=batch_size)\n",
        "    for data in train_dataloader:\n",
        "        if model_type == 'cnn' or model_type == 'cnn_vae':\n",
        "            img = data[0].transpose(3, 1).cuda()\n",
        "\n",
        "        else:\n",
        "            img = data[0].cuda()\n",
        "        \n",
        "        if model_type == 'vae':\n",
        "          outputx = model.encode(img) #查看 encode vector dim (vae)\n",
        "        else:\n",
        "          outputx = model.encoder(img) #查看 encode vector dim (fcn, cnn)\n",
        "\n",
        "        encoded_train_images.append(outputx) \n",
        "\n",
        "    print('finish encode_train_images')\n",
        "\n",
        "############################ encoded_test_images ###############################\n",
        "\n",
        "    model.eval()\n",
        "    if task == 'ae':\n",
        "        if model_type == 'fcn' or model_type == 'vae':\n",
        "            y = test.reshape(len(test), -1)\n",
        "        else:\n",
        "            y = test\n",
        "            \n",
        "    data_test = torch.tensor(y, dtype=torch.float)\n",
        "    test_dataset = TensorDataset(data_test)\n",
        "    test_sampler = SequentialSampler(test_dataset) \n",
        "    test_dataloader = DataLoader(test_dataset, sampler=test_sampler, batch_size=batch_size)\n",
        "    for i, data in enumerate(test_dataloader): \n",
        "        if model_type == 'cnn' or model_type == 'cnn_vae':\n",
        "            img = data[0].transpose(3, 1).cuda()\n",
        "\n",
        "        else:\n",
        "            img = data[0].cuda()\n",
        "     \n",
        "        if model_type == 'vae':\n",
        "          outputx = model.encode(img) #查看 encode vector dim (vae)\n",
        "        else:\n",
        "          outputx = model.encoder(img) #查看 encode vector dim (fcn, cnn)\n",
        "\n",
        "        encoded_test_images.append(outputx)\n",
        "    print('finish encode_test_images')"
      ],
      "execution_count": null,
      "outputs": [
        {
          "output_type": "stream",
          "text": [
            "finish encode_train_images\n",
            "finish encode_test_images\n"
          ],
          "name": "stdout"
        }
      ]
    },
    {
      "cell_type": "markdown",
      "metadata": {
        "id": "q4GwvK4DXuW4",
        "colab_type": "text"
      },
      "source": [
        "# KNN"
      ]
    },
    {
      "cell_type": "markdown",
      "metadata": {
        "id": "qAIl7IETpbP2",
        "colab_type": "text"
      },
      "source": [
        "K-Nearest-Neighbor(KNN): 假設 training data 的 label 種類不多（e.g., < 20），然而因其為未知，可以猜測其為 n，亦即假設 training data 有 n 群。先用 K-means 計算 training data 中的 n 個 centroid，再用這 n 個 centroid 對 training data 分群。應該可以觀察到，inlier data 與所分到群的 centroid 的距離應較 outlier 的此距離來得小。"
      ]
    },
    {
      "cell_type": "code",
      "metadata": {
        "id": "KPFepSoyUbdP",
        "colab_type": "code",
        "colab": {}
      },
      "source": [
        "# use AE encode vector\n",
        "if model_type == 'vae':\n",
        "    temp_1 = encoded_train_images[0][0].cpu().detach().numpy()\n",
        "    for i in range(1, len(encoded_train_images)):\n",
        "        temp = encoded_train_images[i][0].cpu().detach().numpy()\n",
        "        temp_1 = np.append(temp, temp_1, axis=0)\n",
        "\n",
        "    temp_2 = encoded_test_images[0][0].cpu().detach().numpy()\n",
        "    for i in range(1, len(encoded_test_images)):\n",
        "        temp = encoded_test_images[i][0].cpu().detach().numpy()\n",
        "        temp_2 = np.append(temp, temp_2, axis=0)\n",
        "else:\n",
        "    temp_1 = encoded_train_images[0].cpu().detach().numpy()\n",
        "    for i in range(1, len(encoded_train_images)):\n",
        "        temp = encoded_train_images[i].cpu().detach().numpy()\n",
        "        temp_1 = np.append(temp, temp_1, axis=0)\n",
        "\n",
        "    temp_2 = encoded_test_images[0].cpu().detach().numpy()\n",
        "    for i in range(1, len(encoded_test_images)):\n",
        "        temp = encoded_test_images[i].cpu().detach().numpy()\n",
        "        temp_2 = np.append(temp, temp_2, axis=0)"
      ],
      "execution_count": null,
      "outputs": []
    },
    {
      "cell_type": "code",
      "metadata": {
        "id": "B7AB9wnaX1To",
        "colab_type": "code",
        "colab": {}
      },
      "source": [
        "from sklearn.cluster import MiniBatchKMeans, KMeans\n",
        "from sklearn.metrics import f1_score, pairwise_distances, roc_auc_score\n",
        "from scipy.cluster.vq import vq, kmeans\n",
        "\n",
        "task = 'knn'\n",
        "\n",
        "if task == 'knn':\n",
        "    # 特殊用法：mat (or array).reshape(c, -1);  必須是矩陣格式或者數組格式，才能使用 .reshape(c, -1) 函數，\n",
        "    # 表示將此矩陣或者數組重組，以 c行d列的形式表示（-1的作用就在此，自動計算d：d=數組或者矩陣裡面所有的元素個數/c,\n",
        "    # d必須是整數，不然報錯）（reshape(-1, e)即列數固定，行數需要計算）\n",
        "  \n",
        "    # x = train.reshape(len(train), -1)\n",
        "    # y = test.reshape(len(test), -1)\n",
        "    # y = reconstructed.reshape(len(reconstructed), -1)\n",
        "    x = temp_1.reshape(len(temp_1), -1)\n",
        "    y = temp_2.reshape(len(temp_2), -1)\n",
        "    # xy = np.append(x, y, axis=0)\n",
        "\n",
        "    # list() 方法用於將元組轉換為列表。注：元組與列表是非常類似的，區別在於元組的元素值不能修改，元組是放在括號中，列表是放於方括號中。\n",
        "    scores = list()\n",
        "    # n = 9\n",
        "    for n in range(1, 10):\n",
        "    # if (n == 9):\n",
        "      # Fit(): Method calculates the parameters μ and σ and saves them as internal objects.\n",
        "      # 解釋：簡單來說，就是求得訓練集X的均值啊，方差啊，最大值啊，最小值啊這些訓練集X固有的屬性。可以理解為一個訓練過程\n",
        "      # kmeans_x = MiniBatchKMeans(n_clusters=n, batch_size=100, random_state = 0).fit(x)\n",
        "      kmeans_x = KMeans(n_clusters=n, random_state = 0).fit(x)\n",
        "\n",
        "      y_cluster = kmeans_x.predict(y) # 預測\n",
        "      # axis= 0 對a的橫軸進行操作，在運算的過程中其運算的方向表現為縱向運算\n",
        "      # axis= 1 對a的縱軸進行操作，在運算的過程中其運算的方向表現為橫向運算\n",
        "      y_dist = np.sum(np.square(kmeans_x.cluster_centers_[y_cluster] - y), axis=1)\n",
        "\n",
        "      y_pred = y_dist\n",
        "    #   score = f1_score(y_label, y_pred, average='micro')\n",
        "    #   score = roc_auc_score(y_label, y_pred, average='micro')\n",
        "    #   scores.append(score)\n",
        "    # print(np.max(scores), np.argmax(scores))\n",
        "    # print(scores)\n",
        "    # print('auc score: {}'.format(np.max(scores)))\n"
      ],
      "execution_count": null,
      "outputs": []
    },
    {
      "cell_type": "markdown",
      "metadata": {
        "id": "nAgArM0xe_Vi",
        "colab_type": "text"
      },
      "source": [
        "畫出降維圖"
      ]
    },
    {
      "cell_type": "code",
      "metadata": {
        "id": "xA_cm8AYeS2f",
        "colab_type": "code",
        "colab": {
          "base_uri": "https://localhost:8080/",
          "height": 295
        },
        "outputId": "66c307e0-8f97-47f6-e601-27468abd3aec"
      },
      "source": [
        "import matplotlib.pyplot as plt\n",
        "plt.plot(y_pred, 'ro',color = 'g', markersize = 1)\n",
        "plt.title('KNN')\n",
        "plt.xlabel('X')\n",
        "plt.ylabel('Y')\n",
        "plt.show()"
      ],
      "execution_count": null,
      "outputs": [
        {
          "output_type": "display_data",
          "data": {
            "image/png": "[encoded data removed]",
            "text/plain": [
              "<Figure size 432x288 with 1 Axes>"
            ]
          },
          "metadata": {
            "tags": [],
            "needs_background": "light"
          }
        }
      ]
    },
    {
      "cell_type": "markdown",
      "metadata": {
        "id": "WCF8ew6nVJPI",
        "colab_type": "text"
      },
      "source": [
        "取出經過 KNN 後的 encode_vector"
      ]
    },
    {
      "cell_type": "code",
      "metadata": {
        "id": "38vJROD7CIbT",
        "colab_type": "code",
        "colab": {}
      },
      "source": [
        "# for cnn\n",
        "if (model_type == 'cnn'):\n",
        "    encode_vector = kmeans_x.cluster_centers_[y_cluster].reshape(-1, 16, 512, 2, 2) #轉成 cnn_encode\n",
        "    encode_vector = torch.from_numpy(encode_vector).cuda()  #numpy => tensor，記得放在 gpu\n",
        "\n",
        "# for fcn  \n",
        "elif (model_type == 'fcn'):\n",
        "    encode_vector = kmeans_x.cluster_centers_[y_cluster].reshape(-1, 16, 3) #轉成 fcn_encode\n",
        "    encode_vector = torch.from_numpy(encode_vector).cuda()  #numpy => tensor，記得放在 gpu\n",
        "\n",
        "# for vae \n",
        "else:\n",
        "    encode_vector = kmeans_x.cluster_centers_[y_cluster].reshape(-1, 16, 3) #轉成 vae_encode\n",
        "    encode_vector = torch.from_numpy(encode_vector).cuda()  #numpy => tensor，記得放在 gpu"
      ],
      "execution_count": null,
      "outputs": []
    },
    {
      "cell_type": "code",
      "metadata": {
        "id": "KlW11MU8Sj2L",
        "colab_type": "code",
        "colab": {
          "base_uri": "https://localhost:8080/",
          "height": 52
        },
        "outputId": "95f0fb45-2008-4283-bba3-f47a63171666"
      },
      "source": [
        "print(len(y_pred))\n",
        "print(y_pred)\n",
        "\n",
        "with open('best_model_fcn_0_kmeans_prediction_1.csv', 'w') as f:\n",
        "    f.write('id,anomaly\\n')\n",
        "    for i in range(len(y_pred)):\n",
        "        f.write('{},{}\\n'.format(i+1, y_pred[i]))"
      ],
      "execution_count": null,
      "outputs": [
        {
          "output_type": "stream",
          "text": [
            "10000\n",
            "[21.485144   4.6079636 27.491447  ...  6.508748   7.4973803 10.377837 ]\n"
          ],
          "name": "stdout"
        }
      ]
    },
    {
      "cell_type": "markdown",
      "metadata": {
        "id": "QLScetmgf4XV",
        "colab_type": "text"
      },
      "source": [
        "# PCA"
      ]
    },
    {
      "cell_type": "markdown",
      "metadata": {
        "id": "7ZKv6vNYMiWA",
        "colab_type": "text"
      },
      "source": [
        "PCA: 首先計算 training data 的 principle component，將 testing data 投影在這些 component 上，再將這些投影重建回原先 space 的向量。對重建的圖片和原圖計算 MSE，inlier data 的數值應該較 outlier 的數值為小。"
      ]
    },
    {
      "cell_type": "code",
      "metadata": {
        "id": "iGtwwDAuGZxa",
        "colab_type": "code",
        "colab": {}
      },
      "source": [
        "# use AE encode vector\n",
        "if model_type == 'vae':\n",
        "    temp_1 = encoded_train_images[0][0].cpu().detach().numpy()\n",
        "    for i in range(1, len(encoded_train_images)):\n",
        "        temp = encoded_train_images[i][0].cpu().detach().numpy()\n",
        "        temp_1 = np.append(temp, temp_1, axis=0)\n",
        "\n",
        "    temp_2 = encoded_test_images[0][0].cpu().detach().numpy()\n",
        "    for i in range(1, len(encoded_test_images)):\n",
        "        temp = encoded_test_images[i][0].cpu().detach().numpy()\n",
        "        temp_2 = np.append(temp, temp_2, axis=0)\n",
        "else:\n",
        "    temp_1 = encoded_train_images[0].cpu().detach().numpy()\n",
        "    for i in range(1, len(encoded_train_images)):\n",
        "        temp = encoded_train_images[i].cpu().detach().numpy()\n",
        "        temp_1 = np.append(temp, temp_1, axis=0)\n",
        "\n",
        "    temp_2 = encoded_test_images[0].cpu().detach().numpy()\n",
        "    for i in range(1, len(encoded_test_images)):\n",
        "        temp = encoded_test_images[i].cpu().detach().numpy()\n",
        "        temp_2 = np.append(temp, temp_2, axis=0)"
      ],
      "execution_count": null,
      "outputs": []
    },
    {
      "cell_type": "code",
      "metadata": {
        "id": "EzgZGG7Pf6Qm",
        "colab_type": "code",
        "colab": {}
      },
      "source": [
        "from sklearn.decomposition import PCA\n",
        "\n",
        "task = 'pca'\n",
        "\n",
        "if task == 'pca':\n",
        "\n",
        "    # x = train.reshape(len(train), -1)\n",
        "    # y = test.reshape(len(test), -1)\n",
        "    x = temp_1.reshape(len(temp_1), -1)\n",
        "    y = temp_2.reshape(len(temp_2), -1)\n",
        "    # y = reconstructed.reshape(len(reconstructed), -1)\n",
        "    # xy = np.append(x, y, axis=0)\n",
        "\n",
        "    # sklearn.decomposition.PCA(n_components=None, copy=True, whiten=False)\n",
        "    # n_components:  \n",
        "    # 意義：PCA算法中所要保留的主成分個數n，也即保留下來的特徵個數n\n",
        "    # 類型：int 或者 string，缺省時默認為None，所有成分被保留。\n",
        "    #           賦值為int，比如n_components=1，將把原始數據降到一個維度。\n",
        "    #           賦值為string，比如n_components='mle'，將自動選取特徵個數n，使得滿足所要求的方差百分比。\n",
        "\n",
        "    # copy:\n",
        "    # 類型：bool，True或者False，缺省時默認為True。\n",
        "    # 意義：表示是否在運行算法時，將原始訓練數據複製一份。若為True，則運行PCA算法後，原始訓練數據的值不會有任何改變，\n",
        "    # 因為是在原始數據的副本上進行運算；若為False，則運行PCA算法後，原始訓練數據的值會改，因為是在原始數據上進行降維計算。\n",
        "\n",
        "    # whiten:\n",
        "    # 類型：bool，缺省時默認為False\n",
        "    # 意義：白化，使得每個特徵具有相同的方差\n",
        "    pca = PCA(n_components=2, random_state = 0).fit(x) #不同 random state 一樣(?\n",
        "\n",
        "\n",
        "    # Transform(): Method using these calculated parameters apply the transformation to a particular dataset.\n",
        "    # 解釋：在Fit的基礎上，進行標準化，降維，歸一化等操作（看具體用的是哪個工具，如PCA，StandardScaler等）。\n",
        "    y_projected = pca.transform(y)\n",
        "    y_reconstructed = pca.inverse_transform(y_projected)  \n",
        "    dist = np.sqrt(np.sum(np.square(y_reconstructed - y).reshape(len(y), -1), axis=1))\n",
        "    \n",
        "    y_pred = dist\n",
        "    # score = roc_auc_score(y_label, y_pred, average='micro')\n",
        "    # score = f1_score(y_label, y_pred, average='micro')\n",
        "    # print('auc score: {}'.format(score))"
      ],
      "execution_count": null,
      "outputs": []
    },
    {
      "cell_type": "markdown",
      "metadata": {
        "id": "jLi1_QoaWcSY",
        "colab_type": "text"
      },
      "source": [
        "畫出降維圖"
      ]
    },
    {
      "cell_type": "code",
      "metadata": {
        "id": "Pp-I6vDMVN9Q",
        "colab_type": "code",
        "colab": {
          "base_uri": "https://localhost:8080/",
          "height": 295
        },
        "outputId": "f4054f2e-66bb-4051-dd17-b38f2f67e7c8"
      },
      "source": [
        "import matplotlib.pyplot as plt\n",
        "plt.plot(y_projected[:, 0], y_projected[:, 1], 'ro',color = 'm', markersize = 0.5)\n",
        "plt.title('PCA')\n",
        "plt.xlabel('X')\n",
        "plt.ylabel('Y')\n",
        "plt.show()"
      ],
      "execution_count": null,
      "outputs": [
        {
          "output_type": "display_data",
          "data": {
            "image/png": "[encoded data removed]",
            "text/plain": [
              "<Figure size 432x288 with 1 Axes>"
            ]
          },
          "metadata": {
            "tags": [],
            "needs_background": "light"
          }
        }
      ]
    },
    {
      "cell_type": "markdown",
      "metadata": {
        "id": "i9ZjsUgwVBOT",
        "colab_type": "text"
      },
      "source": [
        "取出經過 PCA 後的 encode_vector"
      ]
    },
    {
      "cell_type": "code",
      "metadata": {
        "id": "tgCw2go8i5Zi",
        "colab_type": "code",
        "colab": {}
      },
      "source": [
        "# for cnn\n",
        "if (model_type == 'cnn'):\n",
        "    encode_vector = y_reconstructed.reshape(-1, 16, 512, 2, 2) #轉成 cnn_encode\n",
        "    encode_vector = torch.from_numpy(encode_vector).cuda()  #numpy => tensor，記得放在 gpu\n",
        "\n",
        "# for fcn  \n",
        "elif (model_type == 'fcn'):\n",
        "    encode_vector = y_reconstructed.reshape(-1, 16, 3) #轉成 fcn_encode\n",
        "    encode_vector = torch.from_numpy(encode_vector).cuda()  #numpy => tensor，記得放在 gpu\n",
        "\n",
        "# for vae \n",
        "else:\n",
        "    encode_vector = y_reconstructed.reshape(-1, 16, 3) #轉成 vae_encode\n",
        "    encode_vector = torch.from_numpy(encode_vector).cuda()  #numpy => tensor，記得放在 gpu"
      ],
      "execution_count": null,
      "outputs": []
    },
    {
      "cell_type": "code",
      "metadata": {
        "id": "OsayC7vZTLVN",
        "colab_type": "code",
        "colab": {
          "base_uri": "https://localhost:8080/",
          "height": 52
        },
        "outputId": "323765ad-943a-4196-830a-205aff3b8d92"
      },
      "source": [
        "print(len(y_pred))\n",
        "print(y_pred)\n",
        "\n",
        "with open('best_model_fcn_0_pca_prediction_1.csv', 'w') as f:\n",
        "    f.write('id,anomaly\\n')\n",
        "    for i in range(len(y_pred)):\n",
        "        f.write('{},{}\\n'.format(i+1, y_pred[i]))"
      ],
      "execution_count": null,
      "outputs": [
        {
          "output_type": "stream",
          "text": [
            "10000\n",
            "[3.2027507 2.905815  8.819537  ... 1.0293142 2.0678427 2.7613347]\n"
          ],
          "name": "stdout"
        }
      ]
    },
    {
      "cell_type": "markdown",
      "metadata": {
        "id": "3JK6-OHkZEZo",
        "colab_type": "text"
      },
      "source": [
        "放回 decoder 預測"
      ]
    },
    {
      "cell_type": "code",
      "metadata": {
        "id": "4yNW9ESLjI5A",
        "colab_type": "code",
        "colab": {}
      },
      "source": [
        "with torch.no_grad():\n",
        "\n",
        "    reconstructed = list()\n",
        "    model.eval()\n",
        "    task = 'ae'\n",
        "    if task == 'ae':\n",
        "        if model_type == 'fcn' or model_type == 'vae':\n",
        "            y = test.reshape(len(test), -1)\n",
        "        else:\n",
        "            y = test\n",
        "       \n",
        "    for i in range (len(encode_vector)): \n",
        "        output = model.decoder(encode_vector[i])\n",
        "        if model_type == 'cnn':\n",
        "            output = output.transpose(3, 1)\n",
        "        elif model_type == 'vae':\n",
        "            output = output[0]\n",
        "        reconstructed.append(output.cpu().detach().numpy())\n",
        "\n",
        "    # np.concatenate 傳入的參數必須是一個多個數組的元組或者列表\n",
        "    # 另外需要指定拼接的方向，默認是 axis = 0，也就是說對0軸的數組對象進行縱向的拼接（縱向的拼接沿著axis= 1方向）；\n",
        "    # 注：一般axis = 0，就是對該軸向的數組進行操作，操作方向是另外一個軸，即axis=1。\n",
        "    reconstructed = np.concatenate(reconstructed, axis=0)\n",
        "    anomality = np.sqrt(np.sum(np.square(reconstructed - y).reshape(len(y), -1), axis=1))\n",
        "    y_pred = anomality\n",
        "\n",
        "    with open('best_model_{}_1_'.format(model_type) + 'knn_decode_prediction_1.csv', 'w') as f:\n",
        "        f.write('id,anomaly\\n')\n",
        "        for i in range(len(y_pred)):\n",
        "            f.write('{},{}\\n'.format(i+1, y_pred[i]))\n",
        "    # score = roc_auc_score(y_label, y_pred, average='micro')\n",
        "    # score = f1_score(y_label, y_pred, average='micro')\n",
        "    # print('auc score: {}'.format(score))\n"
      ],
      "execution_count": null,
      "outputs": []
    }
  ]
}