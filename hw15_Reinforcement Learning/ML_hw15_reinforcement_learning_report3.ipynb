{
  "nbformat": 4,
  "nbformat_minor": 0,
  "metadata": {
    "colab": {
      "name": "ML_hw15_reinforcement_learning_2_AC.ipynb",
      "provenance": [],
      "collapsed_sections": []
    },
    "kernelspec": {
      "name": "python3",
      "display_name": "Python 3"
    },
    "widgets": {
      "application/vnd.jupyter.widget-state+json": {
        "4dd7d53c1a7e4a05960b8bef372e5a87": {
          "model_module": "@jupyter-widgets/controls",
          "model_name": "HBoxModel",
          "state": {
            "_view_name": "HBoxView",
            "_dom_classes": [],
            "_model_name": "HBoxModel",
            "_view_module": "@jupyter-widgets/controls",
            "_model_module_version": "1.5.0",
            "_view_count": null,
            "_view_module_version": "1.5.0",
            "box_style": "",
            "layout": "IPY_MODEL_39f1a800a62545bcb6b31dee998b1d4c",
            "_model_module": "@jupyter-widgets/controls",
            "children": [
              "IPY_MODEL_9397136b8d7b4716b99860be1caf346e",
              "IPY_MODEL_09f191eec3c04dbd8ea2c6acf9748a92"
            ]
          }
        },
        "39f1a800a62545bcb6b31dee998b1d4c": {
          "model_module": "@jupyter-widgets/base",
          "model_name": "LayoutModel",
          "state": {
            "_view_name": "LayoutView",
            "grid_template_rows": null,
            "right": null,
            "justify_content": null,
            "_view_module": "@jupyter-widgets/base",
            "overflow": null,
            "_model_module_version": "1.2.0",
            "_view_count": null,
            "flex_flow": null,
            "width": null,
            "min_width": null,
            "border": null,
            "align_items": null,
            "bottom": null,
            "_model_module": "@jupyter-widgets/base",
            "top": null,
            "grid_column": null,
            "overflow_y": null,
            "overflow_x": null,
            "grid_auto_flow": null,
            "grid_area": null,
            "grid_template_columns": null,
            "flex": null,
            "_model_name": "LayoutModel",
            "justify_items": null,
            "grid_row": null,
            "max_height": null,
            "align_content": null,
            "visibility": null,
            "align_self": null,
            "height": null,
            "min_height": null,
            "padding": null,
            "grid_auto_rows": null,
            "grid_gap": null,
            "max_width": null,
            "order": null,
            "_view_module_version": "1.2.0",
            "grid_template_areas": null,
            "object_position": null,
            "object_fit": null,
            "grid_auto_columns": null,
            "margin": null,
            "display": null,
            "left": null
          }
        },
        "9397136b8d7b4716b99860be1caf346e": {
          "model_module": "@jupyter-widgets/controls",
          "model_name": "FloatProgressModel",
          "state": {
            "_view_name": "ProgressView",
            "style": "IPY_MODEL_b071316284904b22b78e2a064d519d6d",
            "_dom_classes": [],
            "description": "Total:  134.6, Final:  9.9: 100%",
            "_model_name": "FloatProgressModel",
            "bar_style": "success",
            "max": 180,
            "_view_module": "@jupyter-widgets/controls",
            "_model_module_version": "1.5.0",
            "value": 180,
            "_view_count": null,
            "_view_module_version": "1.5.0",
            "orientation": "horizontal",
            "min": 0,
            "description_tooltip": null,
            "_model_module": "@jupyter-widgets/controls",
            "layout": "IPY_MODEL_ede513ae888a47be8ad0e05ee2178c9f"
          }
        },
        "09f191eec3c04dbd8ea2c6acf9748a92": {
          "model_module": "@jupyter-widgets/controls",
          "model_name": "HTMLModel",
          "state": {
            "_view_name": "HTMLView",
            "style": "IPY_MODEL_68d4a0eecf394cda88a14848c3e110a4",
            "_dom_classes": [],
            "description": "",
            "_model_name": "HTMLModel",
            "placeholder": "​",
            "_view_module": "@jupyter-widgets/controls",
            "_model_module_version": "1.5.0",
            "value": " 180/180 [25:15&lt;00:00,  8.42s/it]",
            "_view_count": null,
            "_view_module_version": "1.5.0",
            "description_tooltip": null,
            "_model_module": "@jupyter-widgets/controls",
            "layout": "IPY_MODEL_4933c377e095404aa34fbfa5100985dd"
          }
        },
        "b071316284904b22b78e2a064d519d6d": {
          "model_module": "@jupyter-widgets/controls",
          "model_name": "ProgressStyleModel",
          "state": {
            "_view_name": "StyleView",
            "_model_name": "ProgressStyleModel",
            "description_width": "initial",
            "_view_module": "@jupyter-widgets/base",
            "_model_module_version": "1.5.0",
            "_view_count": null,
            "_view_module_version": "1.2.0",
            "bar_color": null,
            "_model_module": "@jupyter-widgets/controls"
          }
        },
        "ede513ae888a47be8ad0e05ee2178c9f": {
          "model_module": "@jupyter-widgets/base",
          "model_name": "LayoutModel",
          "state": {
            "_view_name": "LayoutView",
            "grid_template_rows": null,
            "right": null,
            "justify_content": null,
            "_view_module": "@jupyter-widgets/base",
            "overflow": null,
            "_model_module_version": "1.2.0",
            "_view_count": null,
            "flex_flow": null,
            "width": null,
            "min_width": null,
            "border": null,
            "align_items": null,
            "bottom": null,
            "_model_module": "@jupyter-widgets/base",
            "top": null,
            "grid_column": null,
            "overflow_y": null,
            "overflow_x": null,
            "grid_auto_flow": null,
            "grid_area": null,
            "grid_template_columns": null,
            "flex": null,
            "_model_name": "LayoutModel",
            "justify_items": null,
            "grid_row": null,
            "max_height": null,
            "align_content": null,
            "visibility": null,
            "align_self": null,
            "height": null,
            "min_height": null,
            "padding": null,
            "grid_auto_rows": null,
            "grid_gap": null,
            "max_width": null,
            "order": null,
            "_view_module_version": "1.2.0",
            "grid_template_areas": null,
            "object_position": null,
            "object_fit": null,
            "grid_auto_columns": null,
            "margin": null,
            "display": null,
            "left": null
          }
        },
        "68d4a0eecf394cda88a14848c3e110a4": {
          "model_module": "@jupyter-widgets/controls",
          "model_name": "DescriptionStyleModel",
          "state": {
            "_view_name": "StyleView",
            "_model_name": "DescriptionStyleModel",
            "description_width": "",
            "_view_module": "@jupyter-widgets/base",
            "_model_module_version": "1.5.0",
            "_view_count": null,
            "_view_module_version": "1.2.0",
            "_model_module": "@jupyter-widgets/controls"
          }
        },
        "4933c377e095404aa34fbfa5100985dd": {
          "model_module": "@jupyter-widgets/base",
          "model_name": "LayoutModel",
          "state": {
            "_view_name": "LayoutView",
            "grid_template_rows": null,
            "right": null,
            "justify_content": null,
            "_view_module": "@jupyter-widgets/base",
            "overflow": null,
            "_model_module_version": "1.2.0",
            "_view_count": null,
            "flex_flow": null,
            "width": null,
            "min_width": null,
            "border": null,
            "align_items": null,
            "bottom": null,
            "_model_module": "@jupyter-widgets/base",
            "top": null,
            "grid_column": null,
            "overflow_y": null,
            "overflow_x": null,
            "grid_auto_flow": null,
            "grid_area": null,
            "grid_template_columns": null,
            "flex": null,
            "_model_name": "LayoutModel",
            "justify_items": null,
            "grid_row": null,
            "max_height": null,
            "align_content": null,
            "visibility": null,
            "align_self": null,
            "height": null,
            "min_height": null,
            "padding": null,
            "grid_auto_rows": null,
            "grid_gap": null,
            "max_width": null,
            "order": null,
            "_view_module_version": "1.2.0",
            "grid_template_areas": null,
            "object_position": null,
            "object_fit": null,
            "grid_auto_columns": null,
            "margin": null,
            "display": null,
            "left": null
          }
        }
      }
    }
  },
  "cells": [
    {
      "cell_type": "markdown",
      "metadata": {
        "id": "Fp30SB4bxeQb",
        "colab_type": "text"
      },
      "source": [
        "# **Homework 15 - Reinforcement Learning_a2c**\n",
        "\n",
        "這裡是 report 第三題，關於如何使用 actor-critic\n"
      ]
    },
    {
      "cell_type": "markdown",
      "metadata": {
        "id": "x67NUM7mTul2",
        "colab_type": "text"
      },
      "source": [
        "參考資料：   \n",
        "1. https://github.com/higgsfield/RL-Adventure-2/blob/master/1.actor-critic.ipynb"
      ]
    },
    {
      "cell_type": "code",
      "metadata": {
        "id": "M2C_WXykO62G",
        "colab_type": "code",
        "colab": {}
      },
      "source": [
        "# from google.colab import drive\n",
        "# drive.mount('/content/gdrive', force_remount=True)\n",
        "folder_path = './'"
      ],
      "execution_count": null,
      "outputs": []
    },
    {
      "cell_type": "code",
      "metadata": {
        "id": "5JJ6brChPAwM",
        "colab_type": "code",
        "colab": {}
      },
      "source": [
        "import random\n",
        "import torch\n",
        "import numpy as np\n",
        "\n",
        "# 固定隨機種子\n",
        "def same_seeds(seed):\n",
        "    torch.manual_seed(seed)\n",
        "    if torch.cuda.is_available():\n",
        "        torch.cuda.manual_seed(seed)\n",
        "        torch.cuda.manual_seed_all(seed)  # if you are using multi-GPU.\n",
        "    np.random.seed(seed)  # Numpy module.\n",
        "    random.seed(seed)  # Python random module.\n",
        "    torch.backends.cudnn.benchmark = False\n",
        "    torch.backends.cudnn.deterministic = True\n",
        "\n",
        "same_seeds(0)"
      ],
      "execution_count": null,
      "outputs": []
    },
    {
      "cell_type": "markdown",
      "metadata": {
        "id": "yXsnCWPtWSNk",
        "colab_type": "text"
      },
      "source": [
        "## 前置作業\n",
        "\n",
        "首先我們需要安裝必要的系統套件及 PyPi 套件。\n",
        "gym 這個套件由 OpenAI 所提供，是一套用來開發與比較 Reinforcement Learning 演算法的工具包（toolkit）。\n",
        "而其餘套件則是為了在 Notebook 中繪圖所需要的套件。"
      ]
    },
    {
      "cell_type": "code",
      "metadata": {
        "id": "5e2bScpnkVbv",
        "colab_type": "code",
        "colab": {}
      },
      "source": [
        "%%capture \n",
        "# %%capture \n",
        "# IPython has a cell magic, %%capture, which captures the stdout/stderr of a cell. \n",
        "# With this magic you can discard these streams or store them in a variable.\n",
        "\n",
        "# install process\n",
        "!apt update\n",
        "!apt install python-opengl xvfb -y\n",
        "!pip install gym[box2d] pyvirtualdisplay piglet tqdm"
      ],
      "execution_count": null,
      "outputs": []
    },
    {
      "cell_type": "markdown",
      "metadata": {
        "id": "M_-i3cdoYsks",
        "colab_type": "text"
      },
      "source": [
        "接下來，設置好 virtual display，並引入所有必要的套件。"
      ]
    },
    {
      "cell_type": "code",
      "metadata": {
        "id": "nl2nREINDLiw",
        "colab_type": "code",
        "colab": {}
      },
      "source": [
        "%%capture\n",
        "from pyvirtualdisplay import Display\n",
        "virtual_display = Display(visible=0, size=(1400, 900))\n",
        "virtual_display.start()\n",
        "\n",
        "%matplotlib inline\n",
        "# %matplotlib inline 可以在Ipython編譯器裡直接使用，功能是可以內嵌繪圖，並且可以省略掉plt.show()這一步。\n",
        "import matplotlib.pyplot as plt\n",
        "\n",
        "from IPython import display\n",
        "\n",
        "import numpy as np\n",
        "import torch\n",
        "import torch.nn as nn\n",
        "import torch.optim as optim\n",
        "import torch.nn.functional as F\n",
        "from torch.distributions import Categorical\n",
        "from tqdm import tqdm_notebook"
      ],
      "execution_count": null,
      "outputs": []
    },
    {
      "cell_type": "markdown",
      "metadata": {
        "id": "He0XDx6bzjgC",
        "colab_type": "text"
      },
      "source": [
        "最後，引入 OpenAI 的 gym，並建立一個 [Lunar Lander](https://gym.openai.com/envs/LunarLander-v2/) 環境。"
      ]
    },
    {
      "cell_type": "markdown",
      "metadata": {
        "id": "lbIXEE0wYBRx",
        "colab_type": "text"
      },
      "source": [
        "gym 小介紹：   \n",
        "1. https://medium.com/pyladies-taiwan/reinforcement-learning-%E5%81%A5%E8%BA%AB%E6%88%BF-openai-gym-e2ad99311efc \n",
        "2. https://ithelp.ithome.com.tw/articles/10217736"
      ]
    },
    {
      "cell_type": "code",
      "metadata": {
        "id": "N_4-xJcbBt09",
        "colab_type": "code",
        "colab": {}
      },
      "source": [
        "%%capture\n",
        "import gym\n",
        "# OpenAI Gym 是由 OpenAI 開源的 Reinforcement Learning 工具包，裡面有許多現成 environment 處理環境模擬及獎勵等等過程，讓開發者專注於演算法開發。\n",
        "env = gym.make('LunarLander-v2')"
      ],
      "execution_count": null,
      "outputs": []
    },
    {
      "cell_type": "markdown",
      "metadata": {
        "id": "NrkVvTrvWZ5H",
        "colab_type": "text"
      },
      "source": [
        "## 什麼是 Lunar Lander？\n",
        "\n",
        "“LunarLander-v2” 這個環境是在模擬登月小艇降落在月球表面時的情形。\n",
        "這個任務的目標是讓登月小艇「安全地」降落在兩個黃色旗幟間的平地上。\n",
        "> Landing pad is always at coordinates (0,0).\n",
        "> Coordinates are the first two numbers in state vector.\n",
        "\n",
        "![](https://gym.openai.com/assets/docs/aeloop-138c89d44114492fd02822303e6b4b07213010bb14ca5856d2d49d6b62d88e53.svg)\n",
        "\n",
        "所謂的「環境」其實同時包括了 agent 和 environment。\n",
        "我們利用 `step()` 這個函式讓 agent 行動，而後函式便會回傳 environment 給予的 observation/state（以下這兩個名詞代表同樣的意思）和 reward。"
      ]
    },
    {
      "cell_type": "markdown",
      "metadata": {
        "id": "bIbp82sljvAt",
        "colab_type": "text"
      },
      "source": [
        "### Observation / State\n",
        "\n",
        "首先，我們可以看看 environment 回傳給 agent 的 observation 究竟是長什麼樣子的資料："
      ]
    },
    {
      "cell_type": "code",
      "metadata": {
        "id": "rsXZra3N9R5T",
        "colab_type": "code",
        "colab": {
          "base_uri": "https://localhost:8080/",
          "height": 35
        },
        "outputId": "71693c02-3374-4100-e0fd-e8558ab80e55"
      },
      "source": [
        "print(env.observation_space)"
      ],
      "execution_count": null,
      "outputs": [
        {
          "output_type": "stream",
          "text": [
            "Box(8,)\n"
          ],
          "name": "stdout"
        }
      ]
    },
    {
      "cell_type": "markdown",
      "metadata": {
        "id": "ezdfoThbAQ49",
        "colab_type": "text"
      },
      "source": [
        "`Box(8,)` 說明我們會拿到 8 維的向量作為 observation，其中包含：垂直及水平座標、速度、角度、加速度等等，這部分我們就不細說。\n",
        "\n",
        "### Action\n",
        "\n",
        "而在 agent 得到 observation 和 reward 以後，能夠採取的動作有："
      ]
    },
    {
      "cell_type": "code",
      "metadata": {
        "id": "p1k4dIrBAaKi",
        "colab_type": "code",
        "colab": {
          "base_uri": "https://localhost:8080/",
          "height": 35
        },
        "outputId": "a12a3f8d-b9d2-447b-9fdc-bf8a34b77694"
      },
      "source": [
        "print(env.action_space)"
      ],
      "execution_count": null,
      "outputs": [
        {
          "output_type": "stream",
          "text": [
            "Discrete(4)\n"
          ],
          "name": "stdout"
        }
      ]
    },
    {
      "cell_type": "markdown",
      "metadata": {
        "id": "dejXT6PHBrPn",
        "colab_type": "text"
      },
      "source": [
        "`Discrete(4)` 說明 agent 可以採取四種離散的行動：\n",
        "- 0 代表不採取任何行動\n",
        "- 2 代表主引擎向下噴射\n",
        "- 1, 3 則是向左右噴射\n",
        "\n",
        "接下來，我們嘗試讓 agent 與 environment 互動。\n",
        "在進行任何操作前，建議先呼叫 `reset()` 函式讓整個「環境」重置。\n",
        "而這個函式同時會回傳「環境」最初始的狀態。"
      ]
    },
    {
      "cell_type": "code",
      "metadata": {
        "id": "pi4OmrmZgnWA",
        "colab_type": "code",
        "colab": {
          "base_uri": "https://localhost:8080/",
          "height": 52
        },
        "outputId": "acd4df6a-31fb-4c9d-8240-a10f3295ce14"
      },
      "source": [
        "initial_state = env.reset()\n",
        "print(initial_state)"
      ],
      "execution_count": null,
      "outputs": [
        {
          "output_type": "stream",
          "text": [
            "[ 0.00704393  1.4152572   0.713456    0.19273667 -0.00815534 -0.16160841\n",
            "  0.          0.        ]\n"
          ],
          "name": "stdout"
        }
      ]
    },
    {
      "cell_type": "markdown",
      "metadata": {
        "id": "uBx0mEqqgxJ9",
        "colab_type": "text"
      },
      "source": [
        "接著，我們試著從 agent 的四種行動空間中，隨機採取一個行動"
      ]
    },
    {
      "cell_type": "code",
      "metadata": {
        "id": "vxkOEXRKgizt",
        "colab_type": "code",
        "colab": {
          "base_uri": "https://localhost:8080/",
          "height": 35
        },
        "outputId": "62bea1a5-06d1-4367-fec8-e1652eff4c72"
      },
      "source": [
        "random_action = env.action_space.sample()\n",
        "print(random_action)"
      ],
      "execution_count": null,
      "outputs": [
        {
          "output_type": "stream",
          "text": [
            "2\n"
          ],
          "name": "stdout"
        }
      ]
    },
    {
      "cell_type": "markdown",
      "metadata": {
        "id": "mns-bO01g0-J",
        "colab_type": "text"
      },
      "source": [
        "再利用 `step()` 函式讓 agent 根據我們隨機抽樣出來的 `random_action` 動作。\n",
        "而這個函式會回傳四項資訊：\n",
        "- observation / state\n",
        "- reward\n",
        "- 完成與否\n",
        "- 其餘資訊"
      ]
    },
    {
      "cell_type": "code",
      "metadata": {
        "id": "E_WViSxGgIk9",
        "colab_type": "code",
        "colab": {}
      },
      "source": [
        "observation, reward, done, info = env.step(random_action)"
      ],
      "execution_count": null,
      "outputs": []
    },
    {
      "cell_type": "markdown",
      "metadata": {
        "id": "FdieGq7NuBIm",
        "colab_type": "text"
      },
      "source": [
        "第一項資訊 `observation` 即為 agent 採取行動之後，agent 對於環境的 observation 或者說環境的 state 為何。\n",
        "而第三項資訊 `done` 則是 `True` 或 `False` 的布林值，當登月小艇成功著陸或是不幸墜毀時，代表這個回合（episode）也就跟著結束了，此時 `step()` 函式便會回傳 `done = True`，而在那之前，`done` 則保持 `False`。"
      ]
    },
    {
      "cell_type": "code",
      "metadata": {
        "id": "yK7r126kuCNp",
        "colab_type": "code",
        "colab": {
          "base_uri": "https://localhost:8080/",
          "height": 35
        },
        "outputId": "e8b00ac6-2615-4e9e-8b6c-bd474f10e9ac"
      },
      "source": [
        "print(done)"
      ],
      "execution_count": null,
      "outputs": [
        {
          "output_type": "stream",
          "text": [
            "False\n"
          ],
          "name": "stdout"
        }
      ]
    },
    {
      "cell_type": "markdown",
      "metadata": {
        "id": "GKdS8vOihxhc",
        "colab_type": "text"
      },
      "source": [
        "### Reward\n",
        "\n",
        "而「環境」給予的 reward 大致是這樣計算：\n",
        "- 小艇墜毀得到 -100 分\n",
        "- 小艇在黃旗幟之間成功著地則得 100~140 分\n",
        "- 噴射主引擎（向下噴火）每次 -0.3 分\n",
        "- 小艇最終完全靜止則再得 100 分\n",
        "\n",
        "> Reward for moving from the top of the screen to landing pad and zero speed is about 100..140 points.\n",
        "> If lander moves away from landing pad it loses reward back.\n",
        "> Episode finishes if the lander crashes or comes to rest, receiving additional -100 or +100 points.\n",
        "> Each leg ground contact is +10.\n",
        "> Firing main engine is -0.3 points each frame.\n",
        "> Solved is 200 points."
      ]
    },
    {
      "cell_type": "code",
      "metadata": {
        "id": "vxQNs77hi0_7",
        "colab_type": "code",
        "colab": {
          "base_uri": "https://localhost:8080/",
          "height": 35
        },
        "outputId": "d94d975b-aadb-4450-9c5f-5f7dae2f03df"
      },
      "source": [
        "print(reward)"
      ],
      "execution_count": null,
      "outputs": [
        {
          "output_type": "stream",
          "text": [
            "-2.846440576236705\n"
          ],
          "name": "stdout"
        }
      ]
    },
    {
      "cell_type": "markdown",
      "metadata": {
        "id": "Mhqp6D-XgHpe",
        "colab_type": "text"
      },
      "source": [
        "### Random Agent\n",
        "\n",
        "最後，在進入實做之前，我們就來看看這樣一個 random agent 能否成功登陸月球："
      ]
    },
    {
      "cell_type": "code",
      "metadata": {
        "id": "Y3G0bxoccelv",
        "colab_type": "code",
        "colab": {
          "base_uri": "https://localhost:8080/",
          "height": 269
        },
        "outputId": "77f0d022-3d54-4a12-a0e8-56194dbec830"
      },
      "source": [
        "env.reset()\n",
        "\n",
        "img = plt.imshow(env.render(mode='rgb_array'))\n",
        "# env.render() 視覺化呈現，它只會回應出呼叫那一刻的畫面給你，要它持續出現，需要寫個迴圈。\n",
        "\n",
        "done = False\n",
        "while not done:\n",
        "    action = env.action_space.sample()\n",
        "    observation, reward, done, _ = env.step(action)\n",
        "\n",
        "    img.set_data(env.render(mode='rgb_array'))\n",
        "    # img.set_data(self, A) => set the image array.\n",
        "\n",
        "    display.display(plt.gcf())\n",
        "    # display(obj, **kwargs) => Make a new display with my id, updating existing instances.\n",
        "    # plt.gcf() => 得到當前的 figure\n",
        "\n",
        "    display.clear_output(wait=True) # 在同個視窗顯示結果"
      ],
      "execution_count": null,
      "outputs": [
        {
          "output_type": "display_data",
          "data": {
            "image/png": "[encoded data removed]",
            "text/plain": [
              "<Figure size 432x288 with 1 Axes>"
            ]
          },
          "metadata": {
            "tags": [],
            "needs_background": "light"
          }
        }
      ]
    },
    {
      "cell_type": "markdown",
      "metadata": {
        "id": "A7yuxTlbWb1y",
        "colab_type": "text"
      },
      "source": [
        "# Actor-Critic"
      ]
    },
    {
      "cell_type": "code",
      "metadata": {
        "id": "d0Wcb2FliV6e",
        "colab_type": "code",
        "colab": {}
      },
      "source": [
        "# Actor module, categorical actions only\n",
        "class Actor(nn.Module):\n",
        "    def __init__(self):\n",
        "        super().__init__()\n",
        "        self.actor = nn.Sequential(\n",
        "            nn.Linear(8, 16),\n",
        "            # nn.ReLU(),\n",
        "            nn.Tanh(),\n",
        "            nn.Linear(16, 16),\n",
        "            # nn.ReLU(),\n",
        "            nn.Tanh(),\n",
        "            nn.Linear(16, 4),\n",
        "            nn.Softmax()\n",
        "        )\n",
        "    \n",
        "    def forward(self, state):\n",
        "        probs = self.actor(state)\n",
        "        dist  = Categorical(probs)\n",
        "        return dist\n",
        "\n",
        "# Critic module\n",
        "class Critic(nn.Module):\n",
        "    def __init__(self):\n",
        "        super().__init__()\n",
        "        self.critic = nn.Sequential(\n",
        "            nn.Linear(8, 16),\n",
        "            nn.ReLU(),\n",
        "            nn.Linear(16, 16),\n",
        "            nn.ReLU(),\n",
        "            nn.Linear(16, 1)\n",
        "        )\n",
        "    \n",
        "    def forward(self, state):\n",
        "        state_value = self.critic(state)\n",
        "        return state_value"
      ],
      "execution_count": null,
      "outputs": []
    },
    {
      "cell_type": "markdown",
      "metadata": {
        "id": "ehPlnTKyRZf9",
        "colab_type": "text"
      },
      "source": [
        "最後，建立一個 Actor-Critic，就可以開始進行訓練了。"
      ]
    },
    {
      "cell_type": "code",
      "metadata": {
        "id": "GfJIvML-RYjL",
        "colab_type": "code",
        "colab": {
          "base_uri": "https://localhost:8080/",
          "height": 624
        },
        "outputId": "46f3a31f-a815-4093-dce0-68b33af145e9"
      },
      "source": [
        "actor = Actor()\n",
        "critic = Critic()\n",
        "# actor_optimizer = torch.optim.SGD(actor.parameters(), lr=0.001, momentum=0.9)\n",
        "# critic_optimizer = torch.optim.SGD(critic.parameters(), lr=0.001, momentum=0.9)\n",
        "actor_optimizer = torch.optim.Adam(actor.parameters(), lr=0.005)\n",
        "critic_optimizer = torch.optim.Adam(critic.parameters(), lr=0.005)\n",
        "print(actor)\n",
        "print(critic)\n",
        "print(actor_optimizer)\n",
        "print(critic_optimizer)"
      ],
      "execution_count": null,
      "outputs": [
        {
          "output_type": "stream",
          "text": [
            "Actor(\n",
            "  (actor): Sequential(\n",
            "    (0): Linear(in_features=8, out_features=16, bias=True)\n",
            "    (1): Tanh()\n",
            "    (2): Linear(in_features=16, out_features=16, bias=True)\n",
            "    (3): Tanh()\n",
            "    (4): Linear(in_features=16, out_features=4, bias=True)\n",
            "    (5): Softmax(dim=None)\n",
            "  )\n",
            ")\n",
            "Critic(\n",
            "  (critic): Sequential(\n",
            "    (0): Linear(in_features=8, out_features=16, bias=True)\n",
            "    (1): ReLU()\n",
            "    (2): Linear(in_features=16, out_features=16, bias=True)\n",
            "    (3): ReLU()\n",
            "    (4): Linear(in_features=16, out_features=1, bias=True)\n",
            "  )\n",
            ")\n",
            "Adam (\n",
            "Parameter Group 0\n",
            "    amsgrad: False\n",
            "    betas: (0.9, 0.999)\n",
            "    eps: 1e-08\n",
            "    lr: 0.005\n",
            "    weight_decay: 0\n",
            ")\n",
            "Adam (\n",
            "Parameter Group 0\n",
            "    amsgrad: False\n",
            "    betas: (0.9, 0.999)\n",
            "    eps: 1e-08\n",
            "    lr: 0.005\n",
            "    weight_decay: 0\n",
            ")\n"
          ],
          "name": "stdout"
        }
      ]
    },
    {
      "cell_type": "markdown",
      "metadata": {
        "id": "ouv23glgf5Qt",
        "colab_type": "text"
      },
      "source": [
        "## 訓練 Actor-Critic\n",
        "現在我們開始訓練 Actor-Critic。\n",
        "\n",
        "![alt text](https://imgur.com/lP1NOKV.png)\n"
      ]
    },
    {
      "cell_type": "code",
      "metadata": {
        "id": "d1LlvkhvCfUH",
        "colab_type": "code",
        "colab": {
          "base_uri": "https://localhost:8080/",
          "height": 624,
          "referenced_widgets": [
            "4dd7d53c1a7e4a05960b8bef372e5a87",
            "39f1a800a62545bcb6b31dee998b1d4c",
            "9397136b8d7b4716b99860be1caf346e",
            "09f191eec3c04dbd8ea2c6acf9748a92",
            "b071316284904b22b78e2a064d519d6d",
            "ede513ae888a47be8ad0e05ee2178c9f",
            "68d4a0eecf394cda88a14848c3e110a4",
            "4933c377e095404aa34fbfa5100985dd"
          ]
        },
        "outputId": "2f968818-dd51-4150-aa28-cfdb2b15658a"
      },
      "source": [
        "# Mine\n",
        "actor.train()  # 訓練前，先確保 actor 處在 training 模式\n",
        "critic.train() # 訓練前，先確保 critic 處在 training 模式\n",
        "\n",
        "NUM_BATCH = 180        # 訓練 100 次\n",
        "EPISODE_PER_BATCH = 10  # batch = 10\n",
        "gamma = 0.99           # 設定 gamma (discount factor)\n",
        "best = -100000         # save model initial threshold\n",
        "max_steps = 200        # step max threshold\n",
        "\n",
        "avg_total_rewards, avg_final_rewards = [], []\n",
        "avg_critic_losses, avg_actor_losses = [], []\n",
        "\n",
        "prg_bar = tqdm_notebook(range(NUM_BATCH))\n",
        "\n",
        "for batch in prg_bar: # 總共更新 \"NUM_BATCH\" 次\n",
        "\n",
        "    total_rewards, final_rewards = [], []\n",
        "    total_critic_loss, total_actor_loss = [], []\n",
        "    log_probs = []\n",
        "    advantages = []\n",
        "\n",
        "    for episode in range(EPISODE_PER_BATCH): # 每蒐集 \"EPISODE_PER_BATCH\" 個 episodes 更新一次 agent\n",
        "        \n",
        "        rewards, state_values, dones = [], [], []\n",
        "        state = env.reset()\n",
        "        total_reward, total_step = 0, 0\n",
        "\n",
        "        while True:\n",
        "\n",
        "            # get action\n",
        "            state = torch.FloatTensor(state) # numpy to tensor\n",
        "            dist = actor(state)\n",
        "            action = dist.sample()\n",
        "            log_prob = dist.log_prob(action) # use log_prob to construct an equivalent loss function\n",
        "\n",
        "            # get next state, reward\n",
        "            next_state, reward, done, _ = env.step(action.detach().data.numpy())\n",
        "            total_reward += reward\n",
        "\n",
        "            # get state value\n",
        "            state_value = critic(state)\n",
        "            state = next_state\n",
        "\n",
        "            # store data for 5 batches\n",
        "            log_probs.append(log_prob)\n",
        "            rewards.append(reward)\n",
        "            state_values.append(state_value)\n",
        "            dones.append(done)\n",
        "\n",
        "            total_step += 1\n",
        "\n",
        "            # if done or (total_step % max_steps == 0):\n",
        "            if done :\n",
        "                next_state = torch.FloatTensor(next_state)\n",
        "                state_value_final = critic(next_state).detach().data.numpy() # get final state_value\n",
        "                values = torch.stack(state_values) \n",
        "                q_vals = np.zeros((total_step, 1))\n",
        "\n",
        "                final_rewards.append(reward)\n",
        "                total_rewards.append(total_reward)\n",
        "                    \n",
        "                # target values are calculated backward\n",
        "                # it's super important to handle correctly done states,\n",
        "                # for those cases we want our to target to be equal to the reward only\n",
        "                q_val = state_value_final\n",
        "\n",
        "                # 用最後的 q_val 推到前面方法\n",
        "                for i in range(total_step-1, -1, -1):\n",
        "                    q_val = rewards[i] + gamma*q_val*(1.0-dones[i])\n",
        "                    q_vals[i] = q_val # store values from the end to the beginning\n",
        "\n",
        "                # # 用所有的 state_value 推到前面方法\n",
        "                # for i in range(total_step-1, -1, -1):\n",
        "                #     if(i == total_step-1): # state_value[i+1] == 0\n",
        "                #         q_val = rewards[i] + gamma*state_value_final*(1.0-dones[i])\n",
        "                #     else:\n",
        "                #         q_val = rewards[i] + (gamma*values[i+1].detach().numpy())*(1.0-dones[i])\n",
        "                #     q_vals[i] = q_val # store values from the end to the beginning               \n",
        "                        \n",
        "                advantage = torch.Tensor(q_vals) - values\n",
        "                advantages.append(advantage.detach().numpy())\n",
        "                break\n",
        "\n",
        "    # 紀錄訓練過程，每次 epoch 的平均分數\n",
        "    avg_total_reward = sum(total_rewards) / len(total_rewards)\n",
        "    avg_final_reward = sum(final_rewards) / len(final_rewards)\n",
        "\n",
        "    if(avg_total_reward > best):\n",
        "        torch.save(actor.state_dict(), './actor_best.pth')\n",
        "        torch.save(critic.state_dict(), './critic_best.pth')\n",
        "        print('save model')\n",
        "        best = avg_total_reward\n",
        "\n",
        "    avg_total_rewards.append(avg_total_reward)\n",
        "    avg_final_rewards.append(avg_final_reward)\n",
        "    prg_bar.set_description(f\"Total: {avg_total_reward: 4.1f}, Final: {avg_final_reward: 4.1f}\") # 顯示進度\n",
        "\n",
        "    advantages = np.concatenate(advantages, axis=0)\n",
        "    advantages = (advantages - np.mean(advantages)) / (np.std(advantages) + 1e-9) # normalize\n",
        "    advantages = torch.from_numpy(advantages)\n",
        "\n",
        "    # 更新 actor 網路    \n",
        "    actor_loss = (-torch.stack(log_probs)*advantages.squeeze(1).detach()).sum()\n",
        "    actor_optimizer.zero_grad()\n",
        "    actor_loss.backward()\n",
        "    actor_optimizer.step()\n",
        "    total_actor_loss.append(actor_loss)\n",
        "\n",
        "    # 更新 critic 網路\n",
        "    critic_loss = advantages.pow(2).sum()\n",
        "    critic_loss = critic_loss.requires_grad_()\n",
        "    critic_optimizer.zero_grad()\n",
        "    critic_loss.backward()\n",
        "    critic_optimizer.step()\n",
        "    total_critic_loss.append(critic_loss)\n",
        "\n",
        "    avg_critic_loss = sum(total_critic_loss) / len(total_critic_loss)\n",
        "    avg_actor_loss = sum(total_actor_loss) / len(total_actor_loss)\n",
        "    avg_critic_losses.append(avg_critic_loss)\n",
        "    avg_actor_losses.append(avg_actor_loss)\n",
        "\n",
        "print(best)"
      ],
      "execution_count": null,
      "outputs": [
        {
          "output_type": "stream",
          "text": [
            "/usr/local/lib/python3.6/dist-packages/ipykernel_launcher.py:14: TqdmDeprecationWarning: This function will be removed in tqdm==5.0.0\n",
            "Please use `tqdm.notebook.tqdm` instead of `tqdm.tqdm_notebook`\n",
            "  \n"
          ],
          "name": "stderr"
        },
        {
          "output_type": "display_data",
          "data": {
            "application/vnd.jupyter.widget-view+json": {
              "model_id": "4dd7d53c1a7e4a05960b8bef372e5a87",
              "version_minor": 0,
              "version_major": 2
            },
            "text/plain": [
              "HBox(children=(FloatProgress(value=0.0, max=180.0), HTML(value='')))"
            ]
          },
          "metadata": {
            "tags": []
          }
        },
        {
          "output_type": "stream",
          "text": [
            "/usr/local/lib/python3.6/dist-packages/torch/nn/modules/container.py:100: UserWarning: Implicit dimension choice for softmax has been deprecated. Change the call to include dim=X as an argument.\n",
            "  input = module(input)\n"
          ],
          "name": "stderr"
        },
        {
          "output_type": "stream",
          "text": [
            "save model\n",
            "save model\n",
            "save model\n",
            "save model\n",
            "save model\n",
            "save model\n",
            "save model\n",
            "save model\n",
            "save model\n",
            "save model\n",
            "save model\n",
            "save model\n",
            "save model\n",
            "save model\n",
            "save model\n",
            "save model\n",
            "save model\n",
            "save model\n",
            "save model\n",
            "save model\n",
            "save model\n",
            "save model\n",
            "save model\n",
            "save model\n",
            "save model\n",
            "\n",
            "199.22246081412163\n"
          ],
          "name": "stdout"
        }
      ]
    },
    {
      "cell_type": "markdown",
      "metadata": {
        "id": "vNb_tuFYhKVK",
        "colab_type": "text"
      },
      "source": [
        "### 訓練結果\n",
        "\n",
        "訓練過程中，我們持續記下了 `avg_total_reward`，這個數值代表的是：每次更新 policy network 前，我們讓 agent 玩數個回合（episodes），而這些回合的平均 total rewards 為何。\n",
        "理論上，若是 agent 一直在進步，則所得到的 `avg_total_reward` 也會持續上升，直至 250 上下。\n",
        "若將其畫出來則結果如下："
      ]
    },
    {
      "cell_type": "code",
      "metadata": {
        "id": "wZYOI8H10SHN",
        "colab_type": "code",
        "colab": {
          "base_uri": "https://localhost:8080/",
          "height": 281
        },
        "outputId": "d8cd6451-17bf-4eb9-e5e0-001d55a3bf12"
      },
      "source": [
        "plt.plot(avg_total_rewards)\n",
        "plt.title(\"Total Rewards\")\n",
        "plt.show()"
      ],
      "execution_count": null,
      "outputs": [
        {
          "output_type": "display_data",
          "data": {
            "image/png": "[encoded data removed]",
            "text/plain": [
              "<Figure size 432x288 with 1 Axes>"
            ]
          },
          "metadata": {
            "tags": [],
            "needs_background": "light"
          }
        }
      ]
    },
    {
      "cell_type": "markdown",
      "metadata": {
        "id": "mV5jj4dThz0Y",
        "colab_type": "text"
      },
      "source": [
        "另外，`avg_final_reward` 代表的是多個回合的平均 final rewards，而 final reward 即是 agent 在單一回合中拿到的最後一個 reward。\n",
        "如果同學們還記得環境給予登月小艇 reward 的方式，便會知道，不論**回合的最後**小艇是不幸墜毀、飛出畫面、或是靜止在地面上，都會受到額外地獎勵或處罰。\n",
        "也因此，final reward 可被用來觀察 agent 的「著地」是否順利等資訊。"
      ]
    },
    {
      "cell_type": "code",
      "metadata": {
        "id": "txDZ5vlGWz5w",
        "colab_type": "code",
        "colab": {
          "base_uri": "https://localhost:8080/",
          "height": 281
        },
        "outputId": "814da2ab-d73d-4f30-d4be-bd9f4411d5c8"
      },
      "source": [
        "plt.plot(avg_final_rewards)\n",
        "plt.title(\"Final Rewards\")\n",
        "plt.show()"
      ],
      "execution_count": null,
      "outputs": [
        {
          "output_type": "display_data",
          "data": {
            "image/png": "[encoded data removed]",
            "text/plain": [
              "<Figure size 432x288 with 1 Axes>"
            ]
          },
          "metadata": {
            "tags": [],
            "needs_background": "light"
          }
        }
      ]
    },
    {
      "cell_type": "code",
      "metadata": {
        "id": "4NKAjejAOXyv",
        "colab_type": "code",
        "colab": {
          "base_uri": "https://localhost:8080/",
          "height": 281
        },
        "outputId": "f75ade28-71d6-4c21-8ae7-35a19642086a"
      },
      "source": [
        "plt.plot(avg_critic_losses)\n",
        "plt.title(\"Total critic loss\")\n",
        "plt.show()"
      ],
      "execution_count": null,
      "outputs": [
        {
          "output_type": "display_data",
          "data": {
            "image/png": "[encoded data removed]",
            "text/plain": [
              "<Figure size 432x288 with 1 Axes>"
            ]
          },
          "metadata": {
            "tags": [],
            "needs_background": "light"
          }
        }
      ]
    },
    {
      "cell_type": "code",
      "metadata": {
        "id": "xhlMutJLOGbR",
        "colab_type": "code",
        "colab": {
          "base_uri": "https://localhost:8080/",
          "height": 281
        },
        "outputId": "0b8e6f45-9df7-495c-e827-d9849004f23c"
      },
      "source": [
        "plt.plot(avg_actor_losses)\n",
        "plt.title(\"Total actor loss\")\n",
        "plt.show()"
      ],
      "execution_count": null,
      "outputs": [
        {
          "output_type": "display_data",
          "data": {
            "image/png": "[encoded data removed]",
            "text/plain": [
              "<Figure size 432x288 with 1 Axes>"
            ]
          },
          "metadata": {
            "tags": [],
            "needs_background": "light"
          }
        }
      ]
    },
    {
      "cell_type": "markdown",
      "metadata": {
        "id": "JCnAmMX-9qgN",
        "colab_type": "text"
      },
      "source": [
        "save model"
      ]
    },
    {
      "cell_type": "code",
      "metadata": {
        "id": "gJUZRMi99pww",
        "colab_type": "code",
        "colab": {}
      },
      "source": [
        "model = Actor()\n",
        "model.load_state_dict(torch.load('actor_best.pth'))\n",
        "torch.save(model.state_dict(), folder_path + 'actor_a2c_7_git_method_batch10_Adam_epoch180.pth')\n",
        "# torch.save(model.state_dict(), folder_path + 'actor_a2c_3_my_method.pth')"
      ],
      "execution_count": null,
      "outputs": []
    },
    {
      "cell_type": "markdown",
      "metadata": {
        "id": "u2HaGRVEYGQS",
        "colab_type": "text"
      },
      "source": [
        "## 測試"
      ]
    },
    {
      "cell_type": "code",
      "metadata": {
        "id": "5yFuUKKRYH73",
        "colab_type": "code",
        "colab": {
          "base_uri": "https://localhost:8080/",
          "height": 321
        },
        "outputId": "66418af1-f371-4c9a-d014-a3da2e8b0618"
      },
      "source": [
        "# load model\n",
        "model = Actor()\n",
        "model.load_state_dict(torch.load(folder_path + 'actor_a2c_7_git_method_batch10_Adam_epoch180.pth'))\n",
        "# model.load_state_dict(torch.load(folder_path + 'actor_a2c_4_my_method.pth'))\n",
        "# model.load_state_dict(torch.load('actor_best.pth'))\n",
        "\n",
        "# set eval mode\n",
        "model.eval()  # 測試前先將 network 切換為 evaluation 模式\n",
        "\n",
        "state = env.reset()\n",
        "\n",
        "img = plt.imshow(env.render(mode='rgb_array'))\n",
        "\n",
        "total_reward = 0\n",
        "step = 0\n",
        "\n",
        "done = False\n",
        "# while (not done and step <= 300):\n",
        "while (not done):\n",
        "    state = torch.FloatTensor(state)\n",
        "    dist = model(state)\n",
        "    action = dist.sample()\n",
        "\n",
        "    # get next state, reward\n",
        "    next_state, reward, done, _ = env.step(action.detach().data.numpy())\n",
        "    state = next_state\n",
        "    total_reward += reward\n",
        "\n",
        "    img.set_data(env.render(mode='rgb_array'))\n",
        "    display.display(plt.gcf())\n",
        "    display.clear_output(wait=True)\n",
        "    step += 1\n",
        "    if(step%100 == 0):\n",
        "        print('step =', step)\n",
        "\n",
        "print(total_reward)\n",
        "print('total_step =', step)"
      ],
      "execution_count": null,
      "outputs": [
        {
          "output_type": "stream",
          "text": [
            "step = 1000\n",
            "41.1698011613192\n",
            "total_step = 1000\n"
          ],
          "name": "stdout"
        },
        {
          "output_type": "display_data",
          "data": {
            "image/png": "[encoded data removed]",
            "text/plain": [
              "<Figure size 432x288 with 1 Axes>"
            ]
          },
          "metadata": {
            "tags": [],
            "needs_background": "light"
          }
        }
      ]
    },
    {
      "cell_type": "code",
      "metadata": {
        "id": "-Jh2nk3qbNA7",
        "colab_type": "code",
        "colab": {
          "base_uri": "https://localhost:8080/",
          "height": 52
        },
        "outputId": "912d69b1-959a-45ab-9206-78280587f8b7"
      },
      "source": [
        "print(total_reward)\n",
        "print('total_step =', step)"
      ],
      "execution_count": null,
      "outputs": [
        {
          "output_type": "stream",
          "text": [
            "41.1698011613192\n",
            "total_step = 1000\n"
          ],
          "name": "stdout"
        }
      ]
    },
    {
      "cell_type": "markdown",
      "metadata": {
        "id": "wUBtYXG2eaqf",
        "colab_type": "text"
      },
      "source": [
        "## 參考資料\n",
        "\n",
        "以下是一些有用的參考資料。\n",
        "建議同學們實做前，可以先參考第一則連結的上課影片。\n",
        "在影片的最後有提到兩個有用的 Tips，這對於本次作業的實做非常有幫助。\n",
        "\n",
        "- [DRL Lecture 1: Policy Gradient (Review)](https://youtu.be/z95ZYgPgXOY)\n",
        "- [ML Lecture 23-3: Reinforcement Learning (including Q-learning) start at 30:00](https://youtu.be/2-JNBzCq77c?t=1800)\n",
        "- [Lecture 7: Policy Gradient, David Silver](http://www0.cs.ucl.ac.uk/staff/d.silver/web/Teaching_files/pg.pdf)\n"
      ]
    }
  ]
}