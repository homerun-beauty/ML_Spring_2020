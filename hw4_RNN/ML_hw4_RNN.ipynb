{
  "nbformat": 4,
  "nbformat_minor": 0,
  "metadata": {
    "colab": {
      "name": "ML_hw4_RNN.ipynb",
      "provenance": [],
      "collapsed_sections": []
    },
    "kernelspec": {
      "name": "python3",
      "display_name": "Python 3"
    },
    "accelerator": "GPU"
  },
  "cells": [
    {
      "cell_type": "markdown",
      "metadata": {
        "id": "r67y9UpchZ38",
        "colab_type": "text"
      },
      "source": [
        "# Recurrent Neural Networks\n",
        "\n",
        "本次作業是要讓同學接觸 NLP 當中一個簡單的 task —— 語句分類（文本分類）\n",
        "\n",
        "給定一個語句，判斷他有沒有惡意（負面標 0，正面標 1）\n"
      ]
    },
    {
      "cell_type": "markdown",
      "metadata": {
        "id": "IqYL_IvBj5CA",
        "colab_type": "text"
      },
      "source": [
        "## **goal**\n",
        "\n",
        "----- strong baseline -----\n",
        "0.82171   \n",
        "----- simple baseline -----\n",
        "0.76978"
      ]
    },
    {
      "cell_type": "markdown",
      "metadata": {
        "id": "aLAwLYceDof7",
        "colab_type": "text"
      },
      "source": [
        "## **可以改的地方**\n",
        "###  1. def train_word2vec(x):  訓練 word to vector 的 word embedding   \n",
        "     model = word2vec.Word2Vec(x, size=250, window=5, min_count=5, workers=12, iter=10, sg=1) #原本的\n",
        "\n",
        "### 2. class LSTM_Net(nn.Module):  \n",
        "     def __init__(self, embedding, embedding_dim, hidden_dim, num_layers,  dropout=0.5, fix_embedding=True)\n",
        "\n",
        "### 3. training\n",
        "    def training(batch_size, n_epoch, lr, model_dir, train, valid, model, device)\n",
        "### 4. Ensemble Learning   \n",
        "    Reference: http://violin-tao.blogspot.com/2018/01/ml-ensemble.html"
      ]
    },
    {
      "cell_type": "code",
      "metadata": {
        "id": "9ajS_WskRo0S",
        "colab_type": "code",
        "colab": {}
      },
      "source": [
        "# 設定路徑\n",
        "path_prefix = './'"
      ],
      "execution_count": 1,
      "outputs": []
    },
    {
      "cell_type": "markdown",
      "metadata": {
        "id": "9YrAlczfM_w6",
        "colab_type": "text"
      },
      "source": [
        "### Download Dataset\n",
        "有三個檔案，分別是 training_label.txt、training_nolabel.txt、testing_data.txt\n",
        "\n",
        "- training_label.txt：有 label 的 training data（句子配上 0 or 1，+++$+++ 只是分隔符號，不要理它）\n",
        "    - e.g., 1 +++$+++ are wtf ... awww thanks !\n",
        "\n",
        "- training_nolabel.txt：沒有 label 的 training data（只有句子），用來做 semi-supervised learning\n",
        "    - ex: hates being this burnt !! ouch\n",
        "\n",
        "- testing_data.txt：你要判斷 testing data 裡面的句子是 0 or 1\n",
        "\n",
        "    >id,text\n",
        "\n",
        "    >0,my dog ate our dinner . no , seriously ... he ate it .\n",
        "\n",
        "    >1,omg last day sooon n of primary noooooo x im gona be swimming out of school wif the amount of tears am gona cry\n",
        "\n",
        "    >2,stupid boys .. they ' re so .. stupid !"
      ]
    },
    {
      "cell_type": "code",
      "metadata": {
        "id": "x2gwKORmuViJ",
        "colab_type": "code",
        "colab": {}
      },
      "source": [
        "!gdown --id '1lz0Wtwxsh5YCPdqQ3E3l_nbfJT1N13V8' --output data.zip\n",
        "!unzip data.zip\n",
        "!ls"
      ],
      "execution_count": null,
      "outputs": []
    },
    {
      "cell_type": "code",
      "metadata": {
        "id": "8hDIokoP6464",
        "colab_type": "code",
        "colab": {}
      },
      "source": [
        "# this is for filtering the warnings\n",
        "# 警告過濾器可以用來控制是否發出警告消息，警告過濾器是一些匹配規則和動作的序列。\n",
        "# 可以通過調用 filterwarnings() 將規則添加到過濾器，並通過調用 resetwarnings() 將其重置為默認狀態。\n",
        "\n",
        "import warnings\n",
        "warnings.filterwarnings('ignore')"
      ],
      "execution_count": 3,
      "outputs": []
    },
    {
      "cell_type": "markdown",
      "metadata": {
        "id": "fc143hSvNGr6",
        "colab_type": "text"
      },
      "source": [
        "### Utils"
      ]
    },
    {
      "cell_type": "code",
      "metadata": {
        "id": "PtYubskPa-vZ",
        "colab_type": "code",
        "colab": {}
      },
      "source": [
        "import torch\n",
        "import numpy as np\n",
        "import pandas as pd\n",
        "import torch.optim as optim\n",
        "import torch.nn.functional as F\n",
        "import time\n",
        "import random\n",
        "\n",
        "# 固定隨機種子\n",
        "def same_seeds(seed):\n",
        "    torch.manual_seed(seed)\n",
        "    if torch.cuda.is_available():\n",
        "        torch.cuda.manual_seed(seed)\n",
        "        torch.cuda.manual_seed_all(seed)  # if you are using multi-GPU.\n",
        "    np.random.seed(seed)  # Numpy module.\n",
        "    random.seed(seed)  # Python random module.\n",
        "    torch.backends.cudnn.benchmark = False\n",
        "    torch.backends.cudnn.deterministic = True\n",
        "\n",
        "same_seeds(0)"
      ],
      "execution_count": 5,
      "outputs": []
    },
    {
      "cell_type": "code",
      "metadata": {
        "id": "ICDIhhgCY2-M",
        "colab_type": "code",
        "colab": {}
      },
      "source": [
        "# utils.py\n",
        "# 這個 block 用來先定義一些等等常用到的函式\n",
        "\n",
        "def load_training_data(method, path='training_label.txt'):\n",
        "  if (method == 'unsupervised'):\n",
        "    # 把 training 時需要的 data 讀進來\n",
        "    # 如果是 'training_label.txt'，需要讀取 label，如果是 'training_nolabel.txt'，不需要讀取 label\n",
        "    if 'training_label' in path:\n",
        "        with open(path, 'r') as f:\n",
        "            lines = f.readlines()\n",
        "            lines = [line.strip('\\n').split(' ') for line in lines]\n",
        "        x = [line[2:] for line in lines]\n",
        "        y = [line[0] for line in lines]\n",
        "        return x, y\n",
        "    else:\n",
        "        with open(path, 'r') as f:\n",
        "            lines = f.readlines()\n",
        "            x = [line.strip('\\n').split(' ') for line in lines]\n",
        "        return x\n",
        "\n",
        "################################################################################\n",
        "\n",
        "  else:\n",
        "    # 把 training 時需要的 data 讀進來\n",
        "    # 如果是 'training_label.txt'，需要讀取 label，如果是 'training_nolabel.txt'，不需要讀取 label\n",
        "    if 'training_label' in path:\n",
        "        with open(path, 'r') as f:\n",
        "            lines = f.readlines()\n",
        "            lines = [line.strip('\\n').split(' ') for line in lines]\n",
        "        x = [line[2:] for line in lines]\n",
        "        y = [line[0] for line in lines]\n",
        "        return x, y\n",
        "    else:\n",
        "        with open(path, 'r') as f:\n",
        "            lines = f.readlines()\n",
        "            x = [line.strip('\\n').split(' ') for line in lines]\n",
        "            y = [outputs[i] for i in range(len(outputs))]\n",
        "        return x, y\n",
        "\n",
        "################################################################################\n",
        "\n",
        "def load_testing_data(path='testing_data'):\n",
        "    # 把 testing 時需要的 data 讀進來\n",
        "    with open(path, 'r') as f:\n",
        "        lines = f.readlines()\n",
        "        X = [\"\".join(line.strip('\\n').split(\",\")[1:]).strip() for line in lines[1:]]\n",
        "        X = [sen.split(' ') for sen in X]\n",
        "    return X\n",
        "\n",
        "def evaluation(outputs, labels):\n",
        "    # outputs => probability (float)\n",
        "    # labels => labels\n",
        "    outputs[outputs>=0.5] = 1 # 大於等於 0.5 為無惡意 #原本的\n",
        "    outputs[outputs<0.5] = 0 # 小於 0.5 為有惡意 #原本的\n",
        "    correct = torch.sum(torch.eq(outputs, labels)).item()\n",
        "    return correct"
      ],
      "execution_count": 6,
      "outputs": []
    },
    {
      "cell_type": "markdown",
      "metadata": {
        "id": "oYE8UYQsNIxM",
        "colab_type": "text"
      },
      "source": [
        "### Train Word to Vector (supervised)"
      ]
    },
    {
      "cell_type": "markdown",
      "metadata": {
        "id": "wS4GdXlpymvi",
        "colab_type": "text"
      },
      "source": [
        "CBOW：From that context, predict the target word (Continuous Bag of Words or CBOW approach)\n",
        "\n",
        "Skip-Gram：From the target word, predict the context it came from (Skip-gram approach)"
      ]
    },
    {
      "cell_type": "code",
      "metadata": {
        "colab_type": "code",
        "id": "cgGWaF8_2S3q",
        "colab": {}
      },
      "source": [
        "# w2v.py\n",
        "# 這個 block 是用來訓練 word to vector 的 word embedding\n",
        "# 注意！這個 block 在訓練 word to vector 時是用 cpu，可能要花到 10 分鐘以上\n",
        "import os\n",
        "import numpy as np\n",
        "import pandas as pd\n",
        "import argparse\n",
        "from gensim.models import word2vec\n",
        "\n",
        "# word2vec使用\n",
        "# size：特徵向量的維度，預設值為100\n",
        "# window：代表input word 與預測word的最大距離，若設為1，代表向左向右各看一個詞\n",
        "# min_count：該詞最少出現幾次，才可以被當作是訓練資料，例如min_count設為5，則出現5次以下的字詞都不會被放進來訓練\n",
        "# negative：大於0，代表採用negative sampling，設置多少個noise words\n",
        "#         例如「喜歡 麥當當 蘋果派 又 甜 又 香」，以「蘋果派」向左向右各看一個詞，就是「麥當當 蘋果派 又」\n",
        "# workers：多執行緒的數量\n",
        "# iter：迭代數量，預設為5\n",
        "# sg：演算法，預設為0，代表是CBOW，若設為1則是使用Skip-Gram\n",
        "\n",
        "def train_word2vec(x):\n",
        "    # 訓練 word to vector 的 word embedding\n",
        "    model = word2vec.Word2Vec(x, size=250, window=5, min_count=6, workers=12, iter=10, sg=1)\n",
        "    return model\n",
        "\n",
        "if __name__ == \"__main__\":\n",
        "    # 開始做字詞切割，有點像 1-gram\n",
        "    # training_label.txt 有 200,000 左右行，每行的詞數不等\n",
        "    # training_nolabel.txt 有 1,200,000 左右行，每行的詞數不等\n",
        "    print(\"loading training data ...\")\n",
        "    train_x, y = load_training_data('unsupervised', 'training_label.txt', )\n",
        "    train_x_no_label = load_training_data('unsupervised', 'training_nolabel.txt')\n",
        "    ############################################################################  \n",
        "    print(\"loading testing data ...\")\n",
        "    test_x = load_testing_data('testing_data.txt')\n",
        "    model = train_word2vec(train_x + test_x) #supervised\n",
        "    \n",
        "    print(\"saving model ...\")\n",
        "    model.save(os.path.join(path_prefix, 'w2v_all.model'))"
      ],
      "execution_count": null,
      "outputs": []
    },
    {
      "cell_type": "markdown",
      "metadata": {
        "id": "3wHLtS0wNR6w",
        "colab_type": "text"
      },
      "source": [
        "### Data Preprocess"
      ]
    },
    {
      "cell_type": "code",
      "metadata": {
        "id": "CfGKiOitk5ob",
        "colab_type": "code",
        "colab": {}
      },
      "source": [
        "# preprocess.py\n",
        "# 這個 block 用來做 data 的預處理\n",
        "from torch import nn\n",
        "from gensim.models import Word2Vec\n",
        "\n",
        "class Preprocess():\n",
        "    def __init__(self, sentences, sen_len, w2v_path=\"./w2v.model\"):\n",
        "        self.w2v_path = w2v_path\n",
        "        self.sentences = sentences\n",
        "        self.sen_len = sen_len\n",
        "        self.idx2word = []\n",
        "        self.word2idx = {}\n",
        "        self.embedding_matrix = []\n",
        "    def get_w2v_model(self):\n",
        "        # 把之前訓練好的 word to vec 模型讀進來\n",
        "        self.embedding = Word2Vec.load(self.w2v_path)\n",
        "        self.embedding_dim = self.embedding.vector_size\n",
        "    def add_embedding(self, word):\n",
        "        # 把 word 加進 embedding，並賦予他一個隨機生成的 representation vector\n",
        "        # word 只會是 \"<PAD>\" 或 \"<UNK>\"\n",
        "          # PAD : 因為每個 batch 的單字長度要一致，所以我們要用 PAD 來填充過短的單字，主要用来进行字符补全。\n",
        "          # UNK : 如果輸入字元沒在字典裡出現過，就用 UNK 的索引替代它，用来替代一些未出现过的词或者低频词。\n",
        "        vector = torch.empty(1, self.embedding_dim)\n",
        "        torch.nn.init.uniform_(vector)\n",
        "        self.word2idx[word] = len(self.word2idx)\n",
        "        self.idx2word.append(word)\n",
        "        self.embedding_matrix = torch.cat([self.embedding_matrix, vector], 0)\n",
        "    def make_embedding(self, load=True):\n",
        "        print(\"Get embedding ...\")\n",
        "        # 取得訓練好的 Word2vec word embedding\n",
        "        if load:\n",
        "            print(\"loading word to vec model ...\")\n",
        "            self.get_w2v_model()\n",
        "        else:\n",
        "            raise NotImplementedError\n",
        "        # 製作一個 word2idx 的 dictionary\n",
        "        # 製作一個 idx2word 的 list\n",
        "        # 製作一個 word2vector 的 list\n",
        "        for i, word in enumerate(self.embedding.wv.vocab):\n",
        "            print('get words #{}'.format(i+1), end='\\r')\n",
        "            #e.g. self.word2index['he'] = 1 \n",
        "            #e.g. self.index2word[1] = 'he'\n",
        "            #e.g. self.vectors[1] = 'he' vector\n",
        "            self.word2idx[word] = len(self.word2idx)\n",
        "            self.idx2word.append(word)\n",
        "            self.embedding_matrix.append(self.embedding[word])\n",
        "        print('')\n",
        "        self.embedding_matrix = torch.tensor(self.embedding_matrix)\n",
        "        # 將 \"<PAD>\" 跟 \"<UNK>\" 加進 embedding 裡面\n",
        "        self.add_embedding(\"<PAD>\")\n",
        "        self.add_embedding(\"<UNK>\")\n",
        "        print(\"total words: {}\".format(len(self.embedding_matrix)))\n",
        "        return self.embedding_matrix\n",
        "    def pad_sequence(self, sentence):\n",
        "        # 將每個句子變成一樣的長度\n",
        "        if len(sentence) > self.sen_len:\n",
        "            sentence = sentence[:self.sen_len]\n",
        "        else:\n",
        "            pad_len = self.sen_len - len(sentence)\n",
        "            for _ in range(pad_len):\n",
        "                sentence.append(self.word2idx[\"<PAD>\"])\n",
        "        assert len(sentence) == self.sen_len\n",
        "        return sentence\n",
        "    def sentence_word2idx(self):\n",
        "        # 把句子裡面的字轉成相對應的 index\n",
        "        sentence_list = []\n",
        "        for i, sen in enumerate(self.sentences):\n",
        "            print('sentence count #{}'.format(i+1), end='\\r')\n",
        "            sentence_idx = []\n",
        "            for word in sen:\n",
        "                if (word in self.word2idx.keys()):\n",
        "                    sentence_idx.append(self.word2idx[word])\n",
        "                else:\n",
        "                    sentence_idx.append(self.word2idx[\"<UNK>\"])\n",
        "            # 將每個句子變成一樣的長度\n",
        "            sentence_idx = self.pad_sequence(sentence_idx)\n",
        "            sentence_list.append(sentence_idx)\n",
        "        return torch.LongTensor(sentence_list)\n",
        "    def labels_to_tensor(self, y):\n",
        "        # 把 labels 轉成 tensor\n",
        "        y = [int(label) for label in y]\n",
        "        return torch.LongTensor(y)"
      ],
      "execution_count": 8,
      "outputs": []
    },
    {
      "cell_type": "markdown",
      "metadata": {
        "id": "3WJB7go5NWL0",
        "colab_type": "text"
      },
      "source": [
        "### Dataset"
      ]
    },
    {
      "cell_type": "code",
      "metadata": {
        "id": "XketwKs4lFfB",
        "colab_type": "code",
        "colab": {}
      },
      "source": [
        "# data.py\n",
        "# 實作了 dataset 所需要的 '__init__', '__getitem__', '__len__'\n",
        "# 好讓 dataloader 能使用\n",
        "import torch\n",
        "from torch.utils import data\n",
        "\n",
        "class TwitterDataset(data.Dataset):\n",
        "    \"\"\"\n",
        "    Expected data shape like:(data_num, data_len)\n",
        "    Data can be a list of numpy array or a list of lists\n",
        "    input data shape : (data_num, seq_len, feature_dim)\n",
        "    \n",
        "    __len__ will return the number of data\n",
        "    \"\"\"\n",
        "    def __init__(self, X, y):\n",
        "        self.data = X\n",
        "        self.label = y\n",
        "    def __getitem__(self, idx):\n",
        "        if self.label is None: return self.data[idx]\n",
        "        return self.data[idx], self.label[idx]\n",
        "    def __len__(self):\n",
        "        return len(self.data)"
      ],
      "execution_count": 9,
      "outputs": []
    },
    {
      "cell_type": "markdown",
      "metadata": {
        "id": "uNJ8xWIMNa2r",
        "colab_type": "text"
      },
      "source": [
        "### Model"
      ]
    },
    {
      "cell_type": "code",
      "metadata": {
        "id": "ZS6RJADulIq1",
        "colab_type": "code",
        "colab": {}
      },
      "source": [
        "# model.py\n",
        "# 這個 block 是要拿來訓練的模型\n",
        "import torch\n",
        "from torch import nn\n",
        "class LSTM_Net(nn.Module):\n",
        "    def __init__(self, embedding, embedding_dim, hidden_dim, num_layers, dropout=0.5, fix_embedding=True):\n",
        "        super(LSTM_Net, self).__init__()\n",
        "        # 製作 embedding layer\n",
        "        self.embedding = torch.nn.Embedding(embedding.size(0),embedding.size(1))\n",
        "        self.embedding.weight = torch.nn.Parameter(embedding)\n",
        "        # 是否將 embedding fix 住，如果 fix_embedding 為 False，在訓練過程中，embedding 也會跟著被訓練\n",
        "        self.embedding.weight.requires_grad = False if fix_embedding else True\n",
        "        self.embedding_dim = embedding.size(1)\n",
        "        self.hidden_dim = hidden_dim\n",
        "        self.num_layers = num_layers\n",
        "        self.dropout = dropout\n",
        "        self.lstm = nn.LSTM(embedding_dim, hidden_dim, num_layers=num_layers, batch_first=True)\n",
        "        self.classifier = nn.Sequential( nn.Dropout(dropout),\n",
        "                                         nn.Linear(hidden_dim, 1),\n",
        "                                         nn.Sigmoid() )\n",
        "    def forward(self, inputs):\n",
        "        inputs = self.embedding(inputs)\n",
        "        x, _ = self.lstm(inputs, None)\n",
        "        # x 的 dimension (batch, seq_len, hidden_size)\n",
        "        # 取用 LSTM 最後一層的 hidden state\n",
        "        x = x[:, -1, :] \n",
        "        x = self.classifier(x)\n",
        "        return x"
      ],
      "execution_count": 10,
      "outputs": []
    },
    {
      "cell_type": "markdown",
      "metadata": {
        "id": "aWlpEL0sNc10",
        "colab_type": "text"
      },
      "source": [
        "### Train"
      ]
    },
    {
      "cell_type": "code",
      "metadata": {
        "id": "4QR4MMz-lR7i",
        "colab_type": "code",
        "colab": {}
      },
      "source": [
        "# train.py\n",
        "# 這個 block 是用來訓練模型的\n",
        "import torch\n",
        "from torch import nn\n",
        "import torch.optim as optim\n",
        "import torch.nn.functional as F\n",
        "x_epoch = []\n",
        "y_train_acc = []\n",
        "y_val_acc = []\n",
        "def training(batch_size, n_epoch, lr, model_dir, train, valid, model, device):\n",
        "    total = sum(p.numel() for p in model.parameters())\n",
        "    trainable = sum(p.numel() for p in model.parameters() if p.requires_grad)\n",
        "    print('\\nstart training, parameter total:{}, trainable:{}\\n'.format(total, trainable))\n",
        "    model.train() # 將 model 的模式設為 train，這樣 optimizer 就可以更新 model 的參數\n",
        "    criterion = nn.BCELoss() # 定義損失函數，這裡我們使用 binary cross entropy loss\n",
        "    t_batch = len(train) \n",
        "    v_batch = len(valid) \n",
        "    optimizer = optim.Adam(model.parameters(), lr=lr) # 將模型的參數給 optimizer，並給予適當的 learning rate\n",
        "    total_loss, total_acc, best_acc = 0, 0, 0\n",
        "    import matplotlib.pyplot as plt\n",
        "    for epoch in range(n_epoch):\n",
        "        x_epoch.append(epoch)\n",
        "        epoch_start_time = time.time()\n",
        "        total_loss, total_acc = 0, 0\n",
        "        # 這段做 training\n",
        "        for i, (inputs, labels) in enumerate(train):\n",
        "            inputs = inputs.to(device, dtype=torch.long) # device 為 \"cuda\"，將 inputs 轉成 torch.cuda.LongTensor\n",
        "            labels = labels.to(device, dtype=torch.float) # device為 \"cuda\"，將 labels 轉成 torch.cuda.FloatTensor，因為等等要餵進 criterion，所以型態要是 float\n",
        "            optimizer.zero_grad() # 由於 loss.backward() 的 gradient 會累加，所以每次餵完一個 batch 後需要歸零\n",
        "            outputs = model(inputs) # 將 input 餵給模型\n",
        "            outputs = outputs.squeeze() # 去掉最外面的 dimension，好讓 outputs 可以餵進 criterion()\n",
        "            loss = criterion(outputs, labels) # 計算此時模型的 training loss\n",
        "            loss.backward() # 算 loss 的 gradient\n",
        "            optimizer.step() # 更新訓練模型的參數\n",
        "            correct = evaluation(outputs, labels) # 計算此時模型的 training accuracy\n",
        "            total_acc += (correct / batch_size)\n",
        "            total_loss += loss.item()\n",
        "            print('[ Epoch{}: {}/{} ] loss:{:.3f} acc:{:.3f} '.format(\n",
        "            \tepoch+1, i+1, t_batch, loss.item(), correct*100/batch_size), end='\\r')\n",
        "        print('\\nTrain | Loss:{:.5f} Acc: {:.3f}'.format(total_loss/t_batch, total_acc/t_batch*100))\n",
        "        y_train_acc.append(total_acc/t_batch*100)\n",
        "\n",
        "        # 這段做 validation\n",
        "        model.eval() # 將 model 的模式設為 eval，這樣 model 的參數就會固定住\n",
        "        with torch.no_grad():\n",
        "            total_loss, total_acc = 0, 0\n",
        "            for i, (inputs, labels) in enumerate(valid):\n",
        "                inputs = inputs.to(device, dtype=torch.long) # device 為 \"cuda\"，將 inputs 轉成 torch.cuda.LongTensor\n",
        "                labels = labels.to(device, dtype=torch.float) # device 為 \"cuda\"，將 labels 轉成 torch.cuda.FloatTensor，因為等等要餵進 criterion，所以型態要是 float\n",
        "                outputs = model(inputs) # 將 input 餵給模型\n",
        "                outputs = outputs.squeeze() # 去掉最外面的 dimension，好讓 outputs 可以餵進 criterion()\n",
        "                loss = criterion(outputs, labels) # 計算此時模型的 validation loss\n",
        "                correct = evaluation(outputs, labels) # 計算此時模型的 validation accuracy\n",
        "                total_acc += (correct / batch_size)\n",
        "                total_loss += loss.item()\n",
        "\n",
        "            print(\"Valid | Loss:{:.5f} Acc: {:.3f} \".format(total_loss/v_batch, total_acc/v_batch*100))\n",
        "            if total_acc > best_acc:\n",
        "                # 如果 validation 的結果優於之前所有的結果，就把當下的模型存下來以備之後做預測時使用\n",
        "                best_acc = total_acc\n",
        "                torch.save(model, \"{}/ckpt.model\".format(model_dir))\n",
        "                print('saving model with acc {:.3f}'.format(total_acc/v_batch*100))\n",
        "        y_val_acc.append(total_acc/v_batch*100)\n",
        "        print('epoch =', epoch, ', time cost = ', time.time()-epoch_start_time, ' sec(s)')\n",
        "        print('-----------------------------------------------')\n",
        "        model.train() # 將 model 的模式設為 train，這樣 optimizer 就可以更新 model 的參數（因為剛剛轉成 eval 模式）\n",
        "    plt.plot(x_epoch, y_train_acc)\n",
        "    plt.plot(x_epoch, y_val_acc)\n",
        "    plt.title(\"acc_learning_curve\") # title\n",
        "    plt.ylabel(\"acc\") # y label\n",
        "    plt.xlabel(\"epoch\") # x label \n",
        "    plt.show()"
      ],
      "execution_count": 11,
      "outputs": []
    },
    {
      "cell_type": "markdown",
      "metadata": {
        "id": "dfnKj0KXNeoz",
        "colab_type": "text"
      },
      "source": [
        "### Main"
      ]
    },
    {
      "cell_type": "code",
      "metadata": {
        "id": "EztIWqCmlZof",
        "colab_type": "code",
        "colab": {}
      },
      "source": [
        "# main.py\n",
        "import os\n",
        "import torch\n",
        "import argparse\n",
        "import numpy as np\n",
        "from torch import nn\n",
        "from gensim.models import word2vec\n",
        "from sklearn.model_selection import train_test_split\n",
        "\n",
        "# 通過 torch.cuda.is_available() 的回傳值進行判斷是否有使用 GPU 的環境，如果有的話 device 就設為 \"cuda\"，沒有的話就設為 \"cpu\"\n",
        "device = torch.device(\"cuda\" if torch.cuda.is_available() else \"cpu\")\n",
        "\n",
        "# 處理好各個 data 的路徑\n",
        "train_with_label = os.path.join(path_prefix, 'training_label.txt')\n",
        "train_no_label = os.path.join(path_prefix, 'training_nolabel.txt')\n",
        "testing_data = os.path.join(path_prefix, 'testing_data.txt')\n",
        "w2v_path = os.path.join(path_prefix, 'w2v_all.model') # 處理 word to vec model 的路徑\n",
        "\n",
        "# 定義句子長度、要不要固定 embedding、batch 大小、要訓練幾個 epoch、learning rate 的值、model 的資料夾路徑\n",
        "sen_len = 40\n",
        "fix_embedding = True # fix embedding during training\n",
        "batch_size = 128\n",
        "epoch = 15\n",
        "lr = 0.001\n",
        "# model_dir = os.path.join(path_prefix, 'model/') # model directory for checkpoint model\n",
        "model_dir = path_prefix # model directory for checkpoint model\n",
        "\n",
        "print(\"loading data ...\") # 把 'training_label.txt' 跟 'training_nolabel.txt' 讀進來\n",
        "train_x, y = load_training_data('unsupervised', train_with_label)\n",
        "train_x_no_label = load_training_data('unsupervised', train_no_label)\n",
        "################################把 labeled 拿來用################################\n",
        "\n",
        "# 對 input 跟 labels 做預處理\n",
        "preprocess = Preprocess(train_x, sen_len, w2v_path=w2v_path)\n",
        "embedding = preprocess.make_embedding(load=True)\n",
        "train_x = preprocess.sentence_word2idx()\n",
        "y = preprocess.labels_to_tensor(y)\n",
        "\n",
        "################################################################################\n",
        "\n",
        "# 製作一個 model 的對象\n",
        "model = LSTM_Net(embedding, embedding_dim=250, hidden_dim=150, num_layers=1, dropout=0.5, fix_embedding=fix_embedding)\n",
        "model = model.to(device) # device為 \"cuda\"，model 使用 GPU 來訓練（餵進去的 inputs 也需要是 cuda tensor）\n",
        "\n",
        "# 把 data 分為 training data 跟 validation data（將一部份 training data 拿去當作 validation data）\n",
        "# labeled training data 數量：20萬\n",
        "# unlabeled training data 數量：小於 120 萬，看自己設的閾值\n",
        "X_train, X_val, y_train, y_val = train_x[20000:], train_x[:20000], y[20000:], y[:20000]\n",
        "# X_train, X_val, y_train, y_val = train_x[100000:300000], train_x[:100000], y[100000:300000], y[:100000]\n",
        "\n",
        "# 把 data 做成 dataset 供 dataloader 取用\n",
        "train_dataset = TwitterDataset(X=X_train, y=y_train)\n",
        "val_dataset = TwitterDataset(X=X_val, y=y_val)\n",
        "\n",
        "# 把 data 轉成 batch of tensors\n",
        "train_loader = torch.utils.data.DataLoader(dataset = train_dataset,\n",
        "                                            batch_size = batch_size,\n",
        "                                            shuffle = True,\n",
        "                                            num_workers = 8)\n",
        "\n",
        "val_loader = torch.utils.data.DataLoader(dataset = val_dataset,\n",
        "                                            batch_size = batch_size,\n",
        "                                            shuffle = False,\n",
        "                                            num_workers = 8)\n",
        "\n",
        "# 開始訓練\n",
        "training(batch_size, epoch, lr, model_dir, train_loader, val_loader, model, device)"
      ],
      "execution_count": null,
      "outputs": []
    },
    {
      "cell_type": "markdown",
      "metadata": {
        "colab_type": "text",
        "id": "iGnKmCiB4C5D"
      },
      "source": [
        "### Semi-suprivised with unlabeled data"
      ]
    },
    {
      "cell_type": "code",
      "metadata": {
        "id": "YOKWGyon4P74",
        "colab_type": "code",
        "colab": {}
      },
      "source": [
        "# semi.py\n",
        "# 這個 block 用來對 train_x_no_label.txt 做預測\n",
        "import torch\n",
        "from torch import nn\n",
        "import torch.optim as optim\n",
        "import torch.nn.functional as F\n",
        "# good = 有信心資料，bad = 沒信心資料\n",
        "def semi_supervised(batch_size, train_x_no_label_loader, model, device, good, bad):\n",
        "    model.eval()\n",
        "    ret_output = []\n",
        "    good = 0\n",
        "    bad = 0\n",
        "    with torch.no_grad():\n",
        "        for i, inputs in enumerate(train_x_no_label_loader):\n",
        "            inputs = inputs.to(device, dtype=torch.long)\n",
        "            outputs = model(inputs)\n",
        "            outputs = outputs.squeeze()\n",
        "            # print(i, inputs, len(inputs), outputs, len(outputs))\n",
        "            for j in range(len(outputs)):\n",
        "              # print(len(outputs))\n",
        "              if(outputs[j]>=0.8):\n",
        "                outputs[j] = 1\n",
        "                good += 1\n",
        "              elif(outputs[j]<=0.2):\n",
        "                outputs[j] = 0\n",
        "                good += 1\n",
        "              else:\n",
        "                outputs[j] = 2000000\n",
        "                bad += 1\n",
        "            ret_output += outputs.int().tolist()        \n",
        "    return ret_output, good, bad"
      ],
      "execution_count": 13,
      "outputs": []
    },
    {
      "cell_type": "markdown",
      "metadata": {
        "id": "g3OGC_b551at",
        "colab_type": "text"
      },
      "source": [
        "### Predict train_x_no_label and Write to csv file"
      ]
    },
    {
      "cell_type": "code",
      "metadata": {
        "id": "b7zEgfnfG-sB",
        "colab_type": "code",
        "colab": {}
      },
      "source": [
        "# 開始測試模型並做預測\n",
        "print(\"loading training_nolabel data ...\")\n",
        "train_x_no_label = load_training_data('unsupervised', train_no_label)\n",
        "preprocess = Preprocess(train_x_no_label, sen_len, w2v_path=w2v_path)\n",
        "embedding = preprocess.make_embedding(load=True)\n",
        "train_x_no_label = preprocess.sentence_word2idx()\n",
        "train_x_no_label_dataset = TwitterDataset(X=train_x_no_label, y=None)\n",
        "train_x_no_label_loader = torch.utils.data.DataLoader(dataset = train_x_no_label_dataset,\n",
        "                                            batch_size = batch_size,\n",
        "                                            shuffle = False,\n",
        "                                            num_workers = 8)\n",
        "print('\\nload model ...')\n",
        "model = torch.load(os.path.join(model_dir, 'ckpt.model'))\n",
        "good = 0\n",
        "bad = 0\n",
        "outputs, good, bad = semi_supervised(batch_size, train_x_no_label_loader, model, device, good, bad)\n",
        "print('num of good = ', good)\n",
        "print('num of bad = ', bad)\n",
        "\n",
        "# 寫到 csv 檔案供上傳 Kaggle\n",
        "tmp = pd.DataFrame({\"id\":[str(i) for i in range(len(train_x_no_label))],\"label\":outputs})\n",
        "print(\"save csv ...\")\n",
        "tmp.to_csv(os.path.join(path_prefix, 'semi_supervised.csv'), index=False)\n",
        "print(\"Finish semi_supervised\")"
      ],
      "execution_count": null,
      "outputs": []
    },
    {
      "cell_type": "markdown",
      "metadata": {
        "id": "d8OeBP0GU2Ee",
        "colab_type": "text"
      },
      "source": [
        "使用 label 好的 unlabeled data"
      ]
    },
    {
      "cell_type": "code",
      "metadata": {
        "id": "8YG10ISRUipA",
        "colab_type": "code",
        "colab": {}
      },
      "source": [
        "def load_training_data(method, path='training_label.txt'):\n",
        "  if (method == 'unsupervised'):\n",
        "    # 把 training 時需要的 data 讀進來\n",
        "    # 如果是 'training_label.txt'，需要讀取 label，如果是 'training_nolabel.txt'，不需要讀取 label\n",
        "    if 'training_label' in path:\n",
        "        with open(path, 'r') as f:\n",
        "            lines = f.readlines()\n",
        "            lines = [line.strip('\\n').split(' ') for line in lines]\n",
        "        x = [line[2:] for line in lines]\n",
        "        y = [line[0] for line in lines]\n",
        "        return x, y\n",
        "    else:\n",
        "        with open(path, 'r') as f:\n",
        "            lines = f.readlines()\n",
        "            x = [line.strip('\\n').split(' ') for line in lines]\n",
        "        return x\n",
        "################################################################################\n",
        "  else:\n",
        "    # 把 training 時需要的 data 讀進來\n",
        "    # 如果是 'training_label.txt'，需要讀取 label，如果是 'training_nolabel.txt'，不需要讀取 label\n",
        "    if 'training_label' in path:\n",
        "        with open(path, 'r') as f:\n",
        "            lines = f.readlines()\n",
        "            lines = [line.strip('\\n').split(' ') for line in lines]\n",
        "        x = [line[2:] for line in lines]\n",
        "        y = [line[0] for line in lines]\n",
        "        return x, y\n",
        "    else:\n",
        "        import pandas as pd\n",
        "        outputs = pd.read_csv(path_prefix + 'semi_supervised.csv')\n",
        "        outputs = outputs.values.tolist()\n",
        "        with open(path, 'r') as f:\n",
        "            lines = f.readlines()\n",
        "            x = [line.strip('\\n').split(' ') for line in lines]\n",
        "            y = [outputs[i][1] for i in range(len(outputs))]\n",
        "        return x, y\n",
        "################################################################################\n",
        "\n",
        "def load_testing_data(path='testing_data'):\n",
        "    # 把 testing 時需要的 data 讀進來\n",
        "    with open(path, 'r') as f:\n",
        "        lines = f.readlines()\n",
        "        X = [\"\".join(line.strip('\\n').split(\",\")[1:]).strip() for line in lines[1:]]\n",
        "        X = [sen.split(' ') for sen in X]\n",
        "    return X\n",
        "\n",
        "def evaluation(outputs, labels):\n",
        "    # outputs => probability (float)\n",
        "    # labels => labels\n",
        "    outputs[outputs>=0.5] = 1 # 大於等於 0.5 為無惡意 #原本的\n",
        "    outputs[outputs<0.5] = 0 # 小於 0.5 為有惡意 #原本的\n",
        "    correct = torch.sum(torch.eq(outputs, labels)).item()\n",
        "    return correct"
      ],
      "execution_count": 15,
      "outputs": []
    },
    {
      "cell_type": "markdown",
      "metadata": {
        "id": "egL1bDSwXhQC",
        "colab_type": "text"
      },
      "source": [
        "semi word2vec"
      ]
    },
    {
      "cell_type": "code",
      "metadata": {
        "id": "h1CZCgdSXWVg",
        "colab_type": "code",
        "colab": {}
      },
      "source": [
        "# semi\n",
        "# w2v.py\n",
        "# 這個 block 是用來訓練 word to vector 的 word embedding\n",
        "# 注意！這個 block 在訓練 word to vector 時是用 cpu，可能要花到 10 分鐘以上\n",
        "import os\n",
        "import numpy as np\n",
        "import pandas as pd\n",
        "import argparse\n",
        "from gensim.models import word2vec\n",
        "\n",
        "def train_word2vec(x):\n",
        "    # 訓練 word to vector 的 word embedding\n",
        "    # model = word2vec.Word2Vec(x, size=250, window=5, min_count=5, workers=12, iter=10, sg=1) #原本的\n",
        "    model = word2vec.Word2Vec(x, size=250, window=5, min_count=6, workers=12, iter=10, sg=1)\n",
        "    return model\n",
        "\n",
        "if __name__ == \"__main__\":\n",
        "    # 開始做字詞切割，有點像 1-gram\n",
        "    # training_label.txt 有 200,000 左右行，每行的詞數不等\n",
        "    # training_nolabel.txt 有 1,200,000 左右行，每行的詞數不等\n",
        "    print(\"loading training data ...\")\n",
        "    train_x, y = load_training_data('unsupervised', 'training_label.txt', )\n",
        "    ############################################################################  \n",
        "    #使用 semi #應該要用個函式包起來成為 pretty code\n",
        "    train_x_no_label, y_semi = load_training_data('semi_supervised', 'training_nolabel.txt')\n",
        "    # 把沒有信心的 data 不要做 label 資料\n",
        "    train_x_no_label_good = []\n",
        "    y_semi_good = []\n",
        "    for i in range (len(train_x_no_label)):\n",
        "      if(y_semi[i] == 1 or y_semi[i] == 0):\n",
        "        train_x_no_label_good.append(train_x_no_label[i])\n",
        "        y_semi_good.append(y_semi[i])\n",
        "    ############################################################################\n",
        "    print(\"loading testing data ...\")\n",
        "    test_x = load_testing_data('testing_data.txt')\n",
        "\n",
        "    # 使用 semi-supervised 過 strong\n",
        "    model = train_word2vec(train_x + train_x_no_label_good + test_x) #semi-supervised\n",
        "    \n",
        "    print(\"saving model ...\")\n",
        "    model.save(os.path.join(path_prefix, 'w2v_all.model'))"
      ],
      "execution_count": null,
      "outputs": []
    },
    {
      "cell_type": "code",
      "metadata": {
        "id": "kVV8HdK2FkQt",
        "colab_type": "code",
        "colab": {
          "base_uri": "https://localhost:8080/",
          "height": 1000
        },
        "outputId": "0e71b817-8859-4352-9e18-a4e20e5030cc"
      },
      "source": [
        "# semi\n",
        "# 通過 torch.cuda.is_available() 的回傳值進行判斷是否有使用 GPU 的環境，如果有的話 device 就設為 \"cuda\"，沒有的話就設為 \"cpu\"\n",
        "device = torch.device(\"cuda\" if torch.cuda.is_available() else \"cpu\")\n",
        "\n",
        "# 處理好各個 data 的路徑\n",
        "train_with_label = os.path.join(path_prefix, 'training_label.txt')\n",
        "train_no_label = os.path.join(path_prefix, 'training_nolabel.txt')\n",
        "testing_data = os.path.join(path_prefix, 'testing_data.txt')\n",
        "w2v_path = os.path.join(path_prefix, 'w2v_all.model') # 處理 word to vec model 的路徑\n",
        "\n",
        "# 定義句子長度、要不要固定 embedding、batch 大小、要訓練幾個 epoch、learning rate 的值、model 的資料夾路徑\n",
        "sen_len = 40\n",
        "fix_embedding = True # fix embedding during training\n",
        "batch_size = 128\n",
        "epoch = 15\n",
        "lr = 0.001\n",
        "# model_dir = os.path.join(path_prefix, 'model/') # model directory for checkpoint model\n",
        "model_dir = path_prefix # model directory for checkpoint model\n",
        "\n",
        "print(\"loading data ...\") # 把 'training_label.txt' 跟 'training_nolabel.txt' 讀進來\n",
        "train_x, y = load_training_data('unsupervised', train_with_label)\n",
        "\n",
        "################################處理 semi data #################################\n",
        "\n",
        "train_x_no_label, y_semi = load_training_data('semi_supervised', train_no_label) #使用 semi\n",
        "# 把沒有信心的 data 不要做 label 資料\n",
        "train_x_no_label_good = []\n",
        "y_semi_good = []\n",
        "for i in range (len(train_x_no_label)):\n",
        "  if(y_semi[i] == 1 or y_semi[i] == 0):\n",
        "    train_x_no_label_good.append(train_x_no_label[i])\n",
        "    y_semi_good.append(y_semi[i])\n",
        "\n",
        "################################ 把unlabeled 拿來用 #############################\n",
        "\n",
        "preprocess = Preprocess(train_x + train_x_no_label_good, sen_len, w2v_path=w2v_path)\n",
        "embedding = preprocess.make_embedding(load=True)\n",
        "train_x = preprocess.sentence_word2idx()\n",
        "y = preprocess.labels_to_tensor(y + y_semi_good)\n",
        "\n",
        "################################################################################\n",
        "\n",
        "# 製作一個 model 的對象\n",
        "model = LSTM_Net(embedding, embedding_dim=250, hidden_dim=150, num_layers=1, dropout=0.5, fix_embedding=fix_embedding)\n",
        "model = model.to(device) # device為 \"cuda\"，model 使用 GPU 來訓練（餵進去的 inputs 也需要是 cuda tensor）\n",
        "\n",
        "X_train, X_val, y_train, y_val = train_x[20000:500000], train_x[:20000], y[20000:500000], y[:20000]\n",
        "\n",
        "# 把 data 做成 dataset 供 dataloader 取用\n",
        "train_dataset = TwitterDataset(X=X_train, y=y_train)\n",
        "val_dataset = TwitterDataset(X=X_val, y=y_val)\n",
        "\n",
        "# 把 data 轉成 batch of tensors\n",
        "train_loader = torch.utils.data.DataLoader(dataset = train_dataset,\n",
        "                                            batch_size = batch_size,\n",
        "                                            shuffle = True,\n",
        "                                            num_workers = 8)\n",
        "\n",
        "val_loader = torch.utils.data.DataLoader(dataset = val_dataset,\n",
        "                                            batch_size = batch_size,\n",
        "                                            shuffle = False,\n",
        "                                            num_workers = 8)\n",
        "\n",
        "# 開始訓練\n",
        "training(batch_size, epoch, lr, model_dir, train_loader, val_loader, model, device)"
      ],
      "execution_count": 17,
      "outputs": [
        {
          "output_type": "stream",
          "text": [
            "loading data ...\n",
            "Get embedding ...\n",
            "loading word to vec model ...\n",
            "get words #39674\n",
            "total words: 39676\n",
            "\n",
            "start training, parameter total:10160351, trainable:241351\n",
            "\n",
            "\n",
            "Train | Loss:0.28116 Acc: 87.620\n",
            "Valid | Loss:0.45686 Acc: 81.255 \n",
            "saving model with acc 81.255\n",
            "epoch = 0 , time cost =  26.407220125198364  sec(s)\n",
            "-----------------------------------------------\n",
            "\n",
            "Train | Loss:0.19551 Acc: 93.055\n",
            "Valid | Loss:0.43999 Acc: 81.852 \n",
            "saving model with acc 81.852\n",
            "epoch = 1 , time cost =  26.355143547058105  sec(s)\n",
            "-----------------------------------------------\n",
            "\n",
            "Train | Loss:0.18207 Acc: 93.543\n",
            "Valid | Loss:0.41907 Acc: 82.116 \n",
            "saving model with acc 82.116\n",
            "epoch = 2 , time cost =  26.625487327575684  sec(s)\n",
            "-----------------------------------------------\n",
            "\n",
            "Train | Loss:0.17139 Acc: 93.925\n",
            "Valid | Loss:0.44073 Acc: 81.907 \n",
            "epoch = 3 , time cost =  25.698182344436646  sec(s)\n",
            "-----------------------------------------------\n",
            "\n",
            "Train | Loss:0.16092 Acc: 94.290\n",
            "Valid | Loss:0.44976 Acc: 82.290 \n",
            "saving model with acc 82.290\n",
            "epoch = 4 , time cost =  26.27238178253174  sec(s)\n",
            "-----------------------------------------------\n",
            "\n",
            "Train | Loss:0.15079 Acc: 94.680\n",
            "Valid | Loss:0.42798 Acc: 82.275 \n",
            "epoch = 5 , time cost =  26.204041957855225  sec(s)\n",
            "-----------------------------------------------\n",
            "\n",
            "Train | Loss:0.13985 Acc: 95.099\n",
            "Valid | Loss:0.46966 Acc: 82.156 \n",
            "epoch = 6 , time cost =  26.245595693588257  sec(s)\n",
            "-----------------------------------------------\n",
            "\n",
            "Train | Loss:0.12881 Acc: 95.515\n",
            "Valid | Loss:0.50291 Acc: 82.076 \n",
            "epoch = 7 , time cost =  26.231582403182983  sec(s)\n",
            "-----------------------------------------------\n",
            "\n",
            "Train | Loss:0.11742 Acc: 95.955\n",
            "Valid | Loss:0.52360 Acc: 81.981 \n",
            "epoch = 8 , time cost =  26.753226041793823  sec(s)\n",
            "-----------------------------------------------\n",
            "\n",
            "Train | Loss:0.10744 Acc: 96.356\n",
            "Valid | Loss:0.52316 Acc: 81.991 \n",
            "epoch = 9 , time cost =  26.377891302108765  sec(s)\n",
            "-----------------------------------------------\n",
            "\n",
            "Train | Loss:0.09814 Acc: 96.753\n",
            "Valid | Loss:0.59794 Acc: 81.772 \n",
            "epoch = 10 , time cost =  26.388293266296387  sec(s)\n",
            "-----------------------------------------------\n",
            "\n",
            "Train | Loss:0.09070 Acc: 97.020\n",
            "Valid | Loss:0.58936 Acc: 81.698 \n",
            "epoch = 11 , time cost =  26.004661798477173  sec(s)\n",
            "-----------------------------------------------\n",
            "\n",
            "Train | Loss:0.08383 Acc: 97.286\n",
            "Valid | Loss:0.63209 Acc: 81.623 \n",
            "epoch = 12 , time cost =  26.19000506401062  sec(s)\n",
            "-----------------------------------------------\n",
            "\n",
            "Train | Loss:0.07826 Acc: 97.503\n",
            "Valid | Loss:0.65971 Acc: 81.444 \n",
            "epoch = 13 , time cost =  26.245283603668213  sec(s)\n",
            "-----------------------------------------------\n",
            "\n",
            "Train | Loss:0.07375 Acc: 97.676\n",
            "Valid | Loss:0.66088 Acc: 81.618 \n",
            "epoch = 14 , time cost =  26.42542839050293  sec(s)\n",
            "-----------------------------------------------\n"
          ],
          "name": "stdout"
        },
        {
          "output_type": "display_data",
          "data": {
            "image/png": "[encoded data removed]",
            "text/plain": [
              "<Figure size 432x288 with 1 Axes>"
            ]
          },
          "metadata": {
            "tags": [],
            "needs_background": "light"
          }
        }
      ]
    },
    {
      "cell_type": "markdown",
      "metadata": {
        "id": "qF5YQrupNfCS",
        "colab_type": "text"
      },
      "source": [
        "### Test"
      ]
    },
    {
      "cell_type": "code",
      "metadata": {
        "id": "2X2wkdAYxHYA",
        "colab_type": "code",
        "colab": {}
      },
      "source": [
        "# test.py\n",
        "# 這個 block 用來對 testing_data.txt 做預測\n",
        "import torch\n",
        "from torch import nn\n",
        "import torch.optim as optim\n",
        "import torch.nn.functional as F\n",
        "\n",
        "def testing(batch_size, test_loader, model, device):\n",
        "    model.eval()\n",
        "    ret_output = []\n",
        "    with torch.no_grad():\n",
        "        for i, inputs in enumerate(test_loader):\n",
        "            inputs = inputs.to(device, dtype=torch.long)\n",
        "            outputs = model(inputs)\n",
        "            outputs = outputs.squeeze()\n",
        "            outputs[outputs>=0.5] = 1 # 大於等於 0.5 為負面\n",
        "            outputs[outputs<0.5] = 0 # 小於 0.5 為正面\n",
        "            ret_output += outputs.int().tolist()\n",
        "               \n",
        "    return ret_output"
      ],
      "execution_count": 18,
      "outputs": []
    },
    {
      "cell_type": "markdown",
      "metadata": {
        "id": "8fQeaQNeNm3L",
        "colab_type": "text"
      },
      "source": [
        "### Predict test_data and Write to csv file"
      ]
    },
    {
      "cell_type": "code",
      "metadata": {
        "id": "vFvjFQopxVrt",
        "colab_type": "code",
        "colab": {}
      },
      "source": [
        "# 開始測試模型並做預測\n",
        "print(\"loading testing data ...\")\n",
        "\n",
        "test_x = load_testing_data(testing_data) #變成 list list\n",
        "preprocess = Preprocess(test_x, sen_len, w2v_path=w2v_path)\n",
        "embedding = preprocess.make_embedding(load=True)\n",
        "test_x = preprocess.sentence_word2idx()\n",
        "test_dataset = TwitterDataset(X=test_x, y=None)\n",
        "test_loader = torch.utils.data.DataLoader(dataset = test_dataset,\n",
        "                                            batch_size = batch_size,\n",
        "                                            shuffle = False,\n",
        "                                            num_workers = 8)\n",
        "print('\\nload model ...')\n",
        "model = torch.load(os.path.join(model_dir, 'ckpt.model'))\n",
        "outputs = testing(batch_size, test_loader, model, device)\n",
        "\n",
        "# 寫到 csv 檔案供上傳 Kaggle\n",
        "tmp = pd.DataFrame({\"id\":[str(i) for i in range(len(test_x))],\"label\":outputs})\n",
        "print(\"save csv ...\")\n",
        "tmp.to_csv(os.path.join(path_prefix, 'predict.csv'), index=False)\n",
        "print(\"Finish Predicting\")\n",
        "\n",
        "# 以下是使用 command line 上傳到 Kaggle 的方式\n",
        "# 需要先 pip install kaggle、Create API Token，詳細請看 https://github.com/Kaggle/kaggle-api 以及 https://www.kaggle.com/code1110/how-to-submit-from-google-colab\n",
        "# kaggle competitions submit [competition-name] -f [csv file path]] -m [message]\n",
        "# e.g., kaggle competitions submit ml-2020spring-hw4 -f output/predict.csv -m \"......\""
      ],
      "execution_count": null,
      "outputs": []
    }
  ]
}