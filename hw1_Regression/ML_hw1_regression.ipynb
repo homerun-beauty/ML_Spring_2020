{
  "nbformat": 4,
  "nbformat_minor": 0,
  "metadata": {
    "colab": {
      "name": "ML_hw1_regression.ipynb",
      "provenance": [],
      "collapsed_sections": []
    },
    "kernelspec": {
      "name": "python3",
      "display_name": "Python 3"
    }
  },
  "cells": [
    {
      "cell_type": "markdown",
      "metadata": {
        "id": "p9FfatPz6MU3",
        "colab_type": "text"
      },
      "source": [
        "# **Homework 1: Linear Regression**"
      ]
    },
    {
      "cell_type": "markdown",
      "metadata": {
        "id": "KnBOEHAc9Op1",
        "colab_type": "text"
      },
      "source": [
        "## **goal**"
      ]
    },
    {
      "cell_type": "markdown",
      "metadata": {
        "id": "fsoaNwrZA0ui",
        "colab_type": "text"
      },
      "source": [
        "本次目標：由前 9 個小時的 18 個 features (包含 PM2.5)預測的 10 個小時的 PM2.5。<!-- 可以參考 <link> 獲知更細項的作業說明。-->\n",
        "\n",
        "<!-- 首先，從 https://drive.google.com/open?id=1El0zvTkrSuqCTDcMpijXpADvJzZC2Jpa 將整個資料夾下載下來，並將下載下來的資料夾放到自己的 Google Drive（注意：上傳到自己 Google Drive 的是資料夾 hw1-regression，而非壓縮檔） -->"
      ]
    },
    {
      "cell_type": "markdown",
      "metadata": {
        "id": "m0MJSBYQ9V_g",
        "colab_type": "text"
      },
      "source": [
        " ----- strong baseline -----   7.14231\n",
        "\n",
        "----- simple baseline -----   8.73773"
      ]
    },
    {
      "cell_type": "markdown",
      "metadata": {
        "id": "U7RiAkkjCc6l",
        "colab_type": "text"
      },
      "source": [
        "# **Load 'train.csv'**\n",
        "train.csv 的資料為 12 個月中，每個月取 20 天，每天 24 小時的資料(每小時資料有 18 個 features)。"
      ]
    },
    {
      "cell_type": "code",
      "metadata": {
        "id": "1AfNX-hB3kN8",
        "colab_type": "code",
        "colab": {
          "base_uri": "https://localhost:8080/",
          "height": 121
        },
        "outputId": "f7e7fd09-5ef2-4d9c-847d-5d1291dc350e"
      },
      "source": [
        "import sys\n",
        "import pandas as pd\n",
        "import numpy as np\n",
        "!gdown --id '1wNKAxQ29G15kgpBy_asjTcZRRgmsCZRm' --output data.zip # download the dataset as data.zip\n",
        "!unzip data.zip # unzip data.zip\n",
        "data = pd.read_csv('./train.csv', encoding = 'big5')"
      ],
      "execution_count": 65,
      "outputs": [
        {
          "output_type": "stream",
          "text": [
            "Downloading...\n",
            "From: https://drive.google.com/uc?id=1wNKAxQ29G15kgpBy_asjTcZRRgmsCZRm\n",
            "To: /content/data.zip\n",
            "\r  0% 0.00/177k [00:00<?, ?B/s]\r100% 177k/177k [00:00<00:00, 22.3MB/s]\n",
            "Archive:  data.zip\n",
            "replace test.csv? [y]es, [n]o, [A]ll, [N]one, [r]ename: N\n"
          ],
          "name": "stdout"
        }
      ]
    },
    {
      "cell_type": "markdown",
      "metadata": {
        "id": "Gy5vcRl6B6QY",
        "colab_type": "text"
      },
      "source": [
        "查看我們的資料樣式"
      ]
    },
    {
      "cell_type": "code",
      "metadata": {
        "id": "2cyvqUoaB27f",
        "colab_type": "code",
        "colab": {}
      },
      "source": [
        "# data"
      ],
      "execution_count": null,
      "outputs": []
    },
    {
      "cell_type": "markdown",
      "metadata": {
        "id": "gqUdj00pDTpo",
        "colab_type": "text"
      },
      "source": [
        "# **Preprocessing** \n",
        "取需要的數值部分，將 'RAINFALL' 欄位全部補 0。\n",
        "另外，如果要在 colab 重覆這段程式碼的執行，請從頭開始執行(把上面的都重新跑一次)，以避免跑出不是自己要的結果（若自己寫程式不會遇到，但 colab 重複跑這段會一直往下取資料。意即第一次取原本資料的第三欄之後的資料，第二次取第一次取的資料掉三欄之後的資料，...）。"
      ]
    },
    {
      "cell_type": "code",
      "metadata": {
        "id": "AIGP7XUYD_Yb",
        "colab_type": "code",
        "colab": {}
      },
      "source": [
        "data = data.iloc[:, 3:] # 選取標籤 'data' 且只取第三行開始後，選完的類型仍是 dataframe\n",
        "data[data == 'NR'] = 0 # 判斷 'RAINFALL' == 'NR' 時補 0\n",
        "raw_data = data.to_numpy() # to_numpy() 返回代表给定 Series 或 Index 中的值的 NumPy ndarray，在這裡將 data 的內容用 raw_data 以 numpy 存入\n",
        "# print(raw_data)"
      ],
      "execution_count": 66,
      "outputs": []
    },
    {
      "cell_type": "markdown",
      "metadata": {
        "id": "V7PCrVwX6jBF",
        "colab_type": "text"
      },
      "source": [
        "# **Extract Features (1)**\n",
        "![圖片說明](https://drive.google.com/uc?id=1LyaqD4ojX07oe5oDzPO99l9ts5NRyArH)\n",
        "![圖片說明](https://drive.google.com/uc?id=1ZroBarcnlsr85gibeqEF-MtY13xJTG47)\n",
        "\n",
        "將原始 4320 * 18 的資料依照每個月分重組成 12 個 18 (features) * 480 (hours) 的資料。 "
      ]
    },
    {
      "cell_type": "code",
      "metadata": {
        "id": "HBnrGYXu9dZQ",
        "colab_type": "code",
        "colab": {}
      },
      "source": [
        "# 將原始 4320 * 18 的資料依照每個月分重組成 12 個 18 (features) * 480 (hours) 的資料。\n",
        "# 4320 = 20日*24hr(每日)*18(features)\n",
        "month_data = {} # 使用 list 儲存每個月的資料 \n",
        "for month in range(12): # 代表 12 個月\n",
        "    sample = np.empty([18, 480]) # 創造一個 18*480 的空元素 np array\n",
        "    for day in range(20):\n",
        "        sample[:, day * 24 : (day + 1) * 24] = raw_data[18 * (20 * month + day) : 18 * (20 * month + day + 1), :]\n",
        "    month_data[month] = sample"
      ],
      "execution_count": 67,
      "outputs": []
    },
    {
      "cell_type": "markdown",
      "metadata": {
        "id": "WhVmtFEQ9D6t",
        "colab_type": "text"
      },
      "source": [
        "# **Extract Features (2)**\n",
        "![alt text](https://drive.google.com/uc?id=1wKoPuaRHoX682LMiBgIoOP4PDyNKsJLK)\n",
        "![alt text](https://drive.google.com/uc?id=1FRWWiXQ-Qh0i9tyx0LiugHYF_xDdkhLN)\n",
        "\n",
        "每個月會有 480hrs，每 9 小時形成一個 data，每個月會有 471 個 data，故總資料數為 471 * 12 筆，而每筆 data 有 9 * 18 的 features (一小時 18 個 features * 9 小時)。\n",
        "\n",
        "對應的 target 則有 471 * 12 個(第 10 個小時的 PM2.5)"
      ]
    },
    {
      "cell_type": "code",
      "metadata": {
        "id": "dcOrC4Fi-n3i",
        "colab_type": "code",
        "colab": {}
      },
      "source": [
        "x = np.empty([12 * 471, 18 * 9], dtype = float) #橫軸：18個features有九小時資料，縱軸：12個月*471 data\n",
        "y = np.empty([12 * 471, 1 * 1], dtype = float)\n",
        "# 第一個氣體放九小時資料後，換下一行放下一個氣體\n",
        "# 直到放出18個氣體後，就是下一天\n",
        "for month in range(12):\n",
        "    for day in range(20):\n",
        "        for hour in range(24):\n",
        "            if day == 19 and hour > 14:\n",
        "                continue\n",
        "            x[month * 471 + day * 24 + hour, :] = month_data[month][:,day * 24 + hour : day * 24 + hour + 9].reshape(1, -1) # vector dim:18*9 (9 9 9 9 9 9 9 9 9 9 9 9 9 9 9 9 9 9)\n",
        "            y[month * 471 + day * 24 + hour, 0] = month_data[month][9, day * 24 + hour + 9] # value\n",
        "            \n",
        "# print(x) # training_data\n",
        "# print(y) # pm2.5"
      ],
      "execution_count": 96,
      "outputs": []
    },
    {
      "cell_type": "markdown",
      "metadata": {
        "id": "1wOii0TX8IwE",
        "colab_type": "text"
      },
      "source": [
        "# **Normalize (1)**\n"
      ]
    },
    {
      "cell_type": "code",
      "metadata": {
        "id": "ceMqFoNI8ftQ",
        "colab_type": "code",
        "colab": {}
      },
      "source": [
        "mean_x = np.mean(x, axis = 0) #18 * 9 # axis = 0: 針對逐 column 的 mean\n",
        "std_x = np.std(x, axis = 0) #18 * 9 # axis = 0: 針對逐 column 的 std\n",
        "# 得到的 mean_x、std_x 為 162*1 的 array，代表著九個小時內的所有 feature 針對 12*471 筆資料的平均\n",
        "for i in range(len(x)): # 12 * 471\n",
        "    for j in range(len(x[0])): # 18 * 9 得到每個feature在\n",
        "        if std_x[j] != 0:\n",
        "            x[i][j] = (x[i][j] - mean_x[j]) / std_x[j] #歸一化資料，可以比較好訓練\n",
        "# print(x)"
      ],
      "execution_count": 97,
      "outputs": []
    },
    {
      "cell_type": "markdown",
      "metadata": {
        "id": "NzvXP5Jya64j",
        "colab_type": "text"
      },
      "source": [
        "#**Split Training Data Into \"train_set\" and \"validation_set\"**\n",
        "這部分是針對作業中 report 的第二題、第三題做的簡單示範，以生成比較中用來訓練的 train_set 和不會被放入訓練、只是用來驗證的 validation_set。"
      ]
    },
    {
      "cell_type": "code",
      "metadata": {
        "id": "feF4XXOQb5SC",
        "colab_type": "code",
        "colab": {}
      },
      "source": [
        "import math\n",
        "# 資料量 train : val = 4 : 1\n",
        "x_train_set = x[: math.floor(len(x) * 0.8), :]\n",
        "y_train_set = y[: math.floor(len(y) * 0.8), :]\n",
        "x_validation = x[math.floor(len(x) * 0.8): , :]\n",
        "y_validation = y[math.floor(len(y) * 0.8): , :]\n",
        "# print(x_train_set)\n",
        "# print(y_train_set)\n",
        "# print(x_validation)\n",
        "# print(y_validation)\n",
        "# print(len(x_train_set))\n",
        "# print(len(y_train_set))\n",
        "# print(len(x_validation))\n",
        "# print(len(y_validation))"
      ],
      "execution_count": 70,
      "outputs": []
    },
    {
      "cell_type": "markdown",
      "metadata": {
        "id": "einGERXvzW0Y",
        "colab_type": "text"
      },
      "source": [
        "## **這裡實作 hw1 第二題：**     \n",
        "比較取前 5 hrs 和前 9 hrs 的資料（5 * 18 + 1 v.s 9 * 18 + 1）在 validation set 上預測的結果，並說明造成的可能原因。\n",
        "1.   因為 testing set 預測結果要上傳 Kaggle 後才能得知，所以在報告中並不要求同學們呈現 testing set 的結果，至於什麼是 validation set 請參考：https://youtu.be/D_S6y0Jm6dQ?t=1949）\n",
        "\n",
        "2.   9hr:取前9小時預測第10小時的PM2.5；5hr:在前面的那些features中，以5~9hr預測第10小時的PM2.5。這樣兩者在相同的validation set比例下，會有一樣筆數的資料\n"
      ]
    },
    {
      "cell_type": "code",
      "metadata": {
        "id": "UVj2Xj421M__",
        "colab_type": "code",
        "colab": {}
      },
      "source": [
        "# 這裡實作 9hr，記得使用 train、val set\n",
        "\n",
        "dim = 18 * 9 + 1 # 因為常數項 (bias) 所以多加一欄\n",
        "w_9 = np.zeros([dim, 1])\n",
        "x_train_set_9 = np.concatenate((np.ones([math.floor(12 * 471*0.8), 1]), x_train_set), axis = 1).astype(float) # 使用 np.concatenate 對 \"axis = 1 (行)\" 的數組拼接\n",
        "x_validation_9 = np.concatenate((np.ones([1131, 1]), x_validation), axis = 1).astype(float)\n",
        "train_loss_9 = []\n",
        "predict_9 = []\n",
        "\n",
        "learning_rate = 200 # 每次移動多少\n",
        "iter_time = 40000 # 進行幾次\n",
        "adagrad = np.zeros([dim, 1])\n",
        "eps = 0.0000000001\n",
        "for t in range(iter_time):\n",
        "    # for training process\n",
        "    loss = np.sqrt(np.sum(np.power(np.dot(x_train_set_9, w_9) - y_train_set, 2))/471/12) # rmse\n",
        "    train_loss_9.append(loss)\n",
        "    gradient = 2 * np.dot(x_train_set_9.transpose(), np.dot(x_train_set_9, w_9) - y_train_set) # dim*1\n",
        "    adagrad += gradient ** 2\n",
        "    w_9 = w_9 - learning_rate * gradient / np.sqrt(adagrad + eps)\n",
        "\n",
        "    # for validation process\n",
        "    val_loss = np.sqrt(np.sum(np.power(np.dot(x_validation_9, w_9) - y_validation, 2))/471/12)\n",
        "    predict_9.append(val_loss) # rmse\n",
        "\n",
        "    if(t%100==0): # 每 train 100 次顯示出結果\n",
        "        print('iter =', t ,' train_loss =', str(loss),' val_loss =', val_loss)\n",
        "\n",
        "np.save('weight_9.npy', w_9) # 將最後的 x_train_setw 以 \"weight_9.npy\" 儲存起來\n",
        "# print(w_9)"
      ],
      "execution_count": null,
      "outputs": []
    },
    {
      "cell_type": "code",
      "metadata": {
        "id": "ZSsElpYs1U0w",
        "colab_type": "code",
        "colab": {}
      },
      "source": [
        "# 這裡實作 5hr，記得使用 train、val set\n",
        "\n",
        "# 重新建構我們的 train_set 與 val_set\n",
        "x_train_set_5 = np.ones([math.floor(12 * 471*0.8), 18 * 5]) # 建構 x_train_set_5，初始都為 1\n",
        "x_validation_5 = np.ones([1131, 18 * 5]) # 建構 x_validation_5，初始都為 1\n",
        "for i in range(len(x_train_set)): # 重新賦值\n",
        "    for j in range(18):\n",
        "        for k in range(5):\n",
        "            x_train_set_5[i][j*5+k] = x_train_set[i][j*9+k+4]\n",
        "\n",
        "for i in range(len(x_validation)): # 重新賦值\n",
        "    for j in range(18):\n",
        "        for k in range(5):\n",
        "           x_validation_5[i][j*5+k] = x_validation[i][j*9+k+4]\n",
        "\n",
        "dim = 18 * 5 + 1 # 因為常數項 (bias) 所以多加一欄\n",
        "w_5 = np.zeros([dim, 1])\n",
        "x_train_set_5 = np.concatenate((np.ones([math.floor(12 * 471*0.8), 1]), x_train_set_5), axis = 1).astype(float) # 使用 np.concatenate 對 \"axis = 1 (行)\" 的數組拼接\n",
        "x_validation_5 = np.concatenate((np.ones([1131, 1]), x_validation_5), axis = 1).astype(float)\n",
        "train_loss_5 = []\n",
        "predict_5 = []\n",
        "\n",
        "learning_rate = 200 # 每次移動多少\n",
        "iter_time = 40000 # 進行幾次\n",
        "adagrad = np.zeros([dim, 1])\n",
        "eps = 0.0000000001\n",
        "for t in range(iter_time):\n",
        "    # for training process\n",
        "    loss = np.sqrt(np.sum(np.power(np.dot(x_train_set_5, w_5) - y_train_set, 2))/471/12) # rmse\n",
        "    train_loss_5.append(loss)\n",
        "    gradient = 2 * np.dot(x_train_set_5.transpose(), np.dot(x_train_set_5, w_5) - y_train_set) # dim*1\n",
        "    adagrad += gradient ** 2\n",
        "    w_5 = w_5 - learning_rate * gradient / np.sqrt(adagrad + eps)\n",
        "\n",
        "    # for validation process\n",
        "    val_loss = np.sqrt(np.sum(np.power(np.dot(x_validation_5, w_5) - y_validation, 2))/471/12)\n",
        "    predict_5.append(val_loss) # rmse\n",
        "\n",
        "    if(t%100==0): # 每 train 100 次顯示出結果\n",
        "        print('iter =', t ,' train_loss =', str(loss),' val_loss =', val_loss)\n",
        "\n",
        "np.save('weight_5.npy', w_5) # 將最後的 w 以 \"weight_5.npy\" 儲存起來\n",
        "# print(w_5)"
      ],
      "execution_count": null,
      "outputs": []
    },
    {
      "cell_type": "markdown",
      "metadata": {
        "id": "hA99yVCd2obb",
        "colab_type": "text"
      },
      "source": [
        "### 秀出第二題的比較圖"
      ]
    },
    {
      "cell_type": "code",
      "metadata": {
        "id": "b2_3XAUa3KHv",
        "colab_type": "code",
        "colab": {
          "base_uri": "https://localhost:8080/",
          "height": 295
        },
        "outputId": "9f84bade-2554-4c61-a56a-9827f2a8381b"
      },
      "source": [
        "import matplotlib.pyplot as plt\n",
        "\n",
        "# Loss curve\n",
        "plt.xlabel(\"Number of iteration + 1\")\n",
        "plt.ylabel(\"Loss\")\n",
        "plt.plot(predict_9[1:200]) # 在 iter 較前面時比較可以觀察到趨勢\n",
        "plt.plot(predict_5[1:200]) # 在 iter 較前面時比較可以觀察到趨勢\n",
        "plt.title('Loss of range: 9hr and range: 5hr')\n",
        "plt.legend(['val loss: 9hr', 'val loss: 5hr'])\n",
        "plt.savefig('Loss of range: 9hr and range: 5hr.png')\n",
        "plt.show()"
      ],
      "execution_count": 122,
      "outputs": [
        {
          "output_type": "display_data",
          "data": {
            "image/png": "[encoded data removed]",
            "text/plain": [
              "<Figure size 432x288 with 1 Axes>"
            ]
          },
          "metadata": {
            "tags": [],
            "needs_background": "light"
          }
        }
      ]
    },
    {
      "cell_type": "markdown",
      "metadata": {
        "id": "e1sVGVqRbxEc",
        "colab_type": "text"
      },
      "source": [
        "## **這裡實作 hw1 第三題：**      \n",
        "比較只取前 9 hrs 的 PM2.5 和取所有前 9 hrs 的 features（9 * 1 + 1 vs. 9 * 18 + 1）在 validation set上預測的結果，並說明造成的可能原因。    "
      ]
    },
    {
      "cell_type": "code",
      "metadata": {
        "id": "uDt-ppw5cKQ8",
        "colab_type": "code",
        "colab": {}
      },
      "source": [
        "# 這裡實作只取 PM 2.5 這個 feature，記得使用 train、val set\n",
        "\n",
        "# 重新建構我們的 train_set 與 val_set\n",
        "x_train_set_p = np.ones([math.floor(12 * 471*0.8), 9 * 1]) # 建構 x_train_set_5，初始都為 1\n",
        "x_validation_p = np.ones([1131, 9 * 1]) # 建構 x_validation_p，初始都為 1\n",
        "for i in range(len(x_train_set)): # 重新賦值\n",
        "    x_train_set_p[i][0:9] = x_train_set[i][81:90] # 拿取 pm 2.5 data only\n",
        "\n",
        "for i in range(len(x_validation)): # 重新賦值\n",
        "    x_validation_p[i][0:9] = x_validation[i][81:90] # 拿取 pm 2.5 data only\n",
        "\n",
        "dim = 9 * 1 + 1 # 因為常數項 (bias) 所以多加一欄\n",
        "w_p = np.zeros([dim, 1])\n",
        "x_train_set_p = np.concatenate((np.ones([math.floor(12 * 471*0.8), 1]), x_train_set_p), axis = 1).astype(float) # 使用 np.concatenate 對 \"axis = 1 (行)\" 的數組拼接\n",
        "x_validation_p = np.concatenate((np.ones([1131, 1]), x_validation_p), axis = 1).astype(float)\n",
        "train_loss_p = []\n",
        "predict_p = []\n",
        "\n",
        "learning_rate = 200 # 每次移動多少\n",
        "iter_time = 40000 # 進行幾次\n",
        "adagrad = np.zeros([dim, 1])\n",
        "eps = 0.0000000001\n",
        "for t in range(iter_time):\n",
        "    # for training process\n",
        "    loss = np.sqrt(np.sum(np.power(np.dot(x_train_set_p, w_p) - y_train_set, 2))/471/12) # rmse\n",
        "    train_loss_p.append(loss)\n",
        "    gradient = 2 * np.dot(x_train_set_p.transpose(), np.dot(x_train_set_p, w_p) - y_train_set) # dim*1\n",
        "    adagrad += gradient ** 2\n",
        "    w_p = w_p - learning_rate * gradient / np.sqrt(adagrad + eps)\n",
        "\n",
        "    # for validation process\n",
        "    val_loss = np.sqrt(np.sum(np.power(np.dot(x_validation_p, w_p) - y_validation, 2))/471/12)\n",
        "    predict_p.append(val_loss) # rmse\n",
        "\n",
        "    if(t%100==0): # 每 train 100 次顯示出結果\n",
        "        print('iter =', t ,' train_loss =', str(loss),' val_loss =', val_loss)\n",
        "\n",
        "np.save('weight_p.npy', w_p) # 將最後的 w 以 \"weight_p.npy\" 儲存起來\n",
        "# print(w_p)"
      ],
      "execution_count": null,
      "outputs": []
    },
    {
      "cell_type": "markdown",
      "metadata": {
        "id": "HlsmU1HJwbv7",
        "colab_type": "text"
      },
      "source": [
        "### 秀出第三題的比較圖"
      ]
    },
    {
      "cell_type": "code",
      "metadata": {
        "id": "lXTlpBUbhk2G",
        "colab_type": "code",
        "colab": {
          "base_uri": "https://localhost:8080/",
          "height": 295
        },
        "outputId": "64b9b9e5-3586-457b-89f2-8228a915bfb8"
      },
      "source": [
        "import matplotlib.pyplot as plt\n",
        "\n",
        "# Loss curve\n",
        "plt.xlabel(\"Number of iteration + 4000\")\n",
        "plt.ylabel(\"Loss\")\n",
        "plt.plot(predict_9[900:5000]) # 在 iter 較前面時比較可以觀察到趨勢\n",
        "plt.plot(predict_p[900:5000]) # 在 iter 較前面時比較可以觀察到趨勢\n",
        "# plt.plot(train_loss_9[:400]) # 在 iter 較前面時比較可以觀察到趨勢\n",
        "# plt.plot(train_loss_p[:400]) # 在 iter 較前面時比較可以觀察到趨勢\n",
        "plt.title('Loss of all feature and pm 2.5 only')\n",
        "plt.legend(['val loss: all feature', 'val loss: pm 2.5 only'])\n",
        "plt.savefig('Loss of all feature and pm 2.5 only.png')\n",
        "plt.show()"
      ],
      "execution_count": 132,
      "outputs": [
        {
          "output_type": "display_data",
          "data": {
            "image/png": "[encoded data removed]",
            "text/plain": [
              "<Figure size 432x288 with 1 Axes>"
            ]
          },
          "metadata": {
            "tags": [],
            "needs_background": "light"
          }
        }
      ]
    },
    {
      "cell_type": "markdown",
      "metadata": {
        "id": "Q-qAu0KR_ZRR",
        "colab_type": "text"
      },
      "source": [
        "# **Training**\n",
        "![alt text](https://drive.google.com/uc?id=1xIXvqZ4EGgmxrp7c9r0LOVbcvd4d9H4N)\n",
        "![alt text](https://drive.google.com/uc?id=1S42g06ON5oJlV2f9RukxawjbE4NpsaB6)\n",
        "![alt text](https://drive.google.com/uc?id=1BbXu-oPB9EZBHDQ12YCkYqtyAIil3bGj)\n",
        "\n",
        "(和上圖不同處: 下面的 code 採用 Root Mean Square Error)\n",
        "\n",
        "因為常數項的存在，所以 dimension (dim) 需要多加一欄；eps 項是避免 adagrad 的分母為 0 而加的極小數值。\n",
        "\n",
        "每一個 dimension (dim) 會對應到各自的 gradient, weight (w)，透過一次次的 iteration (iter_time) 學習。"
      ]
    },
    {
      "cell_type": "markdown",
      "metadata": {
        "id": "NRmdufTVb6E0",
        "colab_type": "text"
      },
      "source": [
        "## **這裡實作 hw1 第一題**：    \n",
        "使用四種不同的 learning rate 進行 training (其他參數需一致)，作圖並討論其收斂過程（橫軸為 iteration 次數，縱軸為 loss 的大小，四種 learning rate 的收斂線請以不同顏色呈現在一張圖裡做比較）。"
      ]
    },
    {
      "cell_type": "code",
      "metadata": {
        "id": "cCzDfxBFBFqp",
        "colab_type": "code",
        "colab": {}
      },
      "source": [
        "dim = 18 * 9 + 1 # 因為常數項 (bias) 所以多加一欄\n",
        "train_loss = []\n",
        "learning_rate = [0.1, 1, 10, 100] # 每次移動多少\n",
        "x = np.concatenate((np.ones([12 * 471, 1]), x), axis = 1).astype(float) # 使用 np.concatenate 對 \"axis = 1 (行)\" 的數組拼接\n",
        "iter_time = 40000 # 進行幾次\n",
        "eps = 0.0000000001\n",
        "for lr in learning_rate:\n",
        "    print('learining rate =', lr)\n",
        "    train_loss_lr = []\n",
        "    w = np.zeros([dim, 1])\n",
        "    adagrad = np.zeros([dim, 1])\n",
        "    for t in range(iter_time):\n",
        "        loss = np.sqrt(np.sum(np.power(np.dot(x, w) - y, 2))/471/12) # rmse\n",
        "        train_loss_lr.append(loss)\n",
        "        if(t%100==0): # 每 train 100 次顯示出結果\n",
        "            print(str(t) + \":\" + str(loss))\n",
        "        gradient = 2 * np.dot(x.transpose(), np.dot(x, w) - y) # dim*1\n",
        "        adagrad += gradient ** 2\n",
        "        w = w - lr * gradient / np.sqrt(adagrad + eps)\n",
        "    train_loss.append(train_loss_lr)\n",
        "    print('--------------------------------------------------------')\n",
        "np.save('weight.npy', w) # 將最後的 w 以 \"weight.npy\" 儲存起來\n",
        "print(w)"
      ],
      "execution_count": null,
      "outputs": []
    },
    {
      "cell_type": "markdown",
      "metadata": {
        "id": "ZqNdWKsYBK28",
        "colab_type": "text"
      },
      "source": [
        "# **Testing**\n",
        "![alt text](https://drive.google.com/uc?id=1165ETzZyE6HStqKvgR0gKrJwgFLK6-CW)\n",
        "\n",
        "載入 test data，並且以相似於訓練資料預先處理和特徵萃取的方式處理，使 test data 形成 240 個維度為 18 * 9 + 1 的資料。"
      ]
    },
    {
      "cell_type": "code",
      "metadata": {
        "id": "AALygqJFCWOA",
        "colab_type": "code",
        "colab": {}
      },
      "source": [
        "testdata = pd.read_csv('./test.csv', header = None, encoding = 'big5')\n",
        "test_data = testdata.iloc[:, 2:]\n",
        "test_data[test_data == 'NR'] = 0\n",
        "test_data = test_data.to_numpy()\n",
        "test_x = np.empty([240, 18*9], dtype = float)\n",
        "for i in range(240):\n",
        "    test_x[i, :] = test_data[18 * i: 18* (i + 1), :].reshape(1, -1)\n",
        "for i in range(len(test_x)):\n",
        "    for j in range(len(test_x[0])):\n",
        "        if std_x[j] != 0:\n",
        "            test_x[i][j] = (test_x[i][j] - mean_x[j]) / std_x[j]\n",
        "test_x = np.concatenate((np.ones([240, 1]), test_x), axis = 1).astype(float)\n",
        "print(test_x)"
      ],
      "execution_count": null,
      "outputs": []
    },
    {
      "cell_type": "markdown",
      "metadata": {
        "id": "dJQks9JEHR6W",
        "colab_type": "text"
      },
      "source": [
        "# **Prediction**\n",
        "說明圖同上\n",
        "\n",
        "![alt text](https://drive.google.com/uc?id=1165ETzZyE6HStqKvgR0gKrJwgFLK6-CW)\n",
        "\n",
        "有了 weight 和測試資料即可預測 target。"
      ]
    },
    {
      "cell_type": "code",
      "metadata": {
        "id": "jNyB229jHsEQ",
        "colab_type": "code",
        "colab": {}
      },
      "source": [
        "w = np.load('weight.npy')\n",
        "ans_y = np.dot(test_x, w)\n",
        "print(ans_y)"
      ],
      "execution_count": null,
      "outputs": []
    },
    {
      "cell_type": "markdown",
      "metadata": {
        "id": "70hB8OzlC4TG",
        "colab_type": "text"
      },
      "source": [
        "## 秀出第一題的比較圖"
      ]
    },
    {
      "cell_type": "code",
      "metadata": {
        "id": "euc6DD3qDEIt",
        "colab_type": "code",
        "colab": {
          "base_uri": "https://localhost:8080/",
          "height": 295
        },
        "outputId": "d8378341-3a2c-427f-a5df-2476f76e17df"
      },
      "source": [
        "import matplotlib.pyplot as plt\n",
        "\n",
        "# Loss curve\n",
        "plt.xlabel(\"Number of iteration + 5\")\n",
        "plt.ylabel(\"Loss\")\n",
        "plt.plot(train_loss[0][5:500]) # 在 iter 較前面時比較可以觀察到趨勢\n",
        "plt.plot(train_loss[1][5:500]) # 在 iter 較前面時比較可以觀察到趨勢\n",
        "plt.plot(train_loss[2][5:500]) # 在 iter 較前面時比較可以觀察到趨勢\n",
        "plt.plot(train_loss[3][5:500]) # 在 iter 較前面時比較可以觀察到趨勢\n",
        "plt.title('Learning Rate and Loss')\n",
        "plt.legend(['learning rate : 0.1', 'learning rate : 1', 'learning rate : 10', 'learning rate : 100'])\n",
        "plt.savefig('learning rate and loss.png')\n",
        "plt.show()\n"
      ],
      "execution_count": 133,
      "outputs": [
        {
          "output_type": "display_data",
          "data": {
            "image/png": "[encoded data removed]",
            "text/plain": [
              "<Figure size 432x288 with 1 Axes>"
            ]
          },
          "metadata": {
            "tags": [],
            "needs_background": "light"
          }
        }
      ]
    },
    {
      "cell_type": "markdown",
      "metadata": {
        "id": "HKMKW7RzHwuO",
        "colab_type": "text"
      },
      "source": [
        "# **Save Prediction to CSV File**\n"
      ]
    },
    {
      "cell_type": "code",
      "metadata": {
        "id": "Dwfpqqy0H8en",
        "colab_type": "code",
        "colab": {}
      },
      "source": [
        "import csv\n",
        "with open('submit.csv', mode='w', newline='') as submit_file:\n",
        "    csv_writer = csv.writer(submit_file)\n",
        "    header = ['id', 'value']\n",
        "    print(header)\n",
        "    csv_writer.writerow(header)\n",
        "    for i in range(240):\n",
        "        row = ['id_' + str(i), ans_y[i][0]]\n",
        "        csv_writer.writerow(row)\n",
        "        print(row)\n",
        "\n",
        "# 將結果存到本機端\n",
        "from google.colab import files\n",
        "files.download('submit.csv')"
      ],
      "execution_count": null,
      "outputs": []
    },
    {
      "cell_type": "markdown",
      "metadata": {
        "id": "Y54yWq9cIPR4",
        "colab_type": "text"
      },
      "source": [
        "相關 reference 可以參考:\n",
        "\n",
        "Adagrad :\n",
        "https://youtu.be/yKKNr-QKz2Q?list=PLJV_el3uVTsPy9oCRY30oBPNLCo89yu49&t=705 \n",
        "\n",
        "RMSprop : \n",
        "https://www.youtube.com/watch?v=5Yt-obwvMHI \n",
        "\n",
        "Adam\n",
        "https://www.youtube.com/watch?v=JXQT_vxqwIs \n",
        "\n",
        "\n",
        "以上 print 的部分主要是為了看一下資料和結果的呈現，拿掉也無妨。另外，在自己的 linux 系統，可以將檔案寫死的的部分換成 sys.argv 的使用 (可在 terminal 自行輸入檔案和檔案位置)。\n",
        "\n",
        "最後，可以藉由調整 learning rate、iter_time (iteration 次數)、取用 features 的多寡(取幾個小時，取哪些特徵欄位)，甚至是不同的 model 來超越 baseline。\n",
        "\n",
        "Report 的問題模板請參照 : https://docs.google.com/document/d/1s84RXs2AEgZr54WCK9IgZrfTF-6B1td-AlKR9oqYa4g/edit"
      ]
    }
  ]
}