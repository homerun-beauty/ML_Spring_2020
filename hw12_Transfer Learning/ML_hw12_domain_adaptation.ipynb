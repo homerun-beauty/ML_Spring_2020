{
  "nbformat": 4,
  "nbformat_minor": 0,
  "metadata": {
    "colab": {
      "name": "ML_hw12_domain_adaptation.ipynb",
      "provenance": [],
      "collapsed_sections": [],
      "machine_shape": "hm"
    },
    "kernelspec": {
      "name": "python3",
      "display_name": "Python 3"
    },
    "accelerator": "GPU"
  },
  "cells": [
    {
      "cell_type": "markdown",
      "metadata": {
        "id": "b5cFq_TgWlQ_",
        "colab_type": "text"
      },
      "source": [
        "# Homework 12 - Transfer Learning (Domain Adversarial Training)\n",
        "\n",
        "> Author: Arvin Liu (b05902127@ntu.edu.tw)"
      ]
    },
    {
      "cell_type": "markdown",
      "metadata": {
        "id": "camegA9lkdQ2",
        "colab_type": "text"
      },
      "source": [
        "## **goal**\n",
        "\n",
        "----- strong baseline -----\n",
        "0.69738     \n",
        "----- simple baseline -----\n",
        "0.51018 \n",
        "\n",
        "助教的 code: 0.49832"
      ]
    },
    {
      "cell_type": "markdown",
      "metadata": {
        "id": "vNiZCGrIYKdR",
        "colab_type": "text"
      },
      "source": [
        "# Readme\n",
        "\n",
        "\n",
        "HW12的任務是Transfer Learning中的Domain Adversarial Training。\n",
        "\n",
        "<img src=\"https://i.imgur.com/iMVIxCH.png\" width=\"500px\">\n",
        "\n",
        "> 也就是左下角的那一塊。\n",
        "\n",
        "## Scenario and Why Domain Adversarial Training\n",
        "你現在有Source Data + label，其中Source Data和Target Data可能有點關係，所以你想要訓練一個model做在Source Data上並Predict在Target Data上。\n",
        "\n",
        "但這樣有什麼樣的問題? 相信大家學過Anomaly Detection就會知道，如果有data是在Source Data沒有出現過的(或稱Abnormal的)，那麼model大部分都會因為不熟悉這個data而可能亂做一發。 \n",
        "\n",
        "以下我們將model拆成Feature Extractor(上半部)和Classifier(下半部)來作例子:\n",
        "<img src=\"https://i.imgur.com/IL0PxCY.png\" width=\"500px\">\n",
        "\n",
        "整個Model在學習Source Data的時候，Feature Extrator因為看過很多次Source Data，所以所抽取出來的Feature可能就頗具意義，例如像圖上的藍色Distribution，已經將圖片分成各個Cluster，所以這個時候Classifier就可以依照這個Cluster去預測結果。\n",
        "\n",
        "但是在做Target Data的時候，Feature Extractor會沒看過這樣的Data，導致輸出的Target Feature可能不屬於在Source Feature Distribution上，這樣的Feature給Classifier預測結果顯然就不會做得好。\n",
        "\n",
        "## Domain Adversarial Training of Nerural Networks (DaNN)\n",
        "基於如此，是不是只要讓Soucre Data和Target Data經過Feature Extractor都在同個Distribution上，就會做得好了呢? 這就是DaNN的主要核心。\n",
        "\n",
        "<img src=\"https://i.imgur.com/vrOE5a6.png\" width=\"500px\">\n",
        "\n",
        "我們追加一個Domain Classifier，在學習的過程中，讓Domain Classifier去判斷經過Feature Extractor後的Feature是源自於哪個domain，讓Feature Extractor學習如何產生Feature以**騙過**Domain Classifier。 持久下來，通常Feature Extractor都會打贏Domain Classifier。(因為Domain Classifier的Input來自於Feature Extractor，而且對Feature Extractor來說Domain&Classification的任務並沒有衝突。)\n",
        "\n",
        "如此一來，我們就可以確信不管是哪一個Domain，Feature Extractor都會把它產生在同一個Feature Distribution上。"
      ]
    },
    {
      "cell_type": "markdown",
      "metadata": {
        "id": "3-qnUkspmap3",
        "colab_type": "text"
      },
      "source": [
        "# Data Introduce\n",
        "\n",
        "這次的任務是Source Data: 真實照片，Target Data: 手畫塗鴉。\n",
        "\n",
        "我們必須讓model看過真實照片以及標籤，嘗試去預測手畫塗鴉的標籤為何。\n",
        "\n",
        "資料位於[這裡](https://drive.google.com/open?id=16p0eoReFvKUq9meLKB7hGEVoDVl_7IaP)，以下的code分別為下載和觀看這次的資料大概長甚麼樣子。\n",
        "\n",
        "特別注意一點: **這次的source和target data的圖片都是平衡的，你們可以使用這個資訊做其他事情。**"
      ]
    },
    {
      "cell_type": "code",
      "metadata": {
        "id": "WBgTY-5zko7h",
        "colab_type": "code",
        "colab": {}
      },
      "source": [
        "folder_path = './'"
      ],
      "execution_count": null,
      "outputs": []
    },
    {
      "cell_type": "code",
      "metadata": {
        "id": "DF-i0sVlnUbq",
        "colab_type": "code",
        "colab": {}
      },
      "source": [
        "# mine\n",
        "# Download dataset\n",
        "!gdown --id '1gmquY08U422x_V5aTt749cMkJUh45szv' --output real_or_drawing.zip\n",
        "\n",
        "# Unzip the files\n",
        "!unzip real_or_drawing.zip"
      ],
      "execution_count": null,
      "outputs": []
    },
    {
      "cell_type": "code",
      "metadata": {
        "id": "e0gtJ5Cck_0_",
        "colab_type": "code",
        "colab": {}
      },
      "source": [
        "import random\n",
        "import torch\n",
        "import numpy as np\n",
        "\n",
        "# 固定隨機種子\n",
        "def same_seeds(seed):\n",
        "    torch.manual_seed(seed)\n",
        "    if torch.cuda.is_available():\n",
        "        torch.cuda.manual_seed(seed)\n",
        "        torch.cuda.manual_seed_all(seed)  # if you are using multi-GPU.\n",
        "    np.random.seed(seed)  # Numpy module.\n",
        "    random.seed(seed)  # Python random module.\n",
        "    torch.backends.cudnn.benchmark = False\n",
        "    torch.backends.cudnn.deterministic = True\n",
        "\n",
        "same_seeds(0)"
      ],
      "execution_count": null,
      "outputs": []
    },
    {
      "cell_type": "code",
      "metadata": {
        "id": "0_uO-ZSDoR6i",
        "colab_type": "code",
        "colab": {
          "base_uri": "https://localhost:8080/",
          "height": 136
        },
        "outputId": "e5622333-1bed-4cdb-ddf9-ec7d0f4783bd"
      },
      "source": [
        "import matplotlib.pyplot as plt\n",
        "\n",
        "def no_axis_show(img, title='', cmap=None):\n",
        "  # imshow, 縮放模式為nearest。\n",
        "  fig = plt.imshow(img, interpolation='nearest', cmap=cmap)\n",
        "  # 不要顯示axis。\n",
        "  fig.axes.get_xaxis().set_visible(False)\n",
        "  fig.axes.get_yaxis().set_visible(False)\n",
        "  plt.title(title)\n",
        "\n",
        "titles = ['horse', 'bed', 'clock', 'apple', 'cat', 'plane', 'television', 'dog', 'dolphin', 'spider']\n",
        "plt.figure(figsize=(18, 18))\n",
        "for i in range(10):\n",
        "  plt.subplot(1, 10, i+1)\n",
        "  fig = no_axis_show(plt.imread(f'real_or_drawing/train_data/{i}/{500*i}.bmp'), title=titles[i]) #taining_data => real"
      ],
      "execution_count": null,
      "outputs": [
        {
          "output_type": "display_data",
          "data": {
            "image/png": "[encoded data removed]",
            "text/plain": [
              "<Figure size 1296x1296 with 10 Axes>"
            ]
          },
          "metadata": {
            "tags": [],
            "needs_background": "light"
          }
        }
      ]
    },
    {
      "cell_type": "code",
      "metadata": {
        "id": "3eMs7DbVt4Ee",
        "colab_type": "code",
        "colab": {
          "base_uri": "https://localhost:8080/",
          "height": 120
        },
        "outputId": "6355271e-e51b-4031-8e26-bf4db90854b5"
      },
      "source": [
        "plt.figure(figsize=(18, 18))\n",
        "for i in range(10):\n",
        "  plt.subplot(1, 10, i+1)\n",
        "  fig = no_axis_show(plt.imread(f'real_or_drawing/test_data/0/' + str(i).rjust(5, '0') + '.bmp')) #testing_data => comic"
      ],
      "execution_count": null,
      "outputs": [
        {
          "output_type": "display_data",
          "data": {
            "image/png": "[encoded data removed]",
            "text/plain": [
              "<Figure size 1296x1296 with 10 Axes>"
            ]
          },
          "metadata": {
            "tags": [],
            "needs_background": "light"
          }
        }
      ]
    },
    {
      "cell_type": "markdown",
      "metadata": {
        "id": "moXQw9To5TqZ",
        "colab_type": "text"
      },
      "source": [
        "# Special Domain Knowledge\n",
        "\n",
        "因為大家塗鴉的時候通常只會畫輪廓，我們可以根據這點將source data做點邊緣偵測處理，讓source data更像target data一點。\n",
        "\n",
        "## Canny Edge Detection\n",
        "算法這邊不贅述，只教大家怎麼用。若有興趣歡迎參考wiki或[這裡](https://medium.com/@pomelyu5199/canny-edge-detector-%E5%AF%A6%E4%BD%9C-opencv-f7d1a0a57d19)。\n",
        "\n",
        "cv2.Canny使用非常方便，只需要兩個參數: low_threshold, high_threshold。\n",
        "\n",
        "```cv2.Canny(image, low_threshold, high_threshold)```\n",
        "\n",
        "簡單來說就是當邊緣值超過high_threshold，我們就確定它是edge。如果只有超過low_threshold，那就先判斷一下再決定是不是edge。\n",
        "\n",
        "以下我們直接拿source data做做看。"
      ]
    },
    {
      "cell_type": "code",
      "metadata": {
        "id": "mn2MkDLV7E2-",
        "colab_type": "code",
        "colab": {
          "base_uri": "https://localhost:8080/",
          "height": 279
        },
        "outputId": "64bdc83c-74cf-44b0-887e-188f0535f266"
      },
      "source": [
        "import cv2\n",
        "import matplotlib.pyplot as plt\n",
        "titles = ['horse', 'bed', 'clock', 'apple', 'cat', 'plane', 'television', 'dog', 'dolphin', 'spider']\n",
        "plt.figure(figsize=(18, 18))\n",
        "\n",
        "original_img = plt.imread(f'real_or_drawing/train_data/0/0.bmp')\n",
        "plt.subplot(1, 5, 1)\n",
        "no_axis_show(original_img, title='original')\n",
        "\n",
        "gray_img = cv2.cvtColor(original_img, cv2.COLOR_RGB2GRAY)\n",
        "plt.subplot(1, 5, 2)\n",
        "no_axis_show(gray_img, title='gray scale', cmap='gray')\n",
        "\n",
        "gray_img = cv2.cvtColor(original_img, cv2.COLOR_RGB2GRAY)\n",
        "plt.subplot(1, 5, 2)\n",
        "no_axis_show(gray_img, title='gray scale', cmap='gray')\n",
        "\n",
        "# change threshold\n",
        "canny_50100 = cv2.Canny(gray_img, 50, 100)\n",
        "plt.subplot(1, 5, 3)\n",
        "no_axis_show(canny_50100, title='Canny(50, 100)', cmap='gray')\n",
        "\n",
        "canny_150200 = cv2.Canny(gray_img, 150, 200)\n",
        "plt.subplot(1, 5, 4)\n",
        "no_axis_show(canny_150200, title='Canny(150, 200)', cmap='gray')\n",
        "\n",
        "canny_250300 = cv2.Canny(gray_img, 250, 300)\n",
        "plt.subplot(1, 5, 5)\n",
        "no_axis_show(canny_250300, title='Canny(250, 300)', cmap='gray')\n",
        "  "
      ],
      "execution_count": null,
      "outputs": [
        {
          "output_type": "stream",
          "text": [
            "/usr/local/lib/python3.6/dist-packages/ipykernel_launcher.py:15: MatplotlibDeprecationWarning: Adding an axes using the same arguments as a previous axes currently reuses the earlier instance.  In a future version, a new instance will always be created and returned.  Meanwhile, this warning can be suppressed, and the future behavior ensured, by passing a unique label to each axes instance.\n",
            "  from ipykernel import kernelapp as app\n"
          ],
          "name": "stderr"
        },
        {
          "output_type": "display_data",
          "data": {
            "image/png": "[encoded data removed]",
            "text/plain": [
              "<Figure size 1296x1296 with 5 Axes>"
            ]
          },
          "metadata": {
            "tags": [],
            "needs_background": "light"
          }
        }
      ]
    },
    {
      "cell_type": "markdown",
      "metadata": {
        "id": "8THSdt_hmwYh",
        "colab_type": "text"
      },
      "source": [
        "# Data Process\n",
        "\n",
        "在這裡我故意將data用成可以使用torchvision.ImageFolder的形式，所以只要使用該函式便可以做出一個datasets。\n",
        "\n",
        "transform的部分請參考以下註解。\n",
        "\n",
        "#### 一些細節\n",
        "\n",
        "在一般的版本上，對灰階圖片使用RandomRotation使用```transforms.RandomRotation(15)```即可。但在colab上需要加上```fill=(0,)```才可運行。\n",
        "在n98上執行需要把```fill=(0,)```拿掉才可運行。\n"
      ]
    },
    {
      "cell_type": "code",
      "metadata": {
        "id": "WZHIBGknmi8Z",
        "colab_type": "code",
        "colab": {}
      },
      "source": [
        "import numpy as np\n",
        "import torch\n",
        "import torch.nn as nn\n",
        "import torch.nn.functional as F\n",
        "from torch.autograd import Function\n",
        "\n",
        "import torch.optim as optim\n",
        "import torchvision.transforms as transforms\n",
        "from torchvision.datasets import ImageFolder\n",
        "from torch.utils.data import DataLoader\n",
        "\n",
        "# training_data\n",
        "source_transform = transforms.Compose([\n",
        "    # 轉灰階: Canny 不吃 RGB。\n",
        "    transforms.Grayscale(),\n",
        "\n",
        "    # cv2 不吃 skimage.Image，因此轉成np.array後再做cv2.Canny\n",
        "    transforms.Lambda(lambda x: cv2.Canny(np.array(x), 170, 300)),\n",
        "\n",
        "    # 重新將np.array 轉回 skimage.Image\n",
        "    transforms.ToPILImage(),\n",
        "\n",
        "    # 水平翻轉 (Augmentation)\n",
        "    transforms.RandomHorizontalFlip(),\n",
        "\n",
        "    # 旋轉15度內 (Augmentation)，旋轉後空的地方補0\n",
        "    transforms.RandomRotation(15, fill=(0,)),\n",
        "\n",
        "    # 最後轉成Tensor供model使用。\n",
        "    transforms.ToTensor(),\n",
        "])\n",
        "\n",
        "\n",
        "target_transform = transforms.Compose([\n",
        "    # 轉灰階: 將輸入3維壓成1維。\n",
        "    transforms.Grayscale(),\n",
        "\n",
        "    # 縮放: 因為source data是32x32，我們將target data的28x28放大成32x32。\n",
        "    transforms.Resize((32, 32)),\n",
        "\n",
        "    # 水平翻轉 (Augmentation)\n",
        "    transforms.RandomHorizontalFlip(),\n",
        "\n",
        "    # 旋轉15度內 (Augmentation)，旋轉後空的地方補0\n",
        "    transforms.RandomRotation(15, fill=(0,)),\n",
        "\n",
        "    # 最後轉成Tensor供model使用。\n",
        "    transforms.ToTensor(),\n",
        "])\n",
        "\n",
        "source_dataset = ImageFolder('real_or_drawing/train_data', transform=source_transform)\n",
        "target_dataset = ImageFolder('real_or_drawing/test_data', transform=target_transform)\n",
        "\n",
        "# TA 原本助教使用的超參數\n",
        "# source_dataloader = DataLoader(source_dataset, batch_size=32, shuffle=True)\n",
        "# target_dataloader = DataLoader(target_dataset, batch_size=32, shuffle=True)\n",
        "\n",
        "# Mine\n",
        "source_dataloader = DataLoader(source_dataset, batch_size = 64, shuffle=True)\n",
        "target_dataloader = DataLoader(target_dataset, batch_size = 64, shuffle=True)\n",
        "test_dataloader = DataLoader(target_dataset, batch_size=128, shuffle=False)"
      ],
      "execution_count": null,
      "outputs": []
    },
    {
      "cell_type": "markdown",
      "metadata": {
        "id": "hdwDEMrOycs5",
        "colab_type": "text"
      },
      "source": [
        "# Model\n",
        "\n",
        "Feature Extractor: 典型的VGG-like疊法。\n",
        "\n",
        "Label Predictor / Domain Classifier: MLP到尾。\n",
        "\n",
        "相信作業寫到這邊大家對以下的Layer都很熟悉，因此不再贅述。"
      ]
    },
    {
      "cell_type": "markdown",
      "metadata": {
        "id": "gG2XNiS4sYnY",
        "colab_type": "text"
      },
      "source": [
        "TA 助教使用的模型架構，可以當參考使用"
      ]
    },
    {
      "cell_type": "code",
      "metadata": {
        "id": "3uw2eP09z-pD",
        "colab_type": "code",
        "colab": {}
      },
      "source": [
        "# class FeatureExtractor(nn.Module):\n",
        "\n",
        "#     def __init__(self):\n",
        "#         super(FeatureExtractor, self).__init__()\n",
        "\n",
        "#         self.conv = nn.Sequential(\n",
        "#             nn.Conv2d(1, 64, 3, 1, 1),\n",
        "#             nn.BatchNorm2d(64),\n",
        "#             nn.ReLU(),\n",
        "#             nn.MaxPool2d(2),\n",
        "\n",
        "#             nn.Conv2d(64, 128, 3, 1, 1),\n",
        "#             nn.BatchNorm2d(128),\n",
        "#             nn.ReLU(),\n",
        "#             nn.MaxPool2d(2),\n",
        "\n",
        "#             nn.Conv2d(128, 256, 3, 1, 1),\n",
        "#             nn.BatchNorm2d(256),\n",
        "#             nn.ReLU(),\n",
        "#             nn.MaxPool2d(2),\n",
        "\n",
        "#             nn.Conv2d(256, 256, 3, 1, 1),\n",
        "#             nn.BatchNorm2d(256),\n",
        "#             nn.ReLU(),\n",
        "#             nn.MaxPool2d(2),\n",
        "\n",
        "#             nn.Conv2d(256, 512, 3, 1, 1),\n",
        "#             nn.BatchNorm2d(512),\n",
        "#             nn.ReLU(),\n",
        "#             nn.MaxPool2d(2)\n",
        "#         )\n",
        "        \n",
        "#     def forward(self, x):\n",
        "#         x = self.conv(x).squeeze()\n",
        "#         return x\n",
        "\n",
        "# class LabelPredictor(nn.Module):\n",
        "\n",
        "#     def __init__(self):\n",
        "#         super(LabelPredictor, self).__init__()\n",
        "\n",
        "#         self.layer = nn.Sequential(\n",
        "#             nn.Linear(512, 512),\n",
        "#             nn.ReLU(),\n",
        "\n",
        "#             nn.Linear(512, 512),\n",
        "#             nn.ReLU(),\n",
        "\n",
        "#             nn.Linear(512, 10),\n",
        "#         )\n",
        "\n",
        "#     def forward(self, h):\n",
        "#         c = self.layer(h)\n",
        "#         return c\n",
        "\n",
        "# class DomainClassifier(nn.Module):\n",
        "\n",
        "#     def __init__(self):\n",
        "#         super(DomainClassifier, self).__init__()\n",
        "\n",
        "#         self.layer = nn.Sequential(\n",
        "#             nn.Linear(512, 512),\n",
        "#             nn.BatchNorm1d(512),\n",
        "#             nn.ReLU(),\n",
        "\n",
        "#             nn.Linear(512, 512),\n",
        "#             nn.BatchNorm1d(512),\n",
        "#             nn.ReLU(),\n",
        "\n",
        "#             nn.Linear(512, 512),\n",
        "#             nn.BatchNorm1d(512),\n",
        "#             nn.ReLU(),\n",
        "\n",
        "#             nn.Linear(512, 512),\n",
        "#             nn.BatchNorm1d(512),\n",
        "#             nn.ReLU(),\n",
        "\n",
        "#             nn.Linear(512, 1),\n",
        "#         )\n",
        "\n",
        "#     def forward(self, h):\n",
        "#         y = self.layer(h)\n",
        "#         return y"
      ],
      "execution_count": null,
      "outputs": []
    },
    {
      "cell_type": "markdown",
      "metadata": {
        "id": "SkgJQ6xhsaOf",
        "colab_type": "text"
      },
      "source": [
        "Mine 我改善的模型架構"
      ]
    },
    {
      "cell_type": "code",
      "metadata": {
        "id": "ufuCqLjJsb9y",
        "colab_type": "code",
        "colab": {}
      },
      "source": [
        "class FeatureExtractor(nn.Module):\n",
        "\n",
        "    def __init__(self):\n",
        "        super(FeatureExtractor, self).__init__()\n",
        "\n",
        "        self.conv = nn.Sequential(\n",
        "            nn.Conv2d(1, 64, 5, 1, 2),\n",
        "            nn.BatchNorm2d(64),\n",
        "            nn.ReLU(),\n",
        "            # nn.LeakyReLU(negative_slope=0.01, inplace=False),\n",
        "            # nn.MaxPool2d(2, 2, 0),\n",
        "\n",
        "            nn.Conv2d(64, 128, 3, 1, 1),\n",
        "            nn.BatchNorm2d(128),\n",
        "            nn.ReLU(),\n",
        "            # nn.LeakyReLU(negative_slope=0.01, inplace=False),\n",
        "            # nn.MaxPool2d(2, 2, 0),\n",
        "\n",
        "            nn.Conv2d(128, 256, 3, 1, 1),\n",
        "            nn.BatchNorm2d(256),\n",
        "            nn.ReLU(),\n",
        "            # nn.LeakyReLU(negative_slope=0.01, inplace=False),\n",
        "            nn.MaxPool2d(2, 2, 0),\n",
        "\n",
        "            nn.Conv2d(256, 256, 3, 1, 1),\n",
        "            nn.BatchNorm2d(256),\n",
        "            nn.ReLU(),\n",
        "            # nn.LeakyReLU(negative_slope=0.01, inplace=False),\n",
        "            nn.MaxPool2d(2, 2, 0),\n",
        "\n",
        "            nn.Conv2d(256, 512, 3, 1, 1),\n",
        "            nn.BatchNorm2d(512),\n",
        "            nn.ReLU(),\n",
        "            # nn.LeakyReLU(negative_slope=0.01, inplace=False),\n",
        "            nn.MaxPool2d(2, 2, 0),\n",
        "\n",
        "            nn.Conv2d(512, 512, 3, 1, 1), # [512, 8, 8] ps.padding 後從 8 => 10，再從 10-3+1 = 8\n",
        "            nn.BatchNorm2d(512),\n",
        "            nn.ReLU(),\n",
        "            # nn.LeakyReLU(negative_slope=0.01, inplace=False),\n",
        "            nn.MaxPool2d(2, 2, 0),       # \n",
        "\n",
        "            nn.Conv2d(512, 512, 3, 1, 1), # \n",
        "            nn.BatchNorm2d(512),\n",
        "            nn.ReLU(),\n",
        "            # nn.LeakyReLU(negative_slope=0.01, inplace=False),\n",
        "            nn.MaxPool2d(2, 2, 0) \n",
        "        )          \n",
        "    \n",
        "    # 先看torch.squeeze() 這個函數主要對數據的維度進行壓縮，去掉維數為1的的維度，比如是一行或者一列這種，\n",
        "    # 一個一行三列（1,3）的數去掉第一個維數為一的維度之後就變成（3）行。 squeeze(a)就是將a中所有為1的維度刪掉。\n",
        "    # 不為1的維度沒有影響。 a.squeeze(N) 就是去掉a中指定的維數為一的維度。還有一種形式就是b=torch.squeeze(a，N) a中去掉指定的定的維數為一的維度。\n",
        "\n",
        "    def forward(self, x):\n",
        "        x = self.conv(x).squeeze()\n",
        "        return x\n",
        "\n",
        "class LabelPredictor(nn.Module):\n",
        "\n",
        "    def __init__(self):\n",
        "        super(LabelPredictor, self).__init__()\n",
        "\n",
        "        self.layer = nn.Sequential(\n",
        "            nn.Linear(512, 512),\n",
        "            nn.ReLU(),\n",
        "\n",
        "            nn.Linear(512, 512),\n",
        "            nn.ReLU(),\n",
        "\n",
        "            nn.Linear(512, 10),\n",
        "        )\n",
        "\n",
        "    def forward(self, h):\n",
        "        c = self.layer(h)\n",
        "        return c\n",
        "\n",
        "class DomainClassifier(nn.Module):\n",
        "\n",
        "    def __init__(self):\n",
        "        super(DomainClassifier, self).__init__()\n",
        "\n",
        "        self.layer = nn.Sequential(\n",
        "            nn.Linear(512, 512),\n",
        "            nn.BatchNorm1d(512),\n",
        "            nn.ReLU(),\n",
        "\n",
        "            nn.Linear(512, 512),\n",
        "            nn.BatchNorm1d(512),\n",
        "            nn.ReLU(),\n",
        "\n",
        "            nn.Linear(512, 512),\n",
        "            nn.BatchNorm1d(512),\n",
        "            nn.ReLU(),\n",
        "\n",
        "            nn.Linear(512, 512),\n",
        "            nn.BatchNorm1d(512),\n",
        "            nn.ReLU(),\n",
        "\n",
        "            nn.Linear(512, 1),\n",
        "        )\n",
        "\n",
        "    def forward(self, h):\n",
        "        y = self.layer(h)\n",
        "        return y"
      ],
      "execution_count": null,
      "outputs": []
    },
    {
      "cell_type": "markdown",
      "metadata": {
        "id": "lxdBIPhF0Icb",
        "colab_type": "text"
      },
      "source": [
        "# Pre-processing\n",
        "\n",
        "這裡我們選用Adam來當Optimizer。"
      ]
    },
    {
      "cell_type": "markdown",
      "metadata": {
        "id": "yJVQRigV-uT9",
        "colab_type": "text"
      },
      "source": [
        "nn.BCEWithLogitsLoss() 介紹：     \n",
        "https://blog.csdn.net/qq_22210253/article/details/85222093"
      ]
    },
    {
      "cell_type": "code",
      "metadata": {
        "id": "hrxKelBy0PJ7",
        "colab_type": "code",
        "colab": {}
      },
      "source": [
        "feature_extractor = FeatureExtractor().cuda()\n",
        "label_predictor = LabelPredictor().cuda()\n",
        "domain_classifier = DomainClassifier().cuda()\n",
        "\n",
        "# set loss function\n",
        "class_criterion = nn.CrossEntropyLoss()\n",
        "domain_criterion = nn.BCEWithLogitsLoss()\n",
        "\n",
        "# set optimizer\n",
        "optimizer_F = optim.Adam(feature_extractor.parameters())\n",
        "optimizer_C = optim.Adam(label_predictor.parameters())\n",
        "optimizer_D = optim.Adam(domain_classifier.parameters())"
      ],
      "execution_count": null,
      "outputs": []
    },
    {
      "cell_type": "markdown",
      "metadata": {
        "id": "PwDjkB1CgmLm",
        "colab_type": "text"
      },
      "source": [
        "查看參數資料"
      ]
    },
    {
      "cell_type": "code",
      "metadata": {
        "id": "sWc9xL8Jeklp",
        "colab_type": "code",
        "colab": {
          "base_uri": "https://localhost:8080/",
          "height": 693
        },
        "outputId": "78002509-a1af-430d-f5dc-d5aa3933bd03"
      },
      "source": [
        "from torchsummary import summary\n",
        "summary(feature_extractor, input_size=(1, 32, 32))"
      ],
      "execution_count": null,
      "outputs": [
        {
          "output_type": "stream",
          "text": [
            "----------------------------------------------------------------\n",
            "        Layer (type)               Output Shape         Param #\n",
            "================================================================\n",
            "            Conv2d-1           [-1, 64, 32, 32]           1,664\n",
            "       BatchNorm2d-2           [-1, 64, 32, 32]             128\n",
            "              ReLU-3           [-1, 64, 32, 32]               0\n",
            "            Conv2d-4          [-1, 128, 32, 32]          73,856\n",
            "       BatchNorm2d-5          [-1, 128, 32, 32]             256\n",
            "              ReLU-6          [-1, 128, 32, 32]               0\n",
            "            Conv2d-7          [-1, 256, 32, 32]         295,168\n",
            "       BatchNorm2d-8          [-1, 256, 32, 32]             512\n",
            "              ReLU-9          [-1, 256, 32, 32]               0\n",
            "        MaxPool2d-10          [-1, 256, 16, 16]               0\n",
            "           Conv2d-11          [-1, 256, 16, 16]         590,080\n",
            "      BatchNorm2d-12          [-1, 256, 16, 16]             512\n",
            "             ReLU-13          [-1, 256, 16, 16]               0\n",
            "        MaxPool2d-14            [-1, 256, 8, 8]               0\n",
            "           Conv2d-15            [-1, 512, 8, 8]       1,180,160\n",
            "      BatchNorm2d-16            [-1, 512, 8, 8]           1,024\n",
            "             ReLU-17            [-1, 512, 8, 8]               0\n",
            "        MaxPool2d-18            [-1, 512, 4, 4]               0\n",
            "           Conv2d-19            [-1, 512, 4, 4]       2,359,808\n",
            "      BatchNorm2d-20            [-1, 512, 4, 4]           1,024\n",
            "             ReLU-21            [-1, 512, 4, 4]               0\n",
            "        MaxPool2d-22            [-1, 512, 2, 2]               0\n",
            "           Conv2d-23            [-1, 512, 2, 2]       2,359,808\n",
            "      BatchNorm2d-24            [-1, 512, 2, 2]           1,024\n",
            "             ReLU-25            [-1, 512, 2, 2]               0\n",
            "        MaxPool2d-26            [-1, 512, 1, 1]               0\n",
            "================================================================\n",
            "Total params: 6,865,024\n",
            "Trainable params: 6,865,024\n",
            "Non-trainable params: 0\n",
            "----------------------------------------------------------------\n",
            "Input size (MB): 0.00\n",
            "Forward/backward pass size (MB): 13.69\n",
            "Params size (MB): 26.19\n",
            "Estimated Total Size (MB): 39.88\n",
            "----------------------------------------------------------------\n"
          ],
          "name": "stdout"
        }
      ]
    },
    {
      "cell_type": "code",
      "metadata": {
        "id": "DNc5mLTUewD3",
        "colab_type": "code",
        "colab": {}
      },
      "source": [
        "from torchsummary import summary\n",
        "summary(label_predictor, input_size=(2*2, 512))"
      ],
      "execution_count": null,
      "outputs": []
    },
    {
      "cell_type": "code",
      "metadata": {
        "id": "VWrrf5FUexbG",
        "colab_type": "code",
        "colab": {}
      },
      "source": [
        "from torchsummary import summary\n",
        "summary(domain_classifier, input_size=(512, 512))"
      ],
      "execution_count": null,
      "outputs": []
    },
    {
      "cell_type": "markdown",
      "metadata": {
        "id": "xuAE4cqJ0itR",
        "colab_type": "text"
      },
      "source": [
        "# Start Training\n",
        "\n",
        "\n",
        "## 如何實作DaNN?\n",
        "\n",
        "理論上，在原始paper中是加上Gradient Reversal Layer，並將Feature Extractor / Label Predictor / Domain Classifier 一起train，但其實我們也可以交換的train Domain Classfier & Feature Extractor(就像在train GAN的Generator & Discriminator一樣)，這也是可行的。\n",
        "\n",
        "在code實現中，我們採取後者的方式，畢竟大家上個作業就是GAN，應該會比較熟悉:)。\n",
        "\n",
        "## 小提醒\n",
        "* 原文中的lambda(控制Domain Adversarial Loss的係數)是有Adaptive的版本，如果有興趣可以參考[原文](https://arxiv.org/pdf/1505.07818.pdf)。以下為了方便固定設置0.1。\n",
        "* 因為我們完全沒有target的label，所以結果如何，只好丟kaggle看看囉:)?\n",
        "\n",
        "可以增加 acc 的文獻做法：     \n",
        "https://arxiv.org/pdf/1412.3474.pdf"
      ]
    },
    {
      "cell_type": "markdown",
      "metadata": {
        "id": "vtfh7feMB3CV",
        "colab_type": "text"
      },
      "source": [
        "BatchNorm、Relu、Dropout 等的相對順序和 BN、Dropout的問題思考：    \n",
        "https://blog.csdn.net/m0_37870649/article/details/82025238?utm_medium=distribute.pc_relevant.none-task-blog-baidujs-3         \n",
        "BatchNorm 可能的問題：      \n",
        "https://blog.csdn.net/LoseInVain/article/details/86476010"
      ]
    },
    {
      "cell_type": "code",
      "metadata": {
        "id": "lRAFFKvX0p9y",
        "colab_type": "code",
        "colab": {}
      },
      "source": [
        "import time\n",
        "\n",
        "def train_epoch(source_dataloader, target_dataloader, lamb):\n",
        "    '''\n",
        "      Args:\n",
        "        source_dataloader: source data的dataloader\n",
        "        target_dataloader: target data的dataloader\n",
        "        lamb: 調控adversarial的loss係數。\n",
        "    '''\n",
        "\n",
        "    # D loss: Domain Classifier的loss\n",
        "    # F loss: Feature Extrator & Label Predictor的loss\n",
        "    # total_hit: 計算目前對了幾筆 total_num: 目前經過了幾筆\n",
        "    running_D_loss, running_F_loss = 0.0, 0.0\n",
        "    total_hit, total_num = 0.0, 0.0\n",
        "\n",
        "    for i, ((source_data, source_label), (target_data, _)) in enumerate(zip(source_dataloader, target_dataloader)):\n",
        "\n",
        "        source_data = source_data.cuda()\n",
        "        source_label = source_label.cuda()\n",
        "        target_data = target_data.cuda()\n",
        "        \n",
        "        # 我們把source data和target data混在一起，否則batch_norm可能會算錯 (兩邊的data的mean/var不太一樣)\n",
        "        mixed_data = torch.cat([source_data, target_data], dim=0)\n",
        "        domain_label = torch.zeros([source_data.shape[0] + target_data.shape[0], 1]).cuda()\n",
        "        # 設定source data的label為1\n",
        "        domain_label[:source_data.shape[0]] = 1\n",
        "\n",
        "        # Step 1 : 訓練Domain Classifier\n",
        "        feature = feature_extractor(mixed_data)\n",
        "        # 因為我們在Step 1不需要訓練Feature Extractor，所以把feature detach避免loss backprop上去。\n",
        "        domain_logits = domain_classifier(feature.detach())\n",
        "        loss = domain_criterion(domain_logits, domain_label)\n",
        "        running_D_loss+= loss.item()\n",
        "        loss.backward()\n",
        "        optimizer_D.step()\n",
        "\n",
        "        # Step 2 : 訓練Feature Extractor和Domain Classifier\n",
        "        class_logits = label_predictor(feature[:source_data.shape[0]])\n",
        "        domain_logits = domain_classifier(feature)\n",
        "        # loss為原本的class CE - lamb * domain BCE，相減的原因同GAN中的Discriminator中的G loss。\n",
        "        loss = class_criterion(class_logits, source_label) - lamb * domain_criterion(domain_logits, domain_label)\n",
        "        running_F_loss+= loss.item()\n",
        "        loss.backward()\n",
        "        optimizer_F.step()\n",
        "        optimizer_C.step()\n",
        "\n",
        "        optimizer_D.zero_grad()\n",
        "        optimizer_F.zero_grad()\n",
        "        optimizer_C.zero_grad()\n",
        "\n",
        "        total_hit += torch.sum(torch.argmax(class_logits, dim=1) == source_label).item()\n",
        "        total_num += source_data.shape[0]\n",
        "        print(i, end='\\r')\n",
        "\n",
        "    return running_D_loss / (i+1), running_F_loss / (i+1), total_hit / total_num\n",
        "\n",
        "best_acc = 0\n",
        "\n",
        "# TA 訓練200 epochs\n",
        "for epoch in range(300):\n",
        "    training_start_time = time.time()\n",
        "    train_D_loss, train_F_loss, train_acc = train_epoch(source_dataloader, target_dataloader, lamb=0.1)\n",
        "\n",
        "    if(train_acc > best_acc):\n",
        "        torch.save(feature_extractor.state_dict(), f'extractor_model.bin')\n",
        "        torch.save(label_predictor.state_dict(), f'predictor_model.bin')\n",
        "        best_acc = train_acc\n",
        "        print('save model')\n",
        "\n",
        "    print('epoch {:>3d}: train D loss: {:6.4f}, train F loss: {:6.4f}, acc {:6.4f}'.format(epoch, train_D_loss, train_F_loss, train_acc))\n",
        "    print('training cost time =', time.time() - training_start_time, '(sec)', 'best acc =', best_acc)"
      ],
      "execution_count": null,
      "outputs": []
    },
    {
      "cell_type": "code",
      "metadata": {
        "id": "samEmUVpwaZV",
        "colab_type": "code",
        "colab": {}
      },
      "source": [
        "torch.save(feature_extractor.state_dict(), folder_path + f'extractor_model_7.bin')\n",
        "torch.save(label_predictor.state_dict(), folder_path + f'predictor_model_7.bin')"
      ],
      "execution_count": null,
      "outputs": []
    },
    {
      "cell_type": "markdown",
      "metadata": {
        "id": "o8_-0iSSje4w",
        "colab_type": "text"
      },
      "source": [
        "# Inference\n",
        "\n",
        "就跟前幾次作業一樣。這裡我使用pd來生產csv，因為看起來比較潮(?)\n",
        "\n",
        "此外，200 epochs的Accuracy可能會不太穩定，可以多丟幾次或train久一點。"
      ]
    },
    {
      "cell_type": "code",
      "metadata": {
        "id": "Wly5AgH2jePv",
        "colab_type": "code",
        "colab": {
          "base_uri": "https://localhost:8080/",
          "height": 35
        },
        "outputId": "c85c1fa4-4725-404f-f00d-97b9c99c117a"
      },
      "source": [
        "import time\n",
        "\n",
        "label_predictor = LabelPredictor().cuda()\n",
        "feature_extractor = FeatureExtractor().cuda()\n",
        "label_predictor.load_state_dict(torch.load(folder_path + f'predictor_model_7.bin', map_location='cuda'))\n",
        "feature_extractor.load_state_dict(torch.load(folder_path + f'extractor_model_7.bin', map_location='cuda'))\n",
        "\n",
        "result = []\n",
        "label_predictor.eval()\n",
        "feature_extractor.eval()\n",
        "testing_start_time = time.time()\n",
        "for i, (test_data, _) in enumerate(test_dataloader):\n",
        "    test_data = test_data.cuda()\n",
        "\n",
        "    class_logits = label_predictor(feature_extractor(test_data))\n",
        "\n",
        "    x = torch.argmax(class_logits, dim=1).cpu().detach().numpy()\n",
        "    result.append(x)\n",
        "\n",
        "import pandas as pd\n",
        "result = np.concatenate(result)\n",
        "print('testing cost time =', time.time() - testing_start_time, '(sec)')\n",
        "\n",
        "# Generate your submission\n",
        "df = pd.DataFrame({'id': np.arange(0,len(result)), 'label': result})\n",
        "df.to_csv('DaNN_submission.csv',index=False)\n",
        "# print(df)"
      ],
      "execution_count": null,
      "outputs": [
        {
          "output_type": "stream",
          "text": [
            "testing cost time = 118.63016295433044 (sec)\n"
          ],
          "name": "stdout"
        }
      ]
    },
    {
      "cell_type": "code",
      "metadata": {
        "id": "ufL5u8E-kvqC",
        "colab_type": "code",
        "colab": {}
      },
      "source": [
        "from google.colab import files\n",
        "files.download('DaNN_submission.csv') "
      ],
      "execution_count": null,
      "outputs": []
    },
    {
      "cell_type": "markdown",
      "metadata": {
        "id": "ThYOEEbeN6HI",
        "colab_type": "text"
      },
      "source": [
        "## semi-supervised\n",
        "可以更加地使準確率上升"
      ]
    },
    {
      "cell_type": "markdown",
      "metadata": {
        "id": "gRe1MqBNYG9E",
        "colab_type": "text"
      },
      "source": [
        "### testing for target_data "
      ]
    },
    {
      "cell_type": "code",
      "metadata": {
        "id": "pilQLyfGOBP0",
        "colab_type": "code",
        "colab": {
          "base_uri": "https://localhost:8080/",
          "height": 156
        },
        "outputId": "a22640bc-9861-4dd5-b032-fad91bc6aa21"
      },
      "source": [
        "import time\n",
        "\n",
        "label_predictor = LabelPredictor().cuda()\n",
        "feature_extractor = FeatureExtractor().cuda()\n",
        "label_predictor.load_state_dict(torch.load(folder_path + f'predictor_model_7.bin', map_location='cuda'))\n",
        "feature_extractor.load_state_dict(torch.load(folder_path + f'extractor_model_7.bin', map_location='cuda'))\n",
        "\n",
        "labeled_target_data = []\n",
        "labeled_target_label = []\n",
        "threshold = 0.999\n",
        "\n",
        "label_predictor.eval()\n",
        "feature_extractor.eval()\n",
        "soft_testing_start_time = time.time()\n",
        "\n",
        "with torch.no_grad(): #不佔用 GPU\n",
        "# target_data batch_size = 64\n",
        "    for i, (target_data, _) in enumerate(target_dataloader):\n",
        "        target_data = target_data.cuda()\n",
        "\n",
        "        class_logits = label_predictor(feature_extractor(target_data))\n",
        "        temp = nn.Softmax(dim=1)\n",
        "        class_logits = temp(class_logits)\n",
        "\n",
        "        x = torch.argmax(class_logits, dim=1).cpu().detach().numpy()\n",
        "        max_values, max_indices = torch.max(class_logits, dim = 1)[0].cpu().detach().numpy(), torch.max(class_logits,dim = 1)[1].cpu().detach().numpy()\n",
        "\n",
        "        labeled_target_data.extend(target_data[max_values > threshold, :, :, :])\n",
        "        labeled_target_label.extend(max_indices[max_values > threshold])\n",
        "\n",
        "        if(i%300 == 0):\n",
        "            print('target_data_{}'.format(i) + '_done')\n",
        "\n",
        "print('soft_testing cost time =', time.time() - soft_testing_start_time, '(sec)')\n",
        "print(len(labeled_target_data))"
      ],
      "execution_count": null,
      "outputs": [
        {
          "output_type": "stream",
          "text": [
            "target_data_0_done\n",
            "target_data_300_done\n",
            "target_data_600_done\n",
            "target_data_900_done\n",
            "target_data_1200_done\n",
            "target_data_1500_done\n",
            "soft_testing cost time = 56.72210669517517 (sec)\n",
            "52314\n"
          ],
          "name": "stdout"
        }
      ]
    },
    {
      "cell_type": "code",
      "metadata": {
        "id": "thjvYzz62zr7",
        "colab_type": "code",
        "colab": {
          "base_uri": "https://localhost:8080/",
          "height": 283
        },
        "outputId": "36e3f82a-5943-4024-c85e-0091af331420"
      },
      "source": [
        "plt.hist(labeled_target_label)\n",
        "plt.show()\n",
        "print('num of labeled_target_label =', len(labeled_target_label))"
      ],
      "execution_count": null,
      "outputs": [
        {
          "output_type": "display_data",
          "data": {
            "image/png": "[encoded data removed]",
            "text/plain": [
              "<Figure size 432x288 with 1 Axes>"
            ]
          },
          "metadata": {
            "tags": [],
            "needs_background": "light"
          }
        },
        {
          "output_type": "stream",
          "text": [
            "num of labeled_target_label = 52314\n"
          ],
          "name": "stdout"
        }
      ]
    },
    {
      "cell_type": "markdown",
      "metadata": {
        "id": "vBV2hm30YT3r",
        "colab_type": "text"
      },
      "source": [
        "### get the confident target_data as new training_data"
      ]
    },
    {
      "cell_type": "code",
      "metadata": {
        "id": "Z-6VQ0J_zozD",
        "colab_type": "code",
        "colab": {}
      },
      "source": [
        "def make_weights_for_balanced_classes(images, nclasses):                        \n",
        "    count = [0] * nclasses                                                  \n",
        "    for item in images:                                                         \n",
        "        count[item[1]] += 1                                                     \n",
        "    weight_per_class = [0.] * nclasses                                      \n",
        "    N = float(sum(count))                                                   \n",
        "    for i in range(nclasses):                                                   \n",
        "        weight_per_class[i] = N/float(count[i])                                 \n",
        "    weight = [0] * len(images)                                              \n",
        "    for idx, val in enumerate(images):                                          \n",
        "        weight[idx] = weight_per_class[val[1]]                                  \n",
        "    return weight "
      ],
      "execution_count": null,
      "outputs": []
    },
    {
      "cell_type": "code",
      "metadata": {
        "id": "O7jykQiRo0jl",
        "colab_type": "code",
        "colab": {}
      },
      "source": [
        "soft_label_dataset = [(data.cpu(), label) for data, label in zip(labeled_target_data, labeled_target_label)]\n",
        "semi_dataset = []\n",
        "semi_dataset.extend(soft_label_dataset)\n",
        "semi_dataloader = DataLoader(semi_dataset, batch_size = 256, shuffle=True)"
      ],
      "execution_count": null,
      "outputs": []
    },
    {
      "cell_type": "code",
      "metadata": {
        "id": "8W5Rq9plz3RJ",
        "colab_type": "code",
        "colab": {}
      },
      "source": [
        "workers = 5\n",
        "weights = make_weights_for_balanced_classes(soft_label_dataset, 10)                                                                \n",
        "weights = torch.DoubleTensor(weights)                                       \n",
        "sampler = torch.utils.data.sampler.WeightedRandomSampler(weights, len(weights))                                    \n",
        "train_loader = torch.utils.data.DataLoader(semi_dataset, batch_size=256, sampler = sampler, num_workers=workers, pin_memory=True)"
      ],
      "execution_count": null,
      "outputs": []
    },
    {
      "cell_type": "code",
      "metadata": {
        "id": "RD6zLy9C0C8I",
        "colab_type": "code",
        "colab": {
          "base_uri": "https://localhost:8080/",
          "height": 265
        },
        "outputId": "b81e87ea-f1b0-45d6-e9bd-d1951f9edaba"
      },
      "source": [
        "balanced_label = []\n",
        "for i, data in enumerate(train_loader):\n",
        "  balanced_label.extend(data[1].numpy())\n",
        "plt.hist(balanced_label); \n",
        "plt.show()"
      ],
      "execution_count": null,
      "outputs": [
        {
          "output_type": "display_data",
          "data": {
            "image/png": "[encoded data removed]",
            "text/plain": [
              "<Figure size 432x288 with 1 Axes>"
            ]
          },
          "metadata": {
            "tags": [],
            "needs_background": "light"
          }
        }
      ]
    },
    {
      "cell_type": "markdown",
      "metadata": {
        "id": "wjEf5_BUbyIx",
        "colab_type": "text"
      },
      "source": [
        "### set classifer model"
      ]
    },
    {
      "cell_type": "code",
      "metadata": {
        "id": "HICp5F01Urd1",
        "colab_type": "code",
        "colab": {}
      },
      "source": [
        "# # best_model\n",
        "# 我本來自己疊的架構，但發現沒有比較好，可以使用下面那個來訓練\n",
        "\n",
        "# class Classifier(nn.Module):\n",
        "#     def __init__(self):\n",
        "#         super(Classifier, self).__init__()\n",
        "#         self.cnn = nn.Sequential(\n",
        "\n",
        "#             nn.Conv2d(1, 64, 3, 1, 1), \n",
        "#             nn.BatchNorm2d(64),\n",
        "#             nn.ReLU(),\n",
        "#             # nn.MaxPool2d(2, 2, 0),      \n",
        "\n",
        "#             nn.Conv2d(64, 128, 3, 1, 1), \n",
        "#             nn.BatchNorm2d(128),\n",
        "#             nn.ReLU(),\n",
        "#             nn.MaxPool2d(2, 2, 0),     \n",
        "\n",
        "#             nn.Conv2d(128, 256, 3, 1, 1),\n",
        "#             nn.BatchNorm2d(256),\n",
        "#             nn.ReLU(),\n",
        "#             nn.MaxPool2d(2, 2, 0),       \n",
        "\n",
        "#             nn.Conv2d(256, 512, 3, 1, 1), \n",
        "#             nn.BatchNorm2d(512),\n",
        "#             nn.ReLU(),\n",
        "#             nn.MaxPool2d(2, 2, 0),      \n",
        "            \n",
        "#             nn.Conv2d(512, 512, 3, 1, 1), \n",
        "#             nn.BatchNorm2d(512),\n",
        "#             nn.ReLU(),\n",
        "#             nn.MaxPool2d(2, 2, 0),  \n",
        "\n",
        "#             nn.Conv2d(512, 512, 3, 1, 1), \n",
        "#             nn.BatchNorm2d(512),\n",
        "#             nn.ReLU(),\n",
        "#             nn.MaxPool2d(2, 2, 0),      \n",
        "#         )\n",
        "#         self.fc = nn.Sequential(\n",
        "#             # flatten\n",
        "#             nn.Linear(512*1*1, 256),\n",
        "#             nn.ReLU(),\n",
        "#             nn.Dropout2d(0.5),\n",
        "\n",
        "#             nn.Linear(256, 128),\n",
        "#             nn.ReLU(),\n",
        "#             nn.Dropout2d(0.5),\n",
        "            \n",
        "#             nn.Linear(128, 10)\n",
        "#         )\n",
        "\n",
        "#     def forward(self, x):\n",
        "#         out = self.cnn(x)\n",
        "#         out = out.view(out.size()[0], -1)\n",
        "#         return self.fc(out)"
      ],
      "execution_count": null,
      "outputs": []
    },
    {
      "cell_type": "code",
      "metadata": {
        "id": "iFxQUAH61I43",
        "colab_type": "code",
        "colab": {}
      },
      "source": [
        "# str\n",
        "# 可以過 strong baseline 的 model\n",
        "\n",
        "drop_rate = 0.5\n",
        "class Classifier(nn.Module):\n",
        "    def __init__(self):\n",
        "        super(Classifier, self).__init__()\n",
        "        # torch.nn.Conv2d(in_channels, out_channels, kernel_size, stride, padding)\n",
        "        # torch.nn.MaxPool2d(kernel_size, stride, padding)\n",
        "        # input 維度 [3, 128, 128] \n",
        "        # [1,256,256]\n",
        "        self.cnn = nn.Sequential( \n",
        "            nn.Conv2d(1, 64, 3, 1, 1),  \n",
        "            nn.BatchNorm2d(64),\n",
        "            nn.ReLU(),\n",
        "            nn.MaxPool2d(2, 2, 0),      \n",
        "\n",
        "            nn.Conv2d(64, 128, 3, 1, 1),\n",
        "            nn.BatchNorm2d(128),\n",
        "            nn.ReLU(),\n",
        "            nn.MaxPool2d(2, 2, 0),     \n",
        "\n",
        "            nn.Conv2d(128, 256, 3, 1, 1), \n",
        "            nn.BatchNorm2d(256),\n",
        "            nn.ReLU(),\n",
        "            nn.MaxPool2d(2, 2, 0),     \n",
        "            nn.Conv2d(256, 512, 3, 1, 1), \n",
        "            nn.BatchNorm2d(512),\n",
        "            nn.MaxPool2d(2, 2, 0), \n",
        "            nn.ReLU(),\n",
        "\n",
        "            nn.Conv2d(512, 512, 3, 1, 1),\n",
        "            nn.BatchNorm2d(512),\n",
        "            nn.MaxPool2d(2, 2, 0), \n",
        "            nn.ReLU(),\n",
        "          \n",
        "        )\n",
        "        self.fc = nn.Sequential( \n",
        "            nn.Linear(128*2*2, 256),  \n",
        "            nn.ReLU(),\n",
        "            nn.Dropout2d(drop_rate),\n",
        "            nn.Linear(256, 128),\n",
        "            nn.ReLU(),\n",
        "            nn.Dropout2d(drop_rate),\n",
        "            nn.Linear(128, 10)\n",
        "        )\n",
        "\n",
        "    def forward(self, x):\n",
        "        out = self.cnn(x)\n",
        "        out = out.view(out.size()[0], -1)\n",
        "        return self.fc(out)"
      ],
      "execution_count": null,
      "outputs": []
    },
    {
      "cell_type": "code",
      "metadata": {
        "id": "7S3xu0LkiKYD",
        "colab_type": "code",
        "colab": {}
      },
      "source": [
        "model = Classifier().cuda()\n",
        "from torchsummary import summary\n",
        "summary(model, input_size=(1, 32, 32))"
      ],
      "execution_count": null,
      "outputs": []
    },
    {
      "cell_type": "markdown",
      "metadata": {
        "id": "d0lXkaD_b1Z5",
        "colab_type": "text"
      },
      "source": [
        "### training"
      ]
    },
    {
      "cell_type": "code",
      "metadata": {
        "id": "5Fe6nSYVZxSe",
        "colab_type": "code",
        "colab": {
          "base_uri": "https://localhost:8080/",
          "height": 191
        },
        "outputId": "3bc21f3d-2082-475e-b9ef-f53f47caccdc"
      },
      "source": [
        "model = Classifier().cuda()\n",
        "\n",
        "loss = nn.CrossEntropyLoss() # 因為是 classification task，所以 loss 使用 CrossEntropyLoss\n",
        "# optimizer = torch.optim.Adam(model.parameters(), lr=0.001) # optimizer 使用 Adam\n",
        "optimizer = torch.optim.SGD(model.parameters(), lr=0.01, momentum = 0.02)\n",
        "num_epoch = 3\n",
        "best_acc = 0\n",
        "batch_size = 256\n",
        "\n",
        "for epoch in range(num_epoch):\n",
        "    epoch_start_time = time.time()\n",
        "    train_acc = 0.0\n",
        "    train_loss = 0.0\n",
        "\n",
        "    model.train() # 確保 model 是在 train model (開啟 Dropout 等...)\n",
        "    for i, data in enumerate(train_loader):\n",
        "        # if (epoch < -1):\n",
        "        #     optimizer = torch.optim.Adam(model.parameters(), lr=0.001) # optimizer 使用 Adam\n",
        "        # else:\n",
        "        #     optimizer = torch.optim.SGD(model.parameters(), lr=0.001, momentum = 0.2) # optimizer 使用 SGD\n",
        "        optimizer.zero_grad() # 用 optimizer 將 model 參數的 gradient 歸零\n",
        "        train_pred = model(data[0].cuda()) # 利用 model 得到預測的機率分佈 這邊實際上就是去呼叫 model 的 forward 函數\n",
        "        batch_loss = loss(train_pred, data[1].cuda()) # 計算 loss （注意 prediction 跟 label 必須同時在 CPU 或是 GPU 上）\n",
        "        batch_loss.backward() # 利用 back propagation 算出每個參數的 gradient\n",
        "        optimizer.step() # 以 optimizer 用 gradient 更新參數值\n",
        "\n",
        "        train_acc += np.sum(np.argmax(train_pred.cpu().data.numpy(), axis=1) == data[1].numpy())\n",
        "        train_loss += batch_loss.item()\n",
        "\n",
        "        #將結果 print 出來\n",
        "    if(train_acc > best_acc):\n",
        "        best_acc = train_acc\n",
        "        print('save model')\n",
        "        torch.save(model.state_dict(), 'final_semi_model.bin')\n",
        "\n",
        "    print('epoch =', epoch + 1, ' cost_time =', time.time() - epoch_start_time)\n",
        "    print('acc =', train_acc/len(balanced_label), ' loss =', train_loss/len(balanced_label), ' best_acc =', best_acc/len(balanced_label))\n",
        "        \n",
        "print('best_acc =', best_acc/len(balanced_label))\n",
        "# 注意這裡不用訓練太多次，以免 overfitting"
      ],
      "execution_count": null,
      "outputs": [
        {
          "output_type": "stream",
          "text": [
            "save model\n",
            "epoch = 1  cost_time = 7.069637298583984\n",
            "acc = 0.5141835837443132  loss = 0.005995080806421761  best_acc = 0.5141835837443132\n",
            "save model\n",
            "epoch = 2  cost_time = 7.048750162124634\n",
            "acc = 0.8055587414458845  loss = 0.0025886028250792243  best_acc = 0.8055587414458845\n",
            "save model\n",
            "epoch = 3  cost_time = 7.0642006397247314\n",
            "acc = 0.873437320793669  loss = 0.0016944263768897043  best_acc = 0.873437320793669\n",
            "best_acc = 0.873437320793669\n"
          ],
          "name": "stdout"
        }
      ]
    },
    {
      "cell_type": "code",
      "metadata": {
        "id": "nxjcuOs3RMGp",
        "colab_type": "code",
        "colab": {}
      },
      "source": [
        "# save model\n",
        "model_name = 'str.bin'\n",
        "torch.save(model.state_dict(), folder_path + model_name) #先 train 一輪少 epoch"
      ],
      "execution_count": null,
      "outputs": []
    },
    {
      "cell_type": "markdown",
      "metadata": {
        "id": "U2mGGYPD4UFg",
        "colab_type": "text"
      },
      "source": [
        "### testing"
      ]
    },
    {
      "cell_type": "code",
      "metadata": {
        "id": "29INPP1C2BVQ",
        "colab_type": "code",
        "colab": {
          "base_uri": "https://localhost:8080/",
          "height": 35
        },
        "outputId": "c18830a0-0a50-4fc9-bb81-bb2697be18b2"
      },
      "source": [
        "import time\n",
        "\n",
        "model_name = 'str.bin'\n",
        "model = Classifier().cuda()\n",
        "model.load_state_dict(torch.load(folder_path + model_name, map_location='cuda'))\n",
        "\n",
        "model.eval()\n",
        "result = []\n",
        "testing_start_time = time.time()\n",
        "with torch.no_grad():\n",
        "    for i, (test_data, _) in enumerate(test_dataloader):\n",
        "        test_pred = model(test_data.cuda())\n",
        "        # test_label = np.argmax(test_pred.cpu().data.numpy(), axis=1)\n",
        "        # for y in test_label:\n",
        "        #     prediction.append(y)\n",
        "\n",
        "        x = torch.argmax(test_pred, dim=1).cpu().detach().numpy()\n",
        "        result.append(x)\n",
        "\n",
        "import pandas as pd\n",
        "result = np.concatenate(result)\n",
        "print('testing cost time =', time.time() - testing_start_time, '(sec)')\n",
        "\n",
        "# Generate your submission\n",
        "prediction_name = 'str.csv'\n",
        "df = pd.DataFrame({'id': np.arange(0,len(result)), 'label': result})\n",
        "df.to_csv(prediction_name, index=False)\n",
        "# print(df)"
      ],
      "execution_count": null,
      "outputs": [
        {
          "output_type": "stream",
          "text": [
            "testing cost time = 50.53427219390869 (sec)\n"
          ],
          "name": "stdout"
        }
      ]
    },
    {
      "cell_type": "code",
      "metadata": {
        "id": "tR3ldnqK6ouh",
        "colab_type": "code",
        "colab": {
          "base_uri": "https://localhost:8080/",
          "height": 265
        },
        "outputId": "73179d10-1615-4d2c-eabe-5b90550c1cff"
      },
      "source": [
        "plt.hist(result)\n",
        "plt.show()"
      ],
      "execution_count": null,
      "outputs": [
        {
          "output_type": "display_data",
          "data": {
            "image/png": "[encoded data removed]",
            "text/plain": [
              "<Figure size 432x288 with 1 Axes>"
            ]
          },
          "metadata": {
            "tags": [],
            "needs_background": "light"
          }
        }
      ]
    },
    {
      "cell_type": "code",
      "metadata": {
        "id": "-wRnAN6D4Pur",
        "colab_type": "code",
        "colab": {}
      },
      "source": [
        "from google.colab import files\n",
        "files.download(prediction_name) "
      ],
      "execution_count": null,
      "outputs": []
    },
    {
      "cell_type": "markdown",
      "metadata": {
        "id": "xTgU16t4LG7O",
        "colab_type": "text"
      },
      "source": [
        "## 二次 semi\n",
        "因為當時怎麼樣都無法有更好的準確率，因此我再做一次 semi-suprevised，讀者可以當參考就好"
      ]
    },
    {
      "cell_type": "code",
      "metadata": {
        "id": "7FnhzDmGDYXL",
        "colab_type": "code",
        "colab": {
          "base_uri": "https://localhost:8080/",
          "height": 156
        },
        "outputId": "1a763eac-aee6-49f3-ef81-5fef4ca8c597"
      },
      "source": [
        "import time\n",
        "labeled_target_data_1 = []\n",
        "labeled_target_label_1 = []\n",
        "\n",
        "\n",
        "model = Classifier().cuda()\n",
        "# model.load_state_dict(torch.load(folder_path + model_name, map_location='cuda'))\n",
        "model.load_state_dict(torch.load('final_semi_model.bin', map_location='cuda')) # 讀者可能要注意且改一下檔名才可以跑喔\n",
        "\n",
        "model.eval()\n",
        "threshold = 0.8\n",
        "testing_start_time = time.time()\n",
        "with torch.no_grad():\n",
        "    for i, (target_data, _) in enumerate(target_dataloader):\n",
        "        class_logits = model(target_data.cuda())\n",
        "        temp = nn.Softmax(dim=1)\n",
        "        class_logits = temp(class_logits)\n",
        "        max_values, max_indices = torch.max(class_logits, dim = 1)[0].cpu().detach().numpy(), torch.max(class_logits,dim = 1)[1].cpu().detach().numpy()\n",
        "\n",
        "        labeled_target_data_1.extend(target_data[max_values > threshold, :, :, :])\n",
        "        labeled_target_label_1.extend(max_indices[max_values > threshold])\n",
        "\n",
        "        if(i%300 == 0):\n",
        "            print('target_data_{}'.format(i) + '_done')\n",
        "\n",
        "print('soft_testing cost time =', time.time() - soft_testing_start_time, '(sec)')\n",
        "print(len(labeled_target_data_1))"
      ],
      "execution_count": null,
      "outputs": [
        {
          "output_type": "stream",
          "text": [
            "target_data_0_done\n",
            "target_data_300_done\n",
            "target_data_600_done\n",
            "target_data_900_done\n",
            "target_data_1200_done\n",
            "target_data_1500_done\n",
            "soft_testing cost time = 1778.7707171440125 (sec)\n",
            "41306\n"
          ],
          "name": "stdout"
        }
      ]
    },
    {
      "cell_type": "code",
      "metadata": {
        "id": "dHFwcj5KGoy_",
        "colab_type": "code",
        "colab": {
          "base_uri": "https://localhost:8080/",
          "height": 283
        },
        "outputId": "dd6f592c-fc75-4ef4-d0d5-05da932da4f3"
      },
      "source": [
        "plt.hist(labeled_target_label_1)\n",
        "plt.show()\n",
        "print('num of labeled_target_label =', len(labeled_target_label_1))"
      ],
      "execution_count": null,
      "outputs": [
        {
          "output_type": "display_data",
          "data": {
            "image/png": "[encoded data removed]",
            "text/plain": [
              "<Figure size 432x288 with 1 Axes>"
            ]
          },
          "metadata": {
            "tags": [],
            "needs_background": "light"
          }
        },
        {
          "output_type": "stream",
          "text": [
            "num of labeled_target_label = 41306\n"
          ],
          "name": "stdout"
        }
      ]
    },
    {
      "cell_type": "code",
      "metadata": {
        "id": "cpW2hV4MIbTN",
        "colab_type": "code",
        "colab": {}
      },
      "source": [
        "soft_label_dataset = [(data.cpu(), label) for data, label in zip(labeled_target_data_1, labeled_target_label_1)]\n",
        "semi_dataset = []\n",
        "semi_dataset.extend(soft_label_dataset)\n",
        "semi_dataloader = DataLoader(semi_dataset, batch_size = 256, shuffle=True)"
      ],
      "execution_count": null,
      "outputs": []
    },
    {
      "cell_type": "code",
      "metadata": {
        "id": "ExTWQLJSIes-",
        "colab_type": "code",
        "colab": {}
      },
      "source": [
        "workers = 5\n",
        "weights = make_weights_for_balanced_classes(soft_label_dataset, 10)                                                                \n",
        "weights = torch.DoubleTensor(weights)                                       \n",
        "sampler = torch.utils.data.sampler.WeightedRandomSampler(weights, len(weights))                                    \n",
        "train_loader = torch.utils.data.DataLoader(semi_dataset, batch_size=256, sampler = sampler, num_workers=workers, pin_memory=True)"
      ],
      "execution_count": null,
      "outputs": []
    },
    {
      "cell_type": "code",
      "metadata": {
        "id": "JmhiVa9cIjpH",
        "colab_type": "code",
        "colab": {
          "base_uri": "https://localhost:8080/",
          "height": 265
        },
        "outputId": "cfbd2e72-b161-4eac-84bd-50ce665cf830"
      },
      "source": [
        "balanced_label = []\n",
        "for i, data in enumerate(train_loader):\n",
        "  balanced_label.extend(data[1].numpy())\n",
        "plt.hist(balanced_label); \n",
        "plt.show()"
      ],
      "execution_count": null,
      "outputs": [
        {
          "output_type": "display_data",
          "data": {
            "image/png": "[encoded data removed]",
            "text/plain": [
              "<Figure size 432x288 with 1 Axes>"
            ]
          },
          "metadata": {
            "tags": [],
            "needs_background": "light"
          }
        }
      ]
    },
    {
      "cell_type": "code",
      "metadata": {
        "id": "8UcF_QzFI3gB",
        "colab_type": "code",
        "colab": {
          "base_uri": "https://localhost:8080/",
          "height": 87
        },
        "outputId": "de26b4da-519d-4dce-8565-aaa948dedfb9"
      },
      "source": [
        "model = Classifier().cuda()\n",
        "\n",
        "loss = nn.CrossEntropyLoss() # 因為是 classification task，所以 loss 使用 CrossEntropyLoss\n",
        "# optimizer = torch.optim.Adam(model.parameters(), lr=0.001) # optimizer 使用 Adam\n",
        "optimizer = torch.optim.SGD(model.parameters(), lr=0.01, momentum = 0.02)\n",
        "num_epoch = 1\n",
        "best_acc = 0\n",
        "batch_size = 256\n",
        "\n",
        "for epoch in range(num_epoch):\n",
        "    epoch_start_time = time.time()\n",
        "    train_acc = 0.0\n",
        "    train_loss = 0.0\n",
        "\n",
        "    model.train() # 確保 model 是在 train model (開啟 Dropout 等...)\n",
        "    for i, data in enumerate(train_loader):\n",
        "        # if (epoch < -1):\n",
        "        #     optimizer = torch.optim.Adam(model.parameters(), lr=0.001) # optimizer 使用 Adam\n",
        "        # else:\n",
        "        #     optimizer = torch.optim.SGD(model.parameters(), lr=0.001, momentum = 0.2) # optimizer 使用 SGD\n",
        "        optimizer.zero_grad() # 用 optimizer 將 model 參數的 gradient 歸零\n",
        "        train_pred = model(data[0].cuda()) # 利用 model 得到預測的機率分佈 這邊實際上就是去呼叫 model 的 forward 函數\n",
        "        batch_loss = loss(train_pred, data[1].cuda()) # 計算 loss （注意 prediction 跟 label 必須同時在 CPU 或是 GPU 上）\n",
        "        batch_loss.backward() # 利用 back propagation 算出每個參數的 gradient\n",
        "        optimizer.step() # 以 optimizer 用 gradient 更新參數值\n",
        "\n",
        "        train_acc += np.sum(np.argmax(train_pred.cpu().data.numpy(), axis=1) == data[1].numpy())\n",
        "        train_loss += batch_loss.item()\n",
        "\n",
        "        #將結果 print 出來\n",
        "    if(train_acc > best_acc):\n",
        "        best_acc = train_acc\n",
        "        print('save model')\n",
        "        torch.save(model.state_dict(), 'final_semi_model.bin')\n",
        "\n",
        "    print('epoch =', epoch + 1, ' cost_time =', time.time() - epoch_start_time)\n",
        "    print('acc =', train_acc/len(balanced_label), ' loss =', train_loss/len(balanced_label), ' best_acc =', best_acc/len(balanced_label))\n",
        "        \n",
        "print('best_acc =', best_acc/len(balanced_label))"
      ],
      "execution_count": null,
      "outputs": [
        {
          "output_type": "stream",
          "text": [
            "save model\n",
            "epoch = 1  cost_time = 18.3885235786438\n",
            "acc = 0.6695153246501719  loss = 0.004607642592457035  best_acc = 0.6695153246501719\n",
            "best_acc = 0.6695153246501719\n"
          ],
          "name": "stdout"
        }
      ]
    },
    {
      "cell_type": "code",
      "metadata": {
        "id": "ufr3gCihI6fv",
        "colab_type": "code",
        "colab": {
          "base_uri": "https://localhost:8080/",
          "height": 35
        },
        "outputId": "c7b2bab6-1440-484e-8287-50a4e5c5f5a6"
      },
      "source": [
        "import time\n",
        "\n",
        "model = Classifier().cuda()\n",
        "# model.load_state_dict(torch.load(folder_path + model_name, map_location='cuda'))\n",
        "model.load_state_dict(torch.load('final_semi_model.bin', map_location='cuda'))\n",
        "\n",
        "model.eval()\n",
        "result = []\n",
        "testing_start_time = time.time()\n",
        "with torch.no_grad():\n",
        "    for i, (test_data, _) in enumerate(test_dataloader):\n",
        "        test_pred = model(test_data.cuda())\n",
        "        # test_label = np.argmax(test_pred.cpu().data.numpy(), axis=1)\n",
        "        # for y in test_label:\n",
        "        #     prediction.append(y)\n",
        "\n",
        "        x = torch.argmax(test_pred, dim=1).cpu().detach().numpy()\n",
        "        result.append(x)\n",
        "\n",
        "import pandas as pd\n",
        "result = np.concatenate(result)\n",
        "print('testing cost time =', time.time() - testing_start_time, '(sec)')\n",
        "\n",
        "# Generate your submission\n",
        "prediction_name = 'qq.csv'\n",
        "df = pd.DataFrame({'id': np.arange(0,len(result)), 'label': result})\n",
        "df.to_csv(prediction_name, index=False)\n",
        "# print(df)"
      ],
      "execution_count": null,
      "outputs": [
        {
          "output_type": "stream",
          "text": [
            "testing cost time = 48.87177515029907 (sec)\n"
          ],
          "name": "stdout"
        }
      ]
    },
    {
      "cell_type": "code",
      "metadata": {
        "id": "XeDQXgfdKl7_",
        "colab_type": "code",
        "colab": {
          "base_uri": "https://localhost:8080/",
          "height": 265
        },
        "outputId": "07c106ad-d740-4e1e-8f09-dad55b2e6a8a"
      },
      "source": [
        "plt.hist(result)\n",
        "plt.show()"
      ],
      "execution_count": null,
      "outputs": [
        {
          "output_type": "display_data",
          "data": {
            "image/png": "[encoded data removed]",
            "text/plain": [
              "<Figure size 432x288 with 1 Axes>"
            ]
          },
          "metadata": {
            "tags": [],
            "needs_background": "light"
          }
        }
      ]
    },
    {
      "cell_type": "markdown",
      "metadata": {
        "id": "ME6MJgCH-8oc",
        "colab_type": "text"
      },
      "source": [
        "## 使用 PCA 降維 (報告第二、第三題)"
      ]
    },
    {
      "cell_type": "markdown",
      "metadata": {
        "id": "xu_Q2KWP_NKM",
        "colab_type": "text"
      },
      "source": [
        "PCA: 首先計算 training data 的 principle component，將 testing data 投影在這些 component 上，再將這些投影重建回原先 space 的向量。對重建的圖片和原圖計算 MSE，inlier data 的數值應該較 outlier 的數值為小。"
      ]
    },
    {
      "cell_type": "code",
      "metadata": {
        "id": "gH2GO0GGBAWJ",
        "colab_type": "code",
        "colab": {
          "base_uri": "https://localhost:8080/",
          "height": 52
        },
        "outputId": "750dee9d-2ec5-439a-e976-a9e19d294c51"
      },
      "source": [
        "source_data_list = []\n",
        "target_data_list = []\n",
        "source_data_DANN_list = []\n",
        "target_data_DANN_list = []\n",
        "\n",
        "# before DANN\n",
        "for i, ((source_data, _), (target_data, _)) in enumerate(zip(source_dataloader, target_dataloader)):\n",
        "    source_data_list.extend(source_data.cuda())\n",
        "    target_data_list.extend(target_data.cuda())\n",
        "print('finish before DANN')\n",
        "\n",
        "# after DANN\n",
        "# label_predictor = LabelPredictor().cuda()\n",
        "feature_extractor = FeatureExtractor().cuda()\n",
        "# label_predictor.load_state_dict(torch.load(folder_path + f'predictor_model_1.bin', map_location='cuda'))\n",
        "feature_extractor.load_state_dict(torch.load(folder_path + f'extractor_model_6.bin', map_location='cuda'))\n",
        "\n",
        "# label_predictor.eval()\n",
        "feature_extractor.eval()\n",
        "with torch.no_grad():\n",
        "    for i, ((source_data, _), (target_data, _)) in enumerate(zip(source_dataloader, target_dataloader)):\n",
        "\n",
        "        source_class_logits = feature_extractor(source_data.cuda())\n",
        "        target_class_logits = feature_extractor(target_data.cuda())\n",
        "        # source_class_logits = source_class_logits.reshape(-1, 512, 1, 1)\n",
        "        # target_class_logits = target_class_logits.reshape(-1, 512, 1, 1)\n",
        "        source_data_DANN_list.extend(source_class_logits)\n",
        "        target_data_DANN_list.extend(target_class_logits)\n",
        "\n",
        "print('finish after DANN')"
      ],
      "execution_count": null,
      "outputs": [
        {
          "output_type": "stream",
          "text": [
            "finish before DANN\n",
            "finish after DANN\n"
          ],
          "name": "stdout"
        }
      ]
    },
    {
      "cell_type": "code",
      "metadata": {
        "id": "KUZ4q-46BgnV",
        "colab_type": "code",
        "colab": {
          "base_uri": "https://localhost:8080/",
          "height": 87
        },
        "outputId": "901fab63-90fb-40f9-bf93-8ce00f26ae6b"
      },
      "source": [
        "source_temp_1 = source_data_list[0].cpu().detach().numpy()\n",
        "for i in range(1, len(source_data_list)):\n",
        "    stemp_1 = source_data_list[i].cpu().detach().numpy()\n",
        "    source_temp_1 = np.append(stemp_1, source_temp_1, axis=0)\n",
        "print('finish source_temp_1')\n",
        "\n",
        "target_temp_1 = target_data_list[0].cpu().detach().numpy()\n",
        "for i in range(1, len(target_data_list)):\n",
        "    ttemp_1 = target_data_list[i].cpu().detach().numpy()\n",
        "    target_temp_1 = np.append(ttemp_1, target_temp_1, axis=0)\n",
        "print('finish target_temp_1')\n",
        "\n",
        "source_temp_2 = source_data_DANN_list[0].cpu().detach().numpy()\n",
        "for i in range(1, len(source_data_DANN_list)):\n",
        "    # source_data_DANN_list[i] = source_data_DANN_list[i].reshape(512, 8, 8)\n",
        "    stemp_2 = source_data_DANN_list[i].cpu().detach().numpy()\n",
        "    source_temp_2 = np.append(stemp_2, source_temp_2, axis = 0)\n",
        "print('finish source_temp_2')\n",
        "\n",
        "target_temp_2 = target_data_DANN_list[0].cpu().detach().numpy()\n",
        "for i in range(1, len(target_data_DANN_list)):\n",
        "    # target_data_DANN_list[i] = target_data_DANN_list[i].reshape(512, 1, 1)\n",
        "    ttemp_2 = target_data_DANN_list[i].cpu().detach().numpy()\n",
        "    target_temp_2 = np.append(ttemp_2, target_temp_2, axis = 0)\n",
        "print('finish target_temp_2')"
      ],
      "execution_count": null,
      "outputs": [
        {
          "output_type": "stream",
          "text": [
            "finish source_temp_1\n",
            "finish target_temp_1\n",
            "finish source_temp_2\n",
            "finish target_temp_2\n"
          ],
          "name": "stdout"
        }
      ]
    },
    {
      "cell_type": "code",
      "metadata": {
        "id": "AzH66Qhi91MC",
        "colab_type": "code",
        "colab": {}
      },
      "source": [
        "# 變成合適維度\n",
        "# source_temp_2 = source_temp_2.transpose((0, 2, 1))\n",
        "# source_temp_2 = source_temp_2.reshape(5000, 512, 1, 1)\n",
        "source_temp_2 = source_temp_2.reshape(5000, -1)\n",
        "# target_temp_2 = target_temp_2.transpose((1, 2, 0))\n",
        "# target_temp_2 = target_temp_2.reshape(5056, 512, 1, 1)\n",
        "target_temp_2 = target_temp_2.reshape(5056, -1)"
      ],
      "execution_count": null,
      "outputs": []
    },
    {
      "cell_type": "code",
      "metadata": {
        "id": "DGn_yTQl-_6V",
        "colab_type": "code",
        "colab": {}
      },
      "source": [
        "from sklearn.decomposition import PCA\n",
        "\n",
        "task = 'pca'\n",
        "\n",
        "if task == 'pca':\n",
        "\n",
        "    x_1 = source_temp_1.reshape(len(source_temp_1), -1)\n",
        "    y_1 = target_temp_1.reshape(len(target_temp_1), -1)\n",
        "    x_2 = source_temp_2.reshape(len(source_temp_2), -1)\n",
        "    y_2 = target_temp_2.reshape(len(target_temp_2), -1)\n",
        "    xy_1 = np.append(x_1, y_1, axis=0)\n",
        "    xy_2 = np.append(x_2, y_2, axis=0)\n",
        "\n",
        "    # sklearn.decomposition.PCA(n_components=None, copy=True, whiten=False)\n",
        "    # n_components:  \n",
        "    # 意義：PCA算法中所要保留的主成分個數n，也即保留下來的特徵個數n\n",
        "    # 類型：int 或者 string，缺省時默認為None，所有成分被保留。\n",
        "    #           賦值為int，比如n_components=1，將把原始數據降到一個維度。\n",
        "    #           賦值為string，比如n_components='mle'，將自動選取特徵個數n，使得滿足所要求的方差百分比。\n",
        "\n",
        "    # copy:\n",
        "    # 類型：bool，True或者False，缺省時默認為True。\n",
        "    # 意義：表示是否在運行算法時，將原始訓練數據複製一份。若為True，則運行PCA算法後，原始訓練數據的值不會有任何改變，\n",
        "    # 因為是在原始數據的副本上進行運算；若為False，則運行PCA算法後，原始訓練數據的值會改，因為是在原始數據上進行降維計算。\n",
        "\n",
        "    # whiten:\n",
        "    # 類型：bool，缺省時默認為False\n",
        "    # 意義：白化，使得每個特徵具有相同的方差\n",
        "\n",
        "    pca_st1 = PCA(n_components=2, random_state = 0).fit(xy_1) #不同 random state 一樣(?\n",
        "\n",
        "    pca_st2 = PCA(n_components=2, random_state = 0).fit(xy_2) #不同 random state 一樣(?\n",
        "\n",
        "    # Transform(): Method using these calculated parameters apply the transformation to a particular dataset.\n",
        "    # 解釋：在Fit的基礎上，進行標準化，降維，歸一化等操作（看具體用的是哪個工具，如PCA，StandardScaler等）。\n",
        "    x_1_projected = pca_st1.transform(x_1)\n",
        "    y_1_projected = pca_st1.transform(y_1)\n",
        "\n",
        "    x_2_projected = pca_st2.transform(x_2)\n",
        "    y_2_projected = pca_st2.transform(y_2)  "
      ],
      "execution_count": null,
      "outputs": []
    },
    {
      "cell_type": "markdown",
      "metadata": {
        "id": "Nf5wh_sW_Vv5",
        "colab_type": "text"
      },
      "source": [
        "畫出降維圖"
      ]
    },
    {
      "cell_type": "code",
      "metadata": {
        "id": "GBHq_34A_JGR",
        "colab_type": "code",
        "colab": {
          "base_uri": "https://localhost:8080/",
          "height": 513
        },
        "outputId": "4c18b510-651c-47b6-f4fd-a5f5340c3355"
      },
      "source": [
        "import matplotlib.pyplot as plt\n",
        "plt.figure(figsize=(12, 8))\n",
        "plt.subplot(1, 2, 1)\n",
        "plt.plot(x_1_projected[:, 0], x_1_projected[:, 1], 'ro',color = 'b', markersize = 1, label = 'source_data')\n",
        "plt.plot(y_1_projected[:, 0], y_1_projected[:, 1], 'ro',color = 'm', markersize = 1, label = 'target_data')\n",
        "plt.title('PCA_before_DANN')\n",
        "plt.xlabel('X')\n",
        "plt.ylabel('Y')\n",
        "plt.legend()\n",
        "\n",
        "plt.subplot(2, 2, 2)\n",
        "plt.plot(x_2_projected[:, 0], x_2_projected[:, 1], 'ro',color = 'b', markersize = 1, label = 'source_data')\n",
        "plt.plot(y_2_projected[:, 0], y_2_projected[:, 1], 'ro',color = 'm', markersize = 1, label = 'target_data')\n",
        "plt.title('PCA_after_DANN')\n",
        "plt.xlabel('X')\n",
        "plt.ylabel('Y')\n",
        "plt.legend()\n",
        "\n",
        "plt.show()"
      ],
      "execution_count": null,
      "outputs": [
        {
          "output_type": "display_data",
          "data": {
            "image/png": "[encoded data removed]",
            "text/plain": [
              "<Figure size 864x576 with 2 Axes>"
            ]
          },
          "metadata": {
            "tags": [],
            "needs_background": "light"
          }
        }
      ]
    },
    {
      "cell_type": "markdown",
      "metadata": {
        "id": "s6UfXzef-wNl",
        "colab_type": "text"
      },
      "source": [
        "# Q&A\n",
        "\n",
        "有任何問題Domain Adaptation的問題可以寄信到b05902127@ntu.edu.tw / ntu-ml-2020spring-ta@googlegroups.com。\n",
        "\n",
        "時間允許的話我會更新在這裡。\n",
        "\n",
        "# Special Thanks\n",
        "這次的作業其實是我出在2019FALL的ML Final Project，以下是我認為在Final Report不錯的幾組，有興趣的話歡迎大家參考看看。\n",
        "\n",
        "[NTU_r08942071_太神啦 / 組長: 劉正仁同學](https://drive.google.com/open?id=11uNDcz7_eMS8dMQxvnWsbrdguu9k4c-c)\n",
        "\n",
        "[NTU_r08921a08_CAT / 組長: 廖子毅同學](https://drive.google.com/open?id=1xIkSs8HAShdcfV1E0NEnf4JDbL7POZTf)\n"
      ]
    }
  ]
}