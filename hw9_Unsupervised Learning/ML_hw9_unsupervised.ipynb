{
  "nbformat": 4,
  "nbformat_minor": 0,
  "metadata": {
    "colab": {
      "name": "ML_hw9_unsupervised.ipynb",
      "provenance": [],
      "collapsed_sections": []
    },
    "kernelspec": {
      "name": "python3",
      "display_name": "Python 3"
    },
    "accelerator": "GPU"
  },
  "cells": [
    {
      "cell_type": "markdown",
      "metadata": {
        "id": "ECgurMUG79BD",
        "colab_type": "text"
      },
      "source": [
        "## **goal**\n",
        "\n",
        "----- strong baseline -----\n",
        "0.66423        \n",
        "----- simple baseline -----\n",
        "0.75788    \n",
        "助教的 code: original: 0.25389/ invert:   0.74611\n"
      ]
    },
    {
      "cell_type": "markdown",
      "metadata": {
        "id": "r1_Q26m0LN2r",
        "colab_type": "text"
      },
      "source": [
        "This is the tutorial of **Image Clustering**\n",
        "<br>\n",
        "If you want to skip the **training** phase, please refer to the **clustering** section directly.\n",
        "<br>\n",
        "**Training** required sections:  Prepare Training Data, Model, Training\n",
        "<br>\n",
        "**Clustering** required sections: Prepare Training Data, Model, Dimension Reduction & Clustering"
      ]
    },
    {
      "cell_type": "markdown",
      "metadata": {
        "id": "GUyppmxhsgJg",
        "colab_type": "text"
      },
      "source": [
        "同學們也可以利用提供的wget指令下載訓練資料，並自行mount到雲端資料夾上，如作業一所示。這邊就不再贅述<br>\n",
        "作業的第一部分是要訓練一個autoencoder以抽取好的圖片表徵，第二部分則是將抽出來的表徵降維到二維，以便我們利用分群的方法獲得我們的答案<br>"
      ]
    },
    {
      "cell_type": "code",
      "metadata": {
        "id": "rZoo7-cQEkT2",
        "colab_type": "code",
        "colab": {}
      },
      "source": [
        "folder_path = './'"
      ],
      "execution_count": null,
      "outputs": []
    },
    {
      "cell_type": "markdown",
      "metadata": {
        "id": "br18nlnhJ7cr",
        "colab_type": "text"
      },
      "source": [
        "# Download Dataset"
      ]
    },
    {
      "cell_type": "code",
      "metadata": {
        "id": "Vjd8-9s3J6oE",
        "colab_type": "code",
        "colab": {}
      },
      "source": [
        "# !gdown --id '1BZb2AqOHHaad7Mo82St1qTBaXo_xtcUc' --output trainX.npy \n",
        "# !gdown --id '152NKCpj8S_zuIx3bQy0NN5oqpvBjdPIq' --output valX.npy \n",
        "# !gdown --id '1_hRGsFtm5KEazUg2ZvPZcuNScGF-ANh4' --output valY.npy \n",
        "# 改成自己的雲端路徑，以免助教雲端爛掉\n",
        "\n",
        "!gdown --id '124c2tw4Dw7b5opkOivgNcm2Awna8zEK9' --output trainX.npy \n",
        "!gdown --id '1xjy02Up6DKrv2XIsjCdTYSSdR_hq0-Fj' --output valX.npy \n",
        "!gdown --id '1KaD7b87-ahYIw3tKB5OZBzCpwUnbehsg' --output valY.npy \n",
        "!mkdir checkpoints\n",
        "!ls"
      ],
      "execution_count": null,
      "outputs": []
    },
    {
      "cell_type": "markdown",
      "metadata": {
        "id": "w8WjVvaONQ-m",
        "colab_type": "text"
      },
      "source": [
        "# Prepare Training Data"
      ]
    },
    {
      "cell_type": "markdown",
      "metadata": {
        "id": "NrIsy5olK1sH",
        "colab_type": "text"
      },
      "source": [
        "定義我們的 preprocess：將圖片的數值介於 0~255 的 int 線性轉為 -1～1 的 float。"
      ]
    },
    {
      "cell_type": "code",
      "metadata": {
        "id": "xXTyAnhzHzHP",
        "colab_type": "code",
        "colab": {}
      },
      "source": [
        "import numpy as np\n",
        "\n",
        "def preprocess(image_list):\n",
        "    \"\"\" Normalize Image and Permute (N,H,W,C) to (N,C,H,W)\n",
        "    Args:\n",
        "      image_list: List of images (9000, 32, 32, 3)\n",
        "    Returns:\n",
        "      image_list: List of images (9000, 3, 32, 32)\n",
        "    \"\"\"\n",
        "    image_list = np.array(image_list)\n",
        "    image_list = np.transpose(image_list, (0, 3, 1, 2))\n",
        "    #原本的 0 在同個位置，1 在 2 的位置，2 在 3 的位置，3 在 1 的位置\n",
        "    image_list = (image_list / 255.0) * 2 - 1\n",
        "    image_list = image_list.astype(np.float32)\n",
        "    return image_list"
      ],
      "execution_count": null,
      "outputs": []
    },
    {
      "cell_type": "code",
      "metadata": {
        "id": "qj_hairpGhLj",
        "colab_type": "code",
        "colab": {}
      },
      "source": [
        "from torch.utils.data import Dataset\n",
        "\n",
        "class Image_Dataset(Dataset):\n",
        "    def __init__(self, image_list):\n",
        "        self.image_list = image_list\n",
        "    def __len__(self):\n",
        "        return len(self.image_list)\n",
        "    def __getitem__(self, idx):\n",
        "        images = self.image_list[idx]\n",
        "        return images"
      ],
      "execution_count": null,
      "outputs": []
    },
    {
      "cell_type": "markdown",
      "metadata": {
        "id": "8EvJPEeGLgt7",
        "colab_type": "text"
      },
      "source": [
        "將訓練資料讀入，並且 preprocess。\n",
        "之後我們將 preprocess 完的訓練資料變成我們需要的 dataset。請同學不要使用 valX 和 valY 來訓練。"
      ]
    },
    {
      "cell_type": "code",
      "metadata": {
        "id": "G_tMv9S5oqn9",
        "colab_type": "code",
        "colab": {}
      },
      "source": [
        "import torch\n",
        "from torch.utils.data import DataLoader\n",
        "import torchvision.transforms as transforms\n",
        "\n",
        "trainX = np.load('trainX.npy')\n",
        "valX = np.load('valX.npy')\n",
        "valY = np.load('valY.npy')\n",
        "\n",
        "trainX_preprocessed = preprocess(trainX) #處理圖片\n",
        "img_dataset = Image_Dataset(trainX_preprocessed) #形成新的 class"
      ],
      "execution_count": null,
      "outputs": []
    },
    {
      "cell_type": "markdown",
      "metadata": {
        "id": "Z64cTA5jaNtg",
        "colab_type": "text"
      },
      "source": [
        "# Some useful functions\n"
      ]
    },
    {
      "cell_type": "markdown",
      "metadata": {
        "id": "wCtxq6GSL4tq",
        "colab_type": "text"
      },
      "source": [
        "這邊提供一些有用的 functions。\n",
        "一個是計算 model 參數量的（report 會用到），另一個是固定訓練的隨機種子（以便 reproduce）。"
      ]
    },
    {
      "cell_type": "code",
      "metadata": {
        "id": "KWJNJs-UaUFb",
        "colab_type": "code",
        "colab": {}
      },
      "source": [
        "import random\n",
        "import torch\n",
        "\n",
        "# 計算參數量\n",
        "def count_parameters(model, only_trainable=False):\n",
        "    if only_trainable:\n",
        "        return sum(p.numel() for p in model.parameters() if p.requires_grad)\n",
        "    else:\n",
        "        return sum(p.numel() for p in model.parameters())\n",
        "\n",
        "# 固定隨機種子\n",
        "def same_seeds(seed):\n",
        "    torch.manual_seed(seed)\n",
        "    if torch.cuda.is_available():\n",
        "        torch.cuda.manual_seed(seed)\n",
        "        torch.cuda.manual_seed_all(seed)  # if you are using multi-GPU.\n",
        "    np.random.seed(seed)  # Numpy module.\n",
        "    random.seed(seed)  # Python random module.\n",
        "    torch.backends.cudnn.benchmark = False\n",
        "    torch.backends.cudnn.deterministic = True\n"
      ],
      "execution_count": null,
      "outputs": []
    },
    {
      "cell_type": "markdown",
      "metadata": {
        "id": "O_ZuRV_dNjhD",
        "colab_type": "text"
      },
      "source": [
        "# Model"
      ]
    },
    {
      "cell_type": "markdown",
      "metadata": {
        "id": "0mxBEwGYMSjm",
        "colab_type": "text"
      },
      "source": [
        "定義我們的 baseline autoeocoder。"
      ]
    },
    {
      "cell_type": "code",
      "metadata": {
        "id": "dci5VCIuQwvI",
        "colab_type": "code",
        "colab": {}
      },
      "source": [
        "# 助教的\n",
        "import torch.nn as nn\n",
        "\n",
        "class AE(nn.Module):\n",
        "    def __init__(self):\n",
        "        super(AE, self).__init__()\n",
        "        \n",
        "        self.encoder = nn.Sequential(\n",
        "        # torch.nn.Conv2d(in_channels, out_channels, kernel_size, stride, padding)\n",
        "        # torch.nn.MaxPool2d(kernel_size, stride, padding)\n",
        "        # input 維度 [3, 32, 32]\n",
        "            nn.Conv2d(3, 64, 3, stride=1, padding=1),     # [64, 32, 32] ps.padding 後從 32 => 34，再從 34-3+1 = 32\n",
        "            nn.ReLU(True),\n",
        "            nn.MaxPool2d(2),                              # [64, 16, 16] 32/2 = 16\n",
        "            nn.Conv2d(64, 128, 3, stride=1, padding=1),   # [128, 16, 16] ps.padding 後從 16 => 18，再從 18-3+1 = 16\n",
        "            nn.ReLU(True),\n",
        "            nn.MaxPool2d(2),                              # [128, 8, 8] 16/2 = 8\n",
        "            nn.Conv2d(128, 256, 3, stride=1, padding=1),  # [256, 8, 8] ps.padding 後從 8 => 10，再從 10-3+1 = 8\n",
        "            nn.ReLU(True),\n",
        "            nn.MaxPool2d(2)                               # [256, 4, 4] 8/2 = 4\n",
        "        )\n",
        "\n",
        "        # nn.ConvTranspose2d(in_channels, out_channels, kernel_size, stride=1, padding=0, output_padding=0, groups=1, bias=True, dilation=1)\n",
        "        self.decoder = nn.Sequential(\n",
        "            nn.ConvTranspose2d(256, 128, 5, stride=1),    # [128, 8, 8]   (2+4+2)\n",
        "            nn.ReLU(True),\n",
        "            nn.ConvTranspose2d(128, 64, 9, stride=1),     # [64, 16, 16]  (4+8+4)\n",
        "            nn.ReLU(True),\n",
        "            nn.ConvTranspose2d(64, 3, 17, stride=1),      # [3, 32, 32]   (8+16+8)\n",
        "            nn.Tanh()\n",
        "        )\n",
        "\n",
        "    def forward(self, x):\n",
        "        x1 = self.encoder(x)\n",
        "        x  = self.decoder(x1)\n",
        "        return x1, x"
      ],
      "execution_count": null,
      "outputs": []
    },
    {
      "cell_type": "code",
      "metadata": {
        "id": "P_YaW39moFfe",
        "colab_type": "code",
        "colab": {}
      },
      "source": [
        "# 我的\n",
        "# 也就是最後 summit 的架構\n",
        "import torch.nn as nn\n",
        "\n",
        "class AE(nn.Module):      \n",
        "    def __init__(self):\n",
        "        super(AE, self).__init__()\n",
        "        # torch.nn.Conv2d(in_channels, out_channels, kernel_size, stride, padding)\n",
        "        # torch.nn.MaxPool2d(kernel_size, stride, padding)\n",
        "        # input 維度 [3, 32, 32]\n",
        "        self.encoder = nn.Sequential(\n",
        "            nn.Conv2d(3, 64, 5, 1, 2),  # [64, 32, 32] ps.padding 後從 32 => 36，再從 36-5+1 = 32\n",
        "            nn.BatchNorm2d(64),\n",
        "            # 2D Normalization\n",
        "            # class torch.nn.BatchNorm2d(num_features, eps=1e-05, momentum=0.1, affine=True)，\n",
        "            nn.ReLU(),\n",
        "            nn.MaxPool2d(2, 2, 0),        # [64, 16, 16] 32/2 = 16\n",
        "\n",
        "            nn.Conv2d(64, 128, 3, 1, 1), # [128, 16, 16] ps.padding 後從 16 => 18，再從 18-3+1 = 16\n",
        "            nn.BatchNorm2d(128),\n",
        "            nn.ReLU(),\n",
        "            nn.MaxPool2d(2, 2, 0),        # [128, 8, 8] 16/2= 8\n",
        "            \n",
        "            nn.Conv2d(128, 256, 3, 1, 1), # [256, 8, 8] ps.padding 後從 8 => 10，再從 10-3+1 = 8\n",
        "            nn.BatchNorm2d(256),\n",
        "            nn.ReLU(),\n",
        "            nn.MaxPool2d(2, 2, 0),       # [256, 4, 4] 8/2= 4\n",
        "\n",
        "            nn.Conv2d(256, 512, 3, 1, 1), # [512, 4, 4] ps.padding 後從 4 => 6，再從 6-3+1 = 4\n",
        "            nn.BatchNorm2d(512),\n",
        "            nn.ReLU(),\n",
        "            nn.MaxPool2d(2, 2, 0)        # [512, 2, 2] 4/2= 2\n",
        "        )\n",
        "\n",
        "        # nn.ConvTranspose2d(in_channels, out_channels, kernel_size, stride=1, padding=0, output_padding=0, groups=1, bias=True, dilation=1)\n",
        "        self.decoder = nn.Sequential(\n",
        "            nn.ConvTranspose2d(512, 128, 7, stride=1),    # [256, 8, 8]     (3+2+3)\n",
        "            nn.ReLU(True),\n",
        "            # nn.ConvTranspose2d(256, 128, 5, stride=1),    # [128, 12, 12]   (2+8+2)\n",
        "            # nn.ReLU(True),\n",
        "            nn.ConvTranspose2d(128, 64, 9, stride=1),     # [64, 16, 16]    (4+8+4)\n",
        "            nn.ReLU(True),\n",
        "            nn.ConvTranspose2d(64, 3, 17, stride=1),      # [3, 32, 32]       (8+16+8)\n",
        "            nn.Tanh()\n",
        "        )\n",
        "    def forward(self, x):\n",
        "        x1 = self.encoder(x)\n",
        "        x  = self.decoder(x1)\n",
        "        return x1, x"
      ],
      "execution_count": null,
      "outputs": []
    },
    {
      "cell_type": "markdown",
      "metadata": {
        "id": "gqw3NFgTFt8y",
        "colab_type": "text"
      },
      "source": [
        "查看參數量 (TA: Total params: 1,909,251)"
      ]
    },
    {
      "cell_type": "code",
      "metadata": {
        "id": "QDypFrSYsKue",
        "colab_type": "code",
        "colab": {}
      },
      "source": [
        "model = AE().cuda()\n",
        "\n",
        "from torchsummary import summary\n",
        "summary(model, input_size=(3, 32, 32))"
      ],
      "execution_count": null,
      "outputs": []
    },
    {
      "cell_type": "code",
      "metadata": {
        "id": "WbSy97kjQgEo",
        "colab_type": "code",
        "colab": {
          "base_uri": "https://localhost:8080/",
          "height": 295
        },
        "outputId": "7adbeec1-c3d1-4707-d886-1d165feff42a"
      },
      "source": [
        "!nvidia-smi"
      ],
      "execution_count": null,
      "outputs": [
        {
          "output_type": "stream",
          "text": [
            "Sat May 16 07:03:54 2020       \n",
            "+-----------------------------------------------------------------------------+\n",
            "| NVIDIA-SMI 440.82       Driver Version: 418.67       CUDA Version: 10.1     |\n",
            "|-------------------------------+----------------------+----------------------+\n",
            "| GPU  Name        Persistence-M| Bus-Id        Disp.A | Volatile Uncorr. ECC |\n",
            "| Fan  Temp  Perf  Pwr:Usage/Cap|         Memory-Usage | GPU-Util  Compute M. |\n",
            "|===============================+======================+======================|\n",
            "|   0  Tesla T4            Off  | 00000000:00:04.0 Off |                    0 |\n",
            "| N/A   66C    P0    29W /  70W |   2819MiB / 15079MiB |      0%      Default |\n",
            "+-------------------------------+----------------------+----------------------+\n",
            "                                                                               \n",
            "+-----------------------------------------------------------------------------+\n",
            "| Processes:                                                       GPU Memory |\n",
            "|  GPU       PID   Type   Process name                             Usage      |\n",
            "|=============================================================================|\n",
            "+-----------------------------------------------------------------------------+\n"
          ],
          "name": "stdout"
        }
      ]
    },
    {
      "cell_type": "markdown",
      "metadata": {
        "id": "mF_7fi7xM5Er",
        "colab_type": "text"
      },
      "source": [
        "# Training"
      ]
    },
    {
      "cell_type": "markdown",
      "metadata": {
        "id": "p8Wr2tNYNgcP",
        "colab_type": "text"
      },
      "source": [
        "這個部分就是主要的訓練階段。\n",
        "我們先將準備好的 dataset 當作參數餵給 dataloader。\n",
        "將 dataloader、model、loss criterion、optimizer 都準備好之後，就可以開始訓練。\n",
        "訓練完成後，我們會將 model 存下來。"
      ]
    },
    {
      "cell_type": "code",
      "metadata": {
        "id": "uKZ9rhK-2b76",
        "colab_type": "code",
        "colab": {}
      },
      "source": [
        "import torch\n",
        "from torch import optim\n",
        "import time\n",
        "\n",
        "same_seeds(0)\n",
        "\n",
        "model = AE().cuda() # 無論是對於模型還是數據，cuda() 函數都能實現從 CPU 到 GPU 的內存遷移，但是他們的作用效果有所不同。\n",
        "\n",
        "criterion = nn.MSELoss()\n",
        "\n",
        "# 均方損失函數：\n",
        "# loss(xi,yi)=(xi−yi)2\n",
        "# 這裡 loss, x, y 的維度是一樣的，可以是向量或者矩陣，i 是下標。\n",
        "# 很多的 loss 函數都有 size_average 和 reduce 兩個布爾類型的參數。因為一般損失函數都是直接計算 batch 的數據，\n",
        "# 因此返回的 loss 結果都是維度為 (batch_size, ) 的向量。\n",
        "# (1)如果 reduce = False，那麼 size_average 參數失效，直接返回向量形式的 loss (sum)\n",
        "# (2)如果 reduce = True，那麼 loss 返回的是標量 (mean)\n",
        "# 注意：默認情況下， reduce = True，size_average = True\n",
        "\n",
        "optimizer = torch.optim.Adam(model.parameters(), lr=1e-5, weight_decay=1e-5)\n",
        "\n",
        "model.train()\n",
        "\n",
        "n_epoch = 100\n",
        "\n",
        "# 準備 dataloader, model, loss criterion 和 optimizer\n",
        "img_dataloader = DataLoader(img_dataset, batch_size=64, shuffle=True)\n",
        "\n",
        "\n",
        "# 主要的訓練過程\n",
        "#上限 30*60 = 1800 sec，每次 epoch cost time 上限 = 1800/n_epoch\n",
        "print('epoch cost time limit =', 30*60/n_epoch)\n",
        "training_start_time = time.time()\n",
        "for epoch in range(n_epoch):\n",
        "    epoch_start_time = time.time()\n",
        "    model.train()\n",
        "    for data in img_dataloader:\n",
        "        img = data\n",
        "        img = img.cuda()\n",
        "\n",
        "        output1, output = model(img)\n",
        "        loss = criterion(output, img)\n",
        "        \n",
        "        optimizer.zero_grad()\n",
        "        loss.backward()\n",
        "        optimizer.step()\n",
        "        if (epoch+1) % 10 == 0: #epoch = 9, 19, 29, 39, 49, 59, 69, 79, 89, 99\n",
        "            torch.save(model.state_dict(), './checkpoints/checkpoint_{}.pth'.format(epoch+1))\n",
        "\n",
        "    print('epoch [{}/{}], loss:{:.5f}'.format(epoch+1, n_epoch, loss.data), '    epoch cost time =', time.time() - epoch_start_time, '(sec)')\n",
        "# 訓練完成後儲存 model\n",
        "torch.save(model.state_dict(), './checkpoints/last_checkpoint.pth')\n",
        "print('training cost time =', time.time() - training_start_time, '(sec)')"
      ],
      "execution_count": null,
      "outputs": []
    },
    {
      "cell_type": "markdown",
      "metadata": {
        "colab_type": "text",
        "id": "HhU5gcRhlTE1"
      },
      "source": [
        "# Dimension Reduction & Clustering"
      ]
    },
    {
      "cell_type": "code",
      "metadata": {
        "id": "jrn7UhtLyB4n",
        "colab_type": "code",
        "colab": {}
      },
      "source": [
        "import numpy as np\n",
        "\n",
        "def cal_acc(gt, pred):\n",
        "    \"\"\" Computes categorization accuracy of our task.\n",
        "    Args:\n",
        "      gt: Ground truth labels (9000, )\n",
        "      pred: Predicted labels (9000, )\n",
        "    Returns:\n",
        "      acc: Accuracy (0~1 scalar)\n",
        "    \"\"\"\n",
        "    # Calculate Correct predictions\n",
        "    correct = np.sum(gt == pred)\n",
        "    acc = correct / gt.shape[0]\n",
        "    # 因為是 binary unsupervised clustering，因此取 max(acc, 1-acc)\n",
        "    return max(acc, 1-acc)"
      ],
      "execution_count": null,
      "outputs": []
    },
    {
      "cell_type": "code",
      "metadata": {
        "id": "hl9skAvMOvSV",
        "colab_type": "code",
        "colab": {}
      },
      "source": [
        "import matplotlib.pyplot as plt\n",
        "\n",
        "def plot_scatter(feat, label, savefig=None):\n",
        "    \"\"\" Plot Scatter Image.\n",
        "    Args:\n",
        "      feat: the (x, y) coordinate of clustering result, shape: (9000, 2)\n",
        "      label: ground truth label of image (0/1), shape: (9000,)\n",
        "    Returns:\n",
        "      None\n",
        "    \"\"\"\n",
        "    X = feat[:, 0]\n",
        "    Y = feat[:, 1]\n",
        "    plt.scatter(X, Y, c = label)\n",
        "    plt.legend(loc='best')\n",
        "    if savefig is not None:\n",
        "        plt.savefig(savefig)\n",
        "    plt.show()\n",
        "    return"
      ],
      "execution_count": null,
      "outputs": []
    },
    {
      "cell_type": "markdown",
      "metadata": {
        "id": "c0QvyGtKOp_p",
        "colab_type": "text"
      },
      "source": [
        "接著我們使用訓練好的 model，來預測 testing data 的類別。\n",
        "\n",
        "由於 testing data 與 training data 一樣，因此我們使用同樣的 dataset 來實作 dataloader。與 training 不同的地方在於 shuffle 這個參數值在這邊是 False。\n",
        "\n",
        "準備好 model 與 dataloader，我們就可以進行預測了。\n",
        "\n",
        "我們只需要 encoder 的結果（latents），利用 latents 進行 clustering 之後，就可以分類了。"
      ]
    },
    {
      "cell_type": "code",
      "metadata": {
        "id": "DBnn6RlncV-j",
        "colab_type": "code",
        "colab": {
          "base_uri": "https://localhost:8080/",
          "height": 151
        },
        "outputId": "c34ae2c1-2905-4a40-ea4c-d2d2101e07d1"
      },
      "source": [
        "import torch\n",
        "from sklearn.decomposition import KernelPCA\n",
        "from sklearn.manifold import TSNE\n",
        "from sklearn.cluster import MiniBatchKMeans # 使用 MiniBatchKMeans\n",
        "from sklearn.cluster import KMeans # 使用 KMeans\n",
        "import time\n",
        "\n",
        "def inference(X, model, batch_size=256):\n",
        "    X = preprocess(X)\n",
        "    dataset = Image_Dataset(X)\n",
        "    dataloader = DataLoader(dataset, batch_size=batch_size, shuffle=False)\n",
        "    latents = []\n",
        "    for i, x in enumerate(dataloader):\n",
        "        x = torch.FloatTensor(x)\n",
        "        vec, img = model(x.cuda())\n",
        "        if i == 0:\n",
        "            latents = vec.view(img.size()[0], -1).cpu().detach().numpy()\n",
        "        else:\n",
        "            latents = np.concatenate((latents, vec.view(img.size()[0], -1).cpu().detach().numpy()), axis = 0)\n",
        "    print('Latents Shape:', latents.shape)\n",
        "    return latents\n",
        "\n",
        "def predict(latents):\n",
        "    # First Dimension Reduction\n",
        "    # transformer = KernelPCA(n_components=200, kernel='rbf', n_jobs=-1) #原本的，沒加 random state\n",
        "    transformer = KernelPCA(n_components=200, kernel='rbf', n_jobs=-1, random_state=0)\n",
        "    kpca = transformer.fit_transform(latents)\n",
        "    print('First Reduction Shape:', kpca.shape)\n",
        "\n",
        "    # # Second Dimesnion Reduction\n",
        "    # X_embedded = TSNE(n_components=2).fit_transform(kpca) #原本的，沒加 random state\n",
        "    X_embedded = TSNE(n_components=2, random_state=0).fit_transform(kpca)\n",
        "    print('Second Reduction Shape:', X_embedded.shape)\n",
        "\n",
        "    # Clustering\n",
        "    # pred = MiniBatchKMeans(n_clusters=2, random_state=0).fit(X_embedded) #使用 MiniBatchKMeans\n",
        "    pred = KMeans(n_clusters=2, random_state=0).fit(X_embedded) #使用 KMeans\n",
        "    pred = [int(i) for i in pred.labels_]\n",
        "    pred = np.array(pred)\n",
        "    return pred, X_embedded\n",
        "\n",
        "def invert(pred):\n",
        "    return np.abs(1-pred)\n",
        "\n",
        "def save_prediction(pred, out_csv='prediction.csv'):\n",
        "    with open(out_csv, 'w') as f:\n",
        "        f.write('id,label\\n')\n",
        "        for i, p in enumerate(pred):\n",
        "            f.write(f'{i},{p}\\n')\n",
        "    print(f'Save prediction to {out_csv}.')\n",
        "\n",
        "testing_start_time = time.time()\n",
        "# load model\n",
        "model = AE().cuda()\n",
        "model.load_state_dict(torch.load('./checkpoints/last_checkpoint.pth'))\n",
        "model.eval()\n",
        "\n",
        "# 準備 data\n",
        "trainX = np.load('trainX.npy')\n",
        "\n",
        "# 預測答案\n",
        "latents = inference(X=trainX, model=model)\n",
        "pred, X_embedded = predict(latents)\n",
        "\n",
        "# 將預測結果存檔，上傳 kaggle\n",
        "save_prediction(pred, 'prediction_last_checkpoint.csv')\n",
        "\n",
        "# 由於是 unsupervised 的二分類問題，我們只在乎有沒有成功將圖片分成兩群\n",
        "# 如果上面的檔案上傳 kaggle 後正確率不足 0.5，只要將 label 反過來就行了\n",
        "save_prediction(invert(pred), 'prediction_invert_last_checkpoint.csv')\n",
        "\n",
        "print('testing cost time =', time.time() - testing_start_time, '(sec)')"
      ],
      "execution_count": null,
      "outputs": [
        {
          "output_type": "stream",
          "text": [
            "Latents Shape: (8500, 2048)\n"
          ],
          "name": "stdout"
        },
        {
          "output_type": "stream",
          "text": [
            "/usr/local/lib/python3.6/dist-packages/sklearn/utils/extmath.py:530: RuntimeWarning: invalid value encountered in multiply\n",
            "  v *= signs[:, np.newaxis]\n"
          ],
          "name": "stderr"
        },
        {
          "output_type": "stream",
          "text": [
            "First Reduction Shape: (8500, 200)\n",
            "Second Reduction Shape: (8500, 2)\n",
            "Save prediction to prediction_1_last_checkpoint_1_kmeans_repro.csv.\n",
            "Save prediction to prediction_invert_1_last_checkpoint_1_kmeans_repro.csv.\n",
            "testing cost time = 194.37093496322632 (sec)\n"
          ],
          "name": "stdout"
        }
      ]
    },
    {
      "cell_type": "markdown",
      "metadata": {
        "id": "snHP0s9kciEn",
        "colab_type": "text"
      },
      "source": [
        "Problem 1.b (作圖)\n",
        "===\n",
        "將 val data 的降維結果 (embedding) 與他們對應的 label 畫出來。"
      ]
    },
    {
      "cell_type": "code",
      "metadata": {
        "id": "iyNe4gUEcAhZ",
        "colab_type": "code",
        "colab": {
          "base_uri": "https://localhost:8080/",
          "height": 369
        },
        "outputId": "cd1a0ac5-09fa-43ee-e72f-b3fc66c72f66"
      },
      "source": [
        "valX = np.load('valX.npy')\n",
        "valY = np.load('valY.npy')\n",
        "\n",
        "# ==============================================\n",
        "#  我們示範 basline model 的作圖，\n",
        "#  report 請同學另外還要再畫一張 improved model 的圖。\n",
        "# ==============================================\n",
        "model.load_state_dict(torch.load('./checkpoints/last_checkpoint.pth'))\n",
        "model.eval()\n",
        "latents = inference(valX, model)\n",
        "pred_from_latent, emb_from_latent = predict(latents)\n",
        "acc_latent = cal_acc(valY, pred_from_latent)\n",
        "print('The clustering accuracy is:', acc_latent)\n",
        "print('The clustering result:')\n",
        "plot_scatter(emb_from_latent, valY, savefig='p1_baseline.png')\n",
        "\n"
      ],
      "execution_count": null,
      "outputs": [
        {
          "output_type": "stream",
          "text": [
            "Latents Shape: (500, 2048)\n",
            "First Reduction Shape: (500, 200)\n"
          ],
          "name": "stdout"
        },
        {
          "output_type": "stream",
          "text": [
            "No handles with labels found to put in legend.\n"
          ],
          "name": "stderr"
        },
        {
          "output_type": "stream",
          "text": [
            "Second Reduction Shape: (500, 2)\n",
            "The clustering accuracy is: 0.778\n",
            "The clustering result:\n"
          ],
          "name": "stdout"
        },
        {
          "output_type": "display_data",
          "data": {
            "image/png": "[encoded data removed]",
            "text/plain": [
              "<Figure size 432x288 with 1 Axes>"
            ]
          },
          "metadata": {
            "tags": [],
            "needs_background": "light"
          }
        }
      ]
    },
    {
      "cell_type": "markdown",
      "metadata": {
        "id": "vd10OPt5cOqi",
        "colab_type": "text"
      },
      "source": [
        "Problem 2\n",
        "===\n",
        "使用你 test accuracy 最高的 autoencoder，從 trainX 中，取出 index 1, 2, 3, 6, 7, 9 這 6 張圖片\n",
        "畫出他們的原圖以及 reconstruct 之後的圖片。\n"
      ]
    },
    {
      "cell_type": "code",
      "metadata": {
        "id": "D1OYYPEqcCpl",
        "colab_type": "code",
        "colab": {
          "base_uri": "https://localhost:8080/",
          "height": 269
        },
        "outputId": "23c8e1cb-af22-4727-e4f3-cefef824a5aa"
      },
      "source": [
        "import matplotlib.pyplot as plt\n",
        "import numpy as np\n",
        "\n",
        "# 畫出原圖\n",
        "plt.figure(figsize=(10,4))\n",
        "indexes = [1,2,3,6,7,9]\n",
        "imgs = trainX[indexes,]\n",
        "for i, img in enumerate(imgs):\n",
        "    plt.subplot(2, 6, i+1, xticks=[], yticks=[])\n",
        "    plt.imshow(img)\n",
        "\n",
        "# 畫出 reconstruct 的圖\n",
        "inp = torch.Tensor(trainX_preprocessed[indexes,]).cuda()\n",
        "latents, recs = model(inp)\n",
        "recs = ((recs+1)/2 ).cpu().detach().numpy()\n",
        "recs = recs.transpose(0, 2, 3, 1)\n",
        "for i, img in enumerate(recs):\n",
        "    plt.subplot(2, 6, 6+i+1, xticks=[], yticks=[])\n",
        "    plt.imshow(img)\n",
        "  \n",
        "plt.tight_layout()"
      ],
      "execution_count": null,
      "outputs": [
        {
          "output_type": "display_data",
          "data": {
            "image/png": "[encoded data removed]",
            "text/plain": [
              "<Figure size 720x288 with 12 Axes>"
            ]
          },
          "metadata": {
            "tags": []
          }
        }
      ]
    },
    {
      "cell_type": "markdown",
      "metadata": {
        "id": "hNhjaEnOcdtR",
        "colab_type": "text"
      },
      "source": [
        "Problem 3\n",
        "===\n",
        "在 autoencoder 的訓練過程中，至少挑選 10 個 checkpoints \n",
        "請用 model 的 train reconstruction error 對 val accuracy 作圖\n",
        "簡單說明你觀察到的現象\n"
      ]
    },
    {
      "cell_type": "code",
      "metadata": {
        "id": "IAc9Ha55cDOr",
        "colab_type": "code",
        "colab": {
          "base_uri": "https://localhost:8080/",
          "height": 1000
        },
        "outputId": "c022a839-a2b5-4bfb-8e94-776c869efb79"
      },
      "source": [
        "import glob\n",
        "# checkpoints_list = sorted(glob.glob('checkpoints/checkpoint_*.pth')) #原本的\n",
        "\n",
        "# 因為 100 會被先讀到，所以用下面方法正確排序\n",
        "checkpoints_list = sorted(glob.glob('./checkpoints/' + 'checkpoint_*.pth'))\n",
        "checkpoints_list.remove('./checkpoints/' + 'checkpoint_100.pth')\n",
        "checkpoints_list.append('./checkpoints/' + 'checkpoint_100.pth')\n",
        "\n",
        "# load data\n",
        "dataset = Image_Dataset(trainX_preprocessed)\n",
        "dataloader = DataLoader(dataset, batch_size=64, shuffle=False)\n",
        "\n",
        "points = []\n",
        "with torch.no_grad():\n",
        "    for i, checkpoint in enumerate(checkpoints_list):\n",
        "        print('[{}/{}] {}'.format(i+1, len(checkpoints_list), checkpoint))\n",
        "        model.load_state_dict(torch.load(checkpoint))\n",
        "        model.eval()\n",
        "        err = 0\n",
        "        n = 0\n",
        "        for x in dataloader:\n",
        "            x = x.cuda()\n",
        "            _, rec = model(x)\n",
        "            err += torch.nn.MSELoss(reduction='sum')(x, rec).item()\n",
        "            n += x.flatten().size(0)\n",
        "        print('Reconstruction error (MSE):', err/n)\n",
        "        latents = inference(X=valX, model=model)\n",
        "        pred, X_embedded = predict(latents)\n",
        "        acc = cal_acc(valY, pred)\n",
        "        print('Accuracy:', acc)\n",
        "        points.append((err/n, acc))\n",
        "\n"
      ],
      "execution_count": null,
      "outputs": [
        {
          "output_type": "stream",
          "text": [
            "[1/10] /content/gdrive/My Drive/junior_2/ML/ML_hw9_dataset/checkpoints/checkpoints_1/checkpoint_10.pth\n",
            "Reconstruction error (MSE): 0.07251839480680577\n",
            "Latents Shape: (500, 2048)\n",
            "First Reduction Shape: (500, 200)\n",
            "Second Reduction Shape: (500, 2)\n",
            "Accuracy: 0.748\n",
            "[2/10] /content/gdrive/My Drive/junior_2/ML/ML_hw9_dataset/checkpoints/checkpoints_1/checkpoint_20.pth\n",
            "Reconstruction error (MSE): 0.05925423988641477\n",
            "Latents Shape: (500, 2048)\n",
            "First Reduction Shape: (500, 200)\n",
            "Second Reduction Shape: (500, 2)\n",
            "Accuracy: 0.78\n",
            "[3/10] /content/gdrive/My Drive/junior_2/ML/ML_hw9_dataset/checkpoints/checkpoints_1/checkpoint_30.pth\n",
            "Reconstruction error (MSE): 0.05237527088090485\n",
            "Latents Shape: (500, 2048)\n",
            "First Reduction Shape: (500, 200)\n",
            "Second Reduction Shape: (500, 2)\n",
            "Accuracy: 0.77\n",
            "[4/10] /content/gdrive/My Drive/junior_2/ML/ML_hw9_dataset/checkpoints/checkpoints_1/checkpoint_40.pth\n",
            "Reconstruction error (MSE): 0.04977538452896418\n",
            "Latents Shape: (500, 2048)\n",
            "First Reduction Shape: (500, 200)\n",
            "Second Reduction Shape: (500, 2)\n",
            "Accuracy: 0.756\n",
            "[5/10] /content/gdrive/My Drive/junior_2/ML/ML_hw9_dataset/checkpoints/checkpoints_1/checkpoint_50.pth\n",
            "Reconstruction error (MSE): 0.04396485016392727\n",
            "Latents Shape: (500, 2048)\n",
            "First Reduction Shape: (500, 200)\n",
            "Second Reduction Shape: (500, 2)\n",
            "Accuracy: 0.754\n",
            "[6/10] /content/gdrive/My Drive/junior_2/ML/ML_hw9_dataset/checkpoints/checkpoints_1/checkpoint_60.pth\n",
            "Reconstruction error (MSE): 0.04181051293541403\n",
            "Latents Shape: (500, 2048)\n",
            "First Reduction Shape: (500, 200)\n",
            "Second Reduction Shape: (500, 2)\n",
            "Accuracy: 0.798\n",
            "[7/10] /content/gdrive/My Drive/junior_2/ML/ML_hw9_dataset/checkpoints/checkpoints_1/checkpoint_70.pth\n",
            "Reconstruction error (MSE): 0.03959488982780307\n",
            "Latents Shape: (500, 2048)\n",
            "First Reduction Shape: (500, 200)\n",
            "Second Reduction Shape: (500, 2)\n",
            "Accuracy: 0.786\n",
            "[8/10] /content/gdrive/My Drive/junior_2/ML/ML_hw9_dataset/checkpoints/checkpoints_1/checkpoint_80.pth\n",
            "Reconstruction error (MSE): 0.03728902764413871\n",
            "Latents Shape: (500, 2048)\n",
            "First Reduction Shape: (500, 200)\n",
            "Second Reduction Shape: (500, 2)\n",
            "Accuracy: 0.728\n",
            "[9/10] /content/gdrive/My Drive/junior_2/ML/ML_hw9_dataset/checkpoints/checkpoints_1/checkpoint_90.pth\n",
            "Reconstruction error (MSE): 0.03547310802983303\n",
            "Latents Shape: (500, 2048)\n",
            "First Reduction Shape: (500, 200)\n",
            "Second Reduction Shape: (500, 2)\n",
            "Accuracy: 0.76\n",
            "[10/10] /content/gdrive/My Drive/junior_2/ML/ML_hw9_dataset/checkpoints/checkpoints_1/checkpoint_100.pth\n",
            "Reconstruction error (MSE): 0.03418296746646657\n",
            "Latents Shape: (500, 2048)\n",
            "First Reduction Shape: (500, 200)\n",
            "Second Reduction Shape: (500, 2)\n",
            "Accuracy: 0.778\n"
          ],
          "name": "stdout"
        }
      ]
    },
    {
      "cell_type": "code",
      "metadata": {
        "id": "_vIXEr5jsFUh",
        "colab_type": "code",
        "colab": {
          "base_uri": "https://localhost:8080/",
          "height": 405
        },
        "outputId": "56084784-8a14-485c-9120-3d868d5d7032"
      },
      "source": [
        "ps = list(zip(*points))\n",
        "plt.figure(figsize=(6,6))\n",
        "plt.subplot(211, title='Reconstruction error (MSE)').plot(ps[0])\n",
        "plt.xlabel('num of epoch = x_label*10 + 10')\n",
        "plt.ylabel('loss')\n",
        "plt.subplot(212, title='Accuracy (val)').plot(ps[1])\n",
        "plt.xlabel('num of epoch = x_label*10 + 10')\n",
        "plt.ylabel('acc')\n",
        "plt.show()"
      ],
      "execution_count": null,
      "outputs": [
        {
          "output_type": "display_data",
          "data": {
            "image/png": "[encoded data removed]",
            "text/plain": [
              "<Figure size 432x432 with 2 Axes>"
            ]
          },
          "metadata": {
            "tags": [],
            "needs_background": "light"
          }
        }
      ]
    }
  ]
}